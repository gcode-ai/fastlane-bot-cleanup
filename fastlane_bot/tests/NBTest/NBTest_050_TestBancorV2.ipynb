{
 "cells": [
  {
   "cell_type": "code",
   "execution_count": 1,
   "id": "84fa264b",
   "metadata": {
    "ExecuteTime": {
     "end_time": "2023-09-18T18:23:32.273050Z",
     "start_time": "2023-09-18T18:23:29.255188Z"
    }
   },
   "outputs": [
    {
     "name": "stdout",
     "output_type": "stream",
     "text": [
      "ConstantProductCurve v3.3.1 (05/Oct/2023)\n",
      "CarbonBot v3-b2.2 (20/June/2023)\n",
      "UniswapV2 v0.0.2 (2023-08-27)\n",
      "UniswapV3 v0.0.2 (2023-08-27)\n",
      "CarbonV1 v0.0.2 (2023-08-27)\n",
      "BancorV3 v0.0.2 (2023-08-27)\n",
      "imported m, np, pd, plt, os, sys, decimal; defined iseq, raises, require\n",
      "Version = 3-b2.2 [requirements >= 3.0 is met]\n"
     ]
    },
    {
     "name": "stderr",
     "output_type": "stream",
     "text": [
      "c:\\Users\\Kveen\\PycharmProjects\\fastlane-bot\\venv_11\\Lib\\site-packages\\tqdm\\auto.py:21: TqdmWarning: IProgress not found. Please update jupyter and ipywidgets. See https://ipywidgets.readthedocs.io/en/stable/user_install.html\n",
      "  from .autonotebook import tqdm as notebook_tqdm\n"
     ]
    }
   ],
   "source": [
    "# coding=utf-8\n",
    "\"\"\"\n",
    "This module contains the tests for the exchanges classes\n",
    "\"\"\"\n",
    "from fastlane_bot import Bot, Config\n",
    "from fastlane_bot.bot import CarbonBot\n",
    "from fastlane_bot.tools.cpc import ConstantProductCurve\n",
    "from fastlane_bot.tools.cpc import ConstantProductCurve as CPC\n",
    "from fastlane_bot.events.exchanges import UniswapV2, UniswapV3,  CarbonV1, BancorV3\n",
    "from fastlane_bot.events.interface import QueryInterface\n",
    "from fastlane_bot.helpers.poolandtokens import PoolAndTokens\n",
    "from fastlane_bot.helpers import TradeInstruction, TxReceiptHandler, TxRouteHandler, TxSubmitHandler, TxHelpers, TxHelper\n",
    "from fastlane_bot.events.managers.manager import Manager\n",
    "from fastlane_bot.events.interface import QueryInterface\n",
    "from joblib import Parallel, delayed\n",
    "from fastlane_bot.tools.cpc import ConstantProductCurve as CPC, CPCContainer, T\n",
    "from dataclasses import dataclass, asdict, field\n",
    "import pytest\n",
    "import math\n",
    "import json\n",
    "print(\"{0.__name__} v{0.__VERSION__} ({0.__DATE__})\".format(CPC))\n",
    "print(\"{0.__name__} v{0.__VERSION__} ({0.__DATE__})\".format(Bot))\n",
    "print(\"{0.__name__} v{0.__VERSION__} ({0.__DATE__})\".format(UniswapV2))\n",
    "print(\"{0.__name__} v{0.__VERSION__} ({0.__DATE__})\".format(UniswapV3))\n",
    "print(\"{0.__name__} v{0.__VERSION__} ({0.__DATE__})\".format(CarbonV1))\n",
    "print(\"{0.__name__} v{0.__VERSION__} ({0.__DATE__})\".format(BancorV3))\n",
    "from fastlane_bot.testing import *\n",
    "#plt.style.use('seaborn-dark')\n",
    "plt.rcParams['figure.figsize'] = [12,6]\n",
    "from fastlane_bot import __VERSION__\n",
    "require(\"3.0\", __VERSION__)"
   ]
  },
  {
   "cell_type": "markdown",
   "id": "4c4e2283",
   "metadata": {},
   "source": [
    "# BancorV2Test [NB050]"
   ]
  },
  {
   "cell_type": "code",
   "execution_count": 2,
   "id": "a51e5ec2",
   "metadata": {
    "ExecuteTime": {
     "end_time": "2023-09-18T18:23:35.050565Z",
     "start_time": "2023-09-18T18:23:32.272689Z"
    }
   },
   "outputs": [
    {
     "name": "stderr",
     "output_type": "stream",
     "text": [
      "2023-12-18 15:23:05,128 [fastlane:INFO] - \n",
      "2023-12-18 15:23:05,129 [fastlane:INFO] - **********************************************\n",
      "2023-12-18 15:23:05,130 [fastlane:INFO] - The logging path is set to: logs/20231218-152305\\bot.log\n",
      "2023-12-18 15:23:05,130 [fastlane:INFO] - **********************************************\n",
      "2023-12-18 15:23:05,130 [fastlane:INFO] - \n",
      "2023-12-18 15:23:09,633 [fastlane:INFO] - Time taken to add initial pools: 0.11481761932373047\n",
      "2023-12-18 15:23:09,637 [fastlane:INFO] - Initializing the bot...\n"
     ]
    }
   ],
   "source": [
    "C = cfg = Config.new(config=Config.CONFIG_MAINNET)\n",
    "cfg.DEFAULT_MIN_PROFIT_GAS_TOKEN = 0.00001\n",
    "assert (C.NETWORK == C.NETWORK_MAINNET)\n",
    "assert (C.PROVIDER == C.PROVIDER_ALCHEMY)\n",
    "setup_bot = CarbonBot(ConfigObj=C)\n",
    "pools = None\n",
    "\n",
    "with open('fastlane_bot/data/tests/latest_pool_data_testing.json') as f:\n",
    "    pools = json.load(f)\n",
    "pools = [pool for pool in pools]\n",
    "pools[0]\n",
    "static_pools = pools\n",
    "state = pools\n",
    "exchanges = list({ex['exchange_name'] for ex in state})\n",
    "db = QueryInterface(state=state, ConfigObj=C, exchanges=exchanges)\n",
    "setup_bot.db = db\n",
    "\n",
    "static_pool_data_filename = \"static_pool_data\"\n",
    "\n",
    "static_pool_data = pd.read_csv(f\"fastlane_bot/data/{static_pool_data_filename}.csv\", low_memory=False)\n",
    "    \n",
    "uniswap_v2_event_mappings = pd.read_csv(\"fastlane_bot/data/uniswap_v2_event_mappings.csv\", low_memory=False)\n",
    "        \n",
    "tokens = pd.read_csv(\"fastlane_bot/data/tokens.csv\", low_memory=False)\n",
    "        \n",
    "exchanges = \"carbon_v1,bancor_v3,uniswap_v3,uniswap_v2,sushiswap_v2\"\n",
    "\n",
    "exchanges = exchanges.split(\",\")\n",
    "\n",
    "\n",
    "alchemy_max_block_fetch = 20\n",
    "static_pool_data[\"cid\"] = [\n",
    "        cfg.w3.keccak(text=f\"{row['descr']}\").hex()\n",
    "        for index, row in static_pool_data.iterrows()\n",
    "    ]\n",
    "# Filter out pools that are not in the supported exchanges\n",
    "static_pool_data = [\n",
    "    row for index, row in static_pool_data.iterrows()\n",
    "    if row[\"exchange_name\"] in exchanges\n",
    "]\n",
    "\n",
    "static_pool_data = pd.DataFrame(static_pool_data)\n",
    "static_pool_data['exchange_name'].unique()\n",
    "# Initialize data fetch manager\n",
    "mgr = Manager(\n",
    "    web3=cfg.w3,\n",
    "    w3_async=cfg.w3_async,\n",
    "    cfg=cfg,\n",
    "    pool_data=static_pool_data.to_dict(orient=\"records\"),\n",
    "    SUPPORTED_EXCHANGES=exchanges,\n",
    "    alchemy_max_block_fetch=alchemy_max_block_fetch,\n",
    "    uniswap_v2_event_mappings=uniswap_v2_event_mappings,\n",
    "    tokens=tokens.to_dict(orient=\"records\"),\n",
    ")\n",
    "\n",
    "# Add initial pools for each row in the static_pool_data\n",
    "start_time = time.time()\n",
    "Parallel(n_jobs=-1, backend=\"threading\")(\n",
    "    delayed(mgr.add_pool_to_exchange)(row) for row in mgr.pool_data\n",
    ")\n",
    "cfg.logger.info(f\"Time taken to add initial pools: {time.time() - start_time}\")\n",
    "\n",
    "# check if any duplicate cid's exist in the pool data\n",
    "mgr.deduplicate_pool_data()\n",
    "cids = [pool[\"cid\"] for pool in mgr.pool_data]\n",
    "assert len(cids) == len(set(cids)), \"duplicate cid's exist in the pool data\"\n",
    "def init_bot(mgr: Manager) -> CarbonBot:\n",
    "    \"\"\"\n",
    "    Initializes the bot.\n",
    "\n",
    "    Parameters\n",
    "    ----------\n",
    "    mgr : Manager\n",
    "        The manager object.\n",
    "\n",
    "    Returns\n",
    "    -------\n",
    "    CarbonBot\n",
    "        The bot object.\n",
    "    \"\"\"\n",
    "    mgr.cfg.logger.info(\"Initializing the bot...\")\n",
    "    bot = CarbonBot(ConfigObj=mgr.cfg)\n",
    "    bot.db = db\n",
    "    bot.db.mgr = mgr\n",
    "    assert isinstance(\n",
    "        bot.db, QueryInterface\n",
    "    ), \"QueryInterface not initialized correctly\"\n",
    "    return bot\n",
    "bot = init_bot(mgr)\n",
    "# add data cleanup steps from main.py\n",
    "bot.db.remove_unmapped_uniswap_v2_pools()\n",
    "bot.db.remove_zero_liquidity_pools()\n",
    "bot.db.remove_unsupported_exchanges()\n",
    "tokens = bot.db.get_tokens()\n",
    "ADDRDEC = {t.address: (t.address, int(t.decimals)) for t in tokens if not math.isnan(t.decimals)}\n",
    "flashloan_tokens = bot.setup_flashloan_tokens(None)\n",
    "CCm = bot.setup_CCm(None)\n",
    "pools = db.get_pool_data_with_tokens()\n",
    "\n",
    "arb_mode = \"multi\""
   ]
  },
  {
   "cell_type": "markdown",
   "id": "a70cf16f",
   "metadata": {},
   "source": [
    "## Test_MIN_PROFIT"
   ]
  },
  {
   "cell_type": "code",
   "execution_count": 3,
   "id": "c8f41237",
   "metadata": {
    "ExecuteTime": {
     "end_time": "2023-09-18T18:23:35.054082Z",
     "start_time": "2023-09-18T18:23:35.052100Z"
    }
   },
   "outputs": [],
   "source": [
    "assert(cfg.DEFAULT_MIN_PROFIT_GAS_TOKEN <= 0.0001), f\"[TestBancorV2Mode], default_min_profit_gas_token must be <= 0.02 for this Notebook to run, currently set to {cfg.DEFAULT_MIN_PROFIT_GAS_TOKEN}\"\n"
   ]
  },
  {
   "cell_type": "markdown",
   "id": "9469cd63",
   "metadata": {},
   "source": [
    "## Test_Combos_and_Tokens"
   ]
  },
  {
   "cell_type": "code",
   "execution_count": 4,
   "id": "b1f40498",
   "metadata": {
    "ExecuteTime": {
     "end_time": "2023-09-18T18:23:35.118094Z",
     "start_time": "2023-09-18T18:23:35.116515Z"
    },
    "lines_to_next_cell": 2
   },
   "outputs": [],
   "source": [
    "arb_finder = bot._get_arb_finder(\"multi\")\n",
    "finder2 = arb_finder(\n",
    "            flashloan_tokens=flashloan_tokens,\n",
    "            CCm=CCm,\n",
    "            mode=\"bothin\",\n",
    "            result=bot.AO_TOKENS,\n",
    "            ConfigObj=bot.ConfigObj,\n",
    "        )\n",
    "all_tokens, combos = finder2.find_arbitrage()\n",
    "assert type(all_tokens) == set, f\"[NBTest_50_TestBancorV2] all_tokens is wrong data type. Expected set, found: {type(all_tokens)}\"\n",
    "assert type(combos) == list, f\"[NBTest_50_TestBancorV2] combos is wrong data type. Expected list, found: {type(combos)}\"\n",
    "assert len(all_tokens) > 100, f\"[NBTest_50_TestBancorV2] Using wrong dataset, expected at least 100 tokens, found {len(all_tokens)}\"\n",
    "assert len(combos) > 1000, f\"[NBTest_50_TestBancorV2] Using wrong dataset, expected at least 100 combos, found {len(combos)}\""
   ]
  },
  {
   "cell_type": "markdown",
   "id": "e703ba6b",
   "metadata": {},
   "source": [
    "## Test_Expected_Output_BancorV2"
   ]
  },
  {
   "cell_type": "code",
   "execution_count": 5,
   "id": "df834a2d",
   "metadata": {},
   "outputs": [],
   "source": [
    "arb_finder = bot._get_arb_finder(\"multi_pairwise_all\")\n",
    "finder = arb_finder(\n",
    "            flashloan_tokens=flashloan_tokens,\n",
    "            CCm=CCm,\n",
    "            mode=\"bothin\",\n",
    "            result=bot.AO_CANDIDATES,\n",
    "            ConfigObj=bot.ConfigObj,\n",
    "        )\n",
    "r = finder.find_arbitrage()\n",
    "\n",
    "arb_with_bancor_v2 = []\n",
    "for arb_opp in r:\n",
    "    pools = []\n",
    "    for pool in arb_opp[2]:\n",
    "        pools += [curve for curve in CCm if curve.cid == pool['cid']]\n",
    "    for pool in pools:\n",
    "        if pool.params['exchange'] == \"bancor_v2\":\n",
    "            arb_with_bancor_v2.append(arb_opp)\n",
    "\n",
    "assert len(r) >= 27, f\"[NBTest_50_TestBancorV2] Expected at least 27 arb opps, found {len(r)}\"\n",
    "assert len(arb_with_bancor_v2) >= 3, f\"[NBTest_50_TestBancorV2] Expected at least 3 arb opps with Bancor V2 pools, found {len(arb_with_bancor_v2)}\"            "
   ]
  },
  {
   "cell_type": "code",
   "execution_count": 6,
   "id": "86cd764b",
   "metadata": {
    "ExecuteTime": {
     "end_time": "2023-09-18T18:23:37.797299Z",
     "start_time": "2023-09-18T18:23:35.131947Z"
    },
    "lines_to_next_cell": 0
   },
   "outputs": [],
   "source": [
    "arb_finder = bot._get_arb_finder(\"multi_pairwise_all\")\n",
    "finder = arb_finder(\n",
    "            flashloan_tokens=flashloan_tokens,\n",
    "            CCm=CCm,\n",
    "            mode=\"bothin\",\n",
    "            result=bot.AO_CANDIDATES,\n",
    "            ConfigObj=bot.ConfigObj,\n",
    "        )\n",
    "r = finder.find_arbitrage()\n",
    "arb_with_bancor_v2 = []\n",
    "for arb_opp in r:\n",
    "    pools = []\n",
    "    for pool in arb_opp[2]:\n",
    "        pools += [curve for curve in CCm if curve.cid == pool['cid']]\n",
    "    for pool in pools:\n",
    "        if pool.params['exchange'] == \"bancor_v2\":\n",
    "            arb_with_bancor_v2.append(arb_opp)\n",
    "\n",
    "# get specific arb for tests\n",
    "test_arb = arb_with_bancor_v2[0]\n",
    "\n",
    "(\n",
    "    best_profit,\n",
    "    best_trade_instructions_df,\n",
    "    best_trade_instructions_dic,\n",
    "    best_src_token,\n",
    "    best_trade_instructions,\n",
    ") = test_arb\n",
    "\n",
    "# Order the trade instructions\n",
    "(\n",
    "    ordered_trade_instructions_dct,\n",
    "    tx_in_count,\n",
    ") = bot._simple_ordering_by_src_token(\n",
    "    best_trade_instructions_dic, best_src_token\n",
    ")\n",
    "\n",
    "# Scale the trade instructions\n",
    "ordered_scaled_dcts = bot._basic_scaling(\n",
    "    ordered_trade_instructions_dct, best_src_token\n",
    ")\n",
    "\n",
    "# Convert the trade instructions\n",
    "ordered_trade_instructions_objects = bot._convert_trade_instructions(\n",
    "    ordered_scaled_dcts\n",
    ")\n",
    "\n",
    "# Create the tx route handler\n",
    "tx_route_handler = bot.TxRouteHandlerClass(\n",
    "    trade_instructions=ordered_trade_instructions_objects\n",
    ")\n",
    "\n",
    "# Aggregate the carbon trades\n",
    "agg_trade_instructions = (\n",
    "    tx_route_handler.aggregate_carbon_trades(ordered_trade_instructions_objects)\n",
    "    if bot._carbon_in_trade_route(ordered_trade_instructions_objects)\n",
    "    else ordered_trade_instructions_objects\n",
    ")\n",
    "\n",
    "# Calculate the trade instructions\n",
    "calculated_trade_instructions = tx_route_handler.calculate_trade_outputs(\n",
    "    agg_trade_instructions\n",
    ")\n",
    "\n",
    "# Aggregate multiple Bancor V3 trades into a single trade\n",
    "calculated_trade_instructions = tx_route_handler.aggregate_bancor_v3_trades(\n",
    "    calculated_trade_instructions\n",
    ")\n",
    "\n",
    "# Get the flashloan token\n",
    "fl_token = fl_token_with_weth = calculated_trade_instructions[0].tknin_address\n",
    "\n",
    "# If the flashloan token is WETH, then use ETH\n",
    "if fl_token == T.WETH:\n",
    "    fl_token = T.NATIVE_ETH\n",
    "\n",
    "best_profit = flashloan_tkn_profit = tx_route_handler.calculate_trade_profit(calculated_trade_instructions)\n",
    "\n",
    "# Use helper function to calculate profit\n",
    "best_profit, flt_per_bnt, profit_usd = bot.calculate_profit(\n",
    "    CCm, best_profit, fl_token,\n",
    ")\n",
    "\n",
    "# Get the flashloan amount and token address\n",
    "flashloan_amount = int(calculated_trade_instructions[0].amtin_wei)\n",
    "flashloan_token_address = bot.ConfigObj.w3.to_checksum_address(\n",
    "    bot.db.get_token(tkn_address=fl_token).address\n",
    ")\n",
    "\n",
    "# Encode the trade instructions\n",
    "encoded_trade_instructions = tx_route_handler.custom_data_encoder(\n",
    "    calculated_trade_instructions\n",
    ")\n",
    "\n",
    "# Get the deadline\n",
    "deadline = bot._get_deadline(1)\n",
    "\n",
    "# Get the route struct\n",
    "route_struct = [\n",
    "    asdict(rs)\n",
    "    for rs in tx_route_handler.get_route_structs(\n",
    "        encoded_trade_instructions, deadline\n",
    "    )\n",
    "]\n",
    "b2pools = [pool['anchor'] for pool in mgr.pool_data if pool[\"exchange_name\"] in \"bancor_v2\"]\n",
    "bancor_v2_converter_addresses = [pool[\"anchor\"] for pool in state if pool[\"exchange_name\"] in \"bancor_v2\"]\n",
    "assert arb_finder.__name__ == \"FindArbitrageMultiPairwiseAll\", f\"[NBTest_50_TestBancorV2] Expected arb_finder class name name = FindArbitrageMultiPairwise, found {arb_finder.__name__}\"\n",
    "assert len(r) > 30, f\"[NBTest_50_TestBancorV2] Expected at least 30 arb opps, found {len(r)}\"\n",
    "assert len(arb_with_bancor_v2) >= 3, f\"[NBTest_50_TestBancorV2] Expected at least 3 arb opps with Bancor V2 pools, found {len(arb_with_bancor_v2)}\"\n",
    "assert encoded_trade_instructions[0].amtin_wei == flashloan_amount, f\"[NBTest_50_TestBancorV2] First trade in should match flashloan amount, {encoded_trade_instructions[0].amtin_wei} does not = {flashloan_amount}\"\n",
    "assert route_struct[0]['customAddress'] in bancor_v2_converter_addresses or route_struct[1]['customAddress'] in bancor_v2_converter_addresses, f\"[NBTest_50_TestBancorV2] customAddress for Bancor V2.1 trade must be converter token address, expected: anchor for Bancor V2 pool for one address, found: {route_struct[0]['customAddress']} and {route_struct[1]['customAddress']}\""
   ]
  },
  {
   "cell_type": "code",
   "execution_count": null,
   "id": "7c7f0eba",
   "metadata": {},
   "outputs": [],
   "source": []
  },
  {
   "cell_type": "code",
   "execution_count": null,
   "id": "7e1381e9",
   "metadata": {},
   "outputs": [],
   "source": []
  }
 ],
 "metadata": {
  "jupytext": {
   "formats": "ipynb,py:light"
  },
  "kernelspec": {
   "display_name": "Python 3",
   "language": "python",
   "name": "python3"
  },
  "language_info": {
   "codemirror_mode": {
    "name": "ipython",
    "version": 3
   },
   "file_extension": ".py",
   "mimetype": "text/x-python",
   "name": "python",
   "nbconvert_exporter": "python",
   "pygments_lexer": "ipython3",
   "version": "3.11.5"
  }
 },
 "nbformat": 4,
 "nbformat_minor": 5
}
