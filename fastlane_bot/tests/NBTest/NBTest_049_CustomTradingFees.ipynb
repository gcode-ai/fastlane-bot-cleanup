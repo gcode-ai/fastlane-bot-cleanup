{
 "cells": [
  {
   "cell_type": "code",
   "execution_count": 1,
   "id": "6b800d59",
   "metadata": {
    "ExecuteTime": {
     "end_time": "2023-11-08T10:10:14.054861Z",
     "start_time": "2023-11-08T10:10:14.021632Z"
    }
   },
   "outputs": [
    {
     "name": "stdout",
     "output_type": "stream",
     "text": [
      "ConstantProductCurve v3.3.1 (05/Oct/2023)\n",
      "CarbonBot v3-b2.2 (20/June/2023)\n",
      "UniswapV2 v0.0.2 (2023-08-27)\n",
      "UniswapV3 v0.0.2 (2023-08-27)\n",
      "CarbonV1 v0.0.2 (2023-08-27)\n",
      "BancorV3 v0.0.2 (2023-08-27)\n",
      "imported m, np, pd, plt, os, sys, decimal; defined iseq, raises, require\n",
      "Version = 3-b2.2 [requirements >= 3.0 is met]\n"
     ]
    },
    {
     "name": "stderr",
     "output_type": "stream",
     "text": [
      "c:\\Users\\Kveen\\PycharmProjects\\fastlane-bot\\venv_11\\Lib\\site-packages\\tqdm\\auto.py:21: TqdmWarning: IProgress not found. Please update jupyter and ipywidgets. See https://ipywidgets.readthedocs.io/en/stable/user_install.html\n",
      "  from .autonotebook import tqdm as notebook_tqdm\n"
     ]
    }
   ],
   "source": [
    "from unittest.mock import Mock, patch, call\n",
    "\n",
    "import pytest\n",
    "from unittest.mock import MagicMock\n",
    "\n",
    "from fastlane_bot import Bot, Config\n",
    "from fastlane_bot.events.exchanges import UniswapV2, UniswapV3,  CarbonV1, BancorV3\n",
    "from fastlane_bot.events.managers.manager import Manager\n",
    "Base = None\n",
    "from fastlane_bot.tools.cpc import ConstantProductCurve as CPC\n",
    "import asyncio\n",
    "from unittest.mock import AsyncMock\n",
    "import nest_asyncio\n",
    "nest_asyncio.apply()\n",
    "print(\"{0.__name__} v{0.__VERSION__} ({0.__DATE__})\".format(CPC))\n",
    "print(\"{0.__name__} v{0.__VERSION__} ({0.__DATE__})\".format(Bot))\n",
    "print(\"{0.__name__} v{0.__VERSION__} ({0.__DATE__})\".format(UniswapV2))\n",
    "print(\"{0.__name__} v{0.__VERSION__} ({0.__DATE__})\".format(UniswapV3))\n",
    "print(\"{0.__name__} v{0.__VERSION__} ({0.__DATE__})\".format(CarbonV1))\n",
    "print(\"{0.__name__} v{0.__VERSION__} ({0.__DATE__})\".format(BancorV3))\n",
    "from fastlane_bot.testing import *\n",
    "\n",
    "#plt.style.use('seaborn-dark')\n",
    "plt.rcParams['figure.figsize'] = [12,6]\n",
    "from fastlane_bot import __VERSION__\n",
    "require(\"3.0\", __VERSION__)\n"
   ]
  },
  {
   "cell_type": "markdown",
   "id": "2776105f",
   "metadata": {},
   "source": []
  },
  {
   "cell_type": "code",
   "execution_count": 2,
   "id": "233ec2b715b70716",
   "metadata": {
    "ExecuteTime": {
     "end_time": "2023-11-08T10:28:34.820099Z",
     "start_time": "2023-11-08T10:28:34.800629Z"
    },
    "collapsed": false
   },
   "outputs": [
    {
     "data": {
      "text/plain": [
       "<module 'nest_asyncio' from 'c:\\\\Users\\\\Kveen\\\\PycharmProjects\\\\fastlane-bot\\\\venv_11\\\\Lib\\\\site-packages\\\\nest_asyncio.py'>"
      ]
     },
     "execution_count": 2,
     "metadata": {},
     "output_type": "execute_result"
    }
   ],
   "source": [
    "nest_asyncio"
   ]
  },
  {
   "cell_type": "code",
   "execution_count": 3,
   "id": "80ddef38",
   "metadata": {
    "ExecuteTime": {
     "end_time": "2023-11-08T10:10:14.097605Z",
     "start_time": "2023-11-08T10:10:14.034515Z"
    }
   },
   "outputs": [],
   "source": [
    "import json\n",
    "\n",
    "with open(\"fastlane_bot/data/event_test_data.json\", \"r\") as f:\n",
    "    event_data = json.load(f)\n",
    "\n",
    "with open(\"fastlane_bot/data/test_pool_data.json\", \"r\") as f:\n",
    "    pool_data = json.load(f)"
   ]
  },
  {
   "cell_type": "code",
   "execution_count": 4,
   "id": "7919999a",
   "metadata": {
    "ExecuteTime": {
     "end_time": "2023-11-08T10:10:16.168907Z",
     "start_time": "2023-11-08T10:10:14.068169Z"
    }
   },
   "outputs": [
    {
     "name": "stderr",
     "output_type": "stream",
     "text": [
      "2023-12-18 11:30:52,478 [fastlane:INFO] - \n",
      "2023-12-18 11:30:52,478 [fastlane:INFO] - **********************************************\n",
      "2023-12-18 11:30:52,478 [fastlane:INFO] - The logging path is set to: logs/20231218-113052\\bot.log\n",
      "2023-12-18 11:30:52,479 [fastlane:INFO] - **********************************************\n",
      "2023-12-18 11:30:52,479 [fastlane:INFO] - \n"
     ]
    }
   ],
   "source": [
    "\n",
    "# Create mock instances for all required parameters\n",
    "cfg = Config.new(config=Config.CONFIG_MAINNET)\n",
    "\n",
    "# create manager instance for all tests\n",
    "manager = Manager(web3=cfg.w3,\n",
    "    w3_async=cfg.w3_async,\n",
    "    cfg=cfg, \n",
    "    pool_data=pool_data, \n",
    "    alchemy_max_block_fetch=20, \n",
    "    SUPPORTED_EXCHANGES=['bancor_v3', 'carbon_v1', 'uniswap_v2', 'uniswap_v3'])\n"
   ]
  },
  {
   "cell_type": "markdown",
   "id": "b14ead21",
   "metadata": {},
   "source": [
    "## test_update_from_event_carbon_v1_pair_create"
   ]
  },
  {
   "cell_type": "code",
   "execution_count": 5,
   "id": "71334cab",
   "metadata": {
    "ExecuteTime": {
     "end_time": "2023-11-08T10:10:16.778301Z",
     "start_time": "2023-11-08T10:10:16.170518Z"
    }
   },
   "outputs": [],
   "source": [
    "event = event_data['carbon_v1_event_pair_created']\n",
    "assert (event['args']['token0'], event['args']['token1']) not in manager.fee_pairs\n",
    "\n",
    "manager.update_from_event(event)\n",
    "\n",
    "assert (event['args']['token0'], event['args']['token1']) in manager.fee_pairs\n"
   ]
  },
  {
   "cell_type": "markdown",
   "id": "a34a2862",
   "metadata": {},
   "source": [
    "## test_update_from_event_carbon_v1_trading_fee_updated\n"
   ]
  },
  {
   "cell_type": "code",
   "execution_count": 6,
   "id": "71d67e1c",
   "metadata": {
    "ExecuteTime": {
     "end_time": "2023-11-08T10:10:18.181897Z",
     "start_time": "2023-11-08T10:10:16.793822Z"
    }
   },
   "outputs": [],
   "source": [
    "\n",
    "event = event_data['carbon_v1_trading_fee_updated']\n",
    "prevFeePPM = event['args']['prevFeePPM']\n",
    "newFeePPM = event['args']['newFeePPM']\n",
    "\n",
    "mocked_contract = Mock()\n",
    "new_mocked_contract = Mock()\n",
    "mocked_contract.functions.tradingFeePPM.return_value.call =  AsyncMock(return_value=prevFeePPM)\n",
    "new_mocked_contract.functions.tradingFeePPM.return_value.call = AsyncMock(return_value=newFeePPM)\n",
    "\n",
    "@pytest.mark.asyncio\n",
    "async def test_update_from_event_carbon_v1_trading_fee_updated():\n",
    "    val = await manager.exchanges['carbon_v1'].get_fee('', mocked_contract)\n",
    "    assert int(val[0]) == prevFeePPM\n",
    "    \n",
    "    # find all pools with fee==prevFeePPM\n",
    "    prev_default_pools = [idx for idx, pool in enumerate(manager.pool_data) if pool['fee'] == prevFeePPM]\n",
    "    \n",
    "    manager.update_from_event(event)\n",
    "\n",
    "    for idx in prev_default_pools:\n",
    "        assert manager.pool_data[idx]['fee'] == newFeePPM\n",
    "    \n",
    "    val2 = await manager.exchanges['carbon_v1'].get_fee('', new_mocked_contract)\n",
    "    assert int(val2[0]) == newFeePPM\n",
    "\n",
    "# Run the test in an event loop\n",
    "asyncio.run(test_update_from_event_carbon_v1_trading_fee_updated())"
   ]
  },
  {
   "cell_type": "markdown",
   "id": "8d818585",
   "metadata": {},
   "source": [
    "## test_update_from_event_carbon_v1_pair_trading_fee_updated"
   ]
  },
  {
   "cell_type": "code",
   "execution_count": 7,
   "id": "452029c9",
   "metadata": {
    "ExecuteTime": {
     "end_time": "2023-11-08T10:10:18.193442Z",
     "start_time": "2023-11-08T10:10:18.192009Z"
    }
   },
   "outputs": [],
   "source": [
    "event = event_data['carbon_v1_pair_trading_fee_updated']\n",
    "prevFeePPM = event['args']['prevFeePPM']\n",
    "newFeePPM = event['args']['newFeePPM']\n",
    "token0 = event['args']['token0']\n",
    "token1 = event['args']['token1']\n",
    "\n",
    "# set the fee for the pair to prevFeePPM\n",
    "idxs = [idx for idx, pool in enumerate(manager.pool_data) if pool['tkn0_address'] == token0 and pool['tkn1_address'] == token1 and pool['exchange_name'] == 'carbon_v1']\n",
    "for idx in idxs:\n",
    "    manager.pool_data[idx]['fee'] = f\"{prevFeePPM}\"\n",
    "    manager.pool_data[idx]['fee_float'] = prevFeePPM / 1e6\n",
    "\n",
    "# set all other pools with a different fee than prevFeePPM\n",
    "others = [i for i, pool in enumerate(manager.pool_data) if i not in idxs and pool['exchange_name'] == 'carbon_v1']\n",
    "for i in others:\n",
    "    manager.pool_data[i]['fee'] = f\"{prevFeePPM-1}\"\n",
    "    manager.pool_data[i]['fee_float'] = (prevFeePPM-1) / 1e6\n",
    "\n",
    "manager.update_from_event(event)\n",
    "\n",
    "# check that the fee for the pair is now newFeePPM\n",
    "for idx in idxs:\n",
    "    assert manager.pool_data[idx]['fee'] == f\"{newFeePPM}\"\n",
    "    assert manager.pool_data[idx]['fee_float'] == newFeePPM / 1e6\n",
    "    \n",
    "# check that all other pools have not been changed\n",
    "for i in others:\n",
    "    assert manager.pool_data[i]['fee'] == f\"{prevFeePPM-1}\"\n",
    "    assert manager.pool_data[i]['fee_float'] == (prevFeePPM-1) / 1e6\n"
   ]
  },
  {
   "cell_type": "markdown",
   "id": "55fa981cd591525d",
   "metadata": {},
   "source": []
  },
  {
   "cell_type": "markdown",
   "id": "1cfa616d",
   "metadata": {},
   "source": []
  }
 ],
 "metadata": {
  "jupytext": {
   "formats": "ipynb,py:light"
  },
  "kernelspec": {
   "display_name": "Python 3 (ipykernel)",
   "language": "python",
   "name": "python3"
  },
  "language_info": {
   "codemirror_mode": {
    "name": "ipython",
    "version": 3
   },
   "file_extension": ".py",
   "mimetype": "text/x-python",
   "name": "python",
   "nbconvert_exporter": "python",
   "pygments_lexer": "ipython3",
   "version": "3.11.5"
  }
 },
 "nbformat": 4,
 "nbformat_minor": 5
}
