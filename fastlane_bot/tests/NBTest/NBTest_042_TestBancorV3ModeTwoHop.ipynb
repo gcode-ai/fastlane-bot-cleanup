{
 "cells": [
  {
   "cell_type": "code",
   "execution_count": 1,
   "id": "84fa264b",
   "metadata": {
    "ExecuteTime": {
     "end_time": "2023-07-09T13:54:12.577531Z",
     "start_time": "2023-07-09T13:54:12.514167Z"
    }
   },
   "outputs": [
    {
     "name": "stdout",
     "output_type": "stream",
     "text": [
      "ConstantProductCurve v3.3.1 (05/Oct/2023)\n",
      "CarbonBot v3-b2.2 (20/June/2023)\n",
      "UniswapV2 v0.0.2 (2023-08-27)\n",
      "UniswapV3 v0.0.2 (2023-08-27)\n",
      "CarbonV1 v0.0.2 (2023-08-27)\n",
      "BancorV3 v0.0.2 (2023-08-27)\n",
      "imported m, np, pd, plt, os, sys, decimal; defined iseq, raises, require\n",
      "Version = 3-b2.2 [requirements >= 3.0 is met]\n"
     ]
    },
    {
     "name": "stderr",
     "output_type": "stream",
     "text": [
      "c:\\Users\\Kveen\\PycharmProjects\\fastlane-bot\\venv_11\\Lib\\site-packages\\tqdm\\auto.py:21: TqdmWarning: IProgress not found. Please update jupyter and ipywidgets. See https://ipywidgets.readthedocs.io/en/stable/user_install.html\n",
      "  from .autonotebook import tqdm as notebook_tqdm\n"
     ]
    }
   ],
   "source": [
    "# coding=utf-8\n",
    "\"\"\"\n",
    "This module contains the tests for the exchanges classes\n",
    "\"\"\"\n",
    "from fastlane_bot import Bot, Config\n",
    "from fastlane_bot.bot import CarbonBot\n",
    "from fastlane_bot.tools.cpc import ConstantProductCurve\n",
    "from fastlane_bot.tools.cpc import ConstantProductCurve as CPC\n",
    "from fastlane_bot.events.exchanges import UniswapV2, UniswapV3,  CarbonV1, BancorV3\n",
    "from fastlane_bot.events.interface import QueryInterface\n",
    "from fastlane_bot.helpers.poolandtokens import PoolAndTokens\n",
    "from fastlane_bot.helpers import TradeInstruction, TxReceiptHandler, TxRouteHandler, TxSubmitHandler, TxHelpers, TxHelper\n",
    "from fastlane_bot.events.managers.manager import Manager\n",
    "from fastlane_bot.events.interface import QueryInterface\n",
    "from joblib import Parallel, delayed\n",
    "import pytest\n",
    "import math\n",
    "import json\n",
    "print(\"{0.__name__} v{0.__VERSION__} ({0.__DATE__})\".format(CPC))\n",
    "print(\"{0.__name__} v{0.__VERSION__} ({0.__DATE__})\".format(Bot))\n",
    "print(\"{0.__name__} v{0.__VERSION__} ({0.__DATE__})\".format(UniswapV2))\n",
    "print(\"{0.__name__} v{0.__VERSION__} ({0.__DATE__})\".format(UniswapV3))\n",
    "print(\"{0.__name__} v{0.__VERSION__} ({0.__DATE__})\".format(CarbonV1))\n",
    "print(\"{0.__name__} v{0.__VERSION__} ({0.__DATE__})\".format(BancorV3))\n",
    "from fastlane_bot.testing import *\n",
    "#plt.style.use('seaborn-dark')\n",
    "plt.rcParams['figure.figsize'] = [12,6]\n",
    "from fastlane_bot import __VERSION__\n",
    "require(\"3.0\", __VERSION__)"
   ]
  },
  {
   "cell_type": "markdown",
   "id": "bfd5bb3b",
   "metadata": {},
   "source": [
    "# Test Bancor V3 Twohop mode [NB042]"
   ]
  },
  {
   "cell_type": "code",
   "execution_count": 2,
   "id": "1bcf3063",
   "metadata": {},
   "outputs": [
    {
     "name": "stderr",
     "output_type": "stream",
     "text": [
      "2023-12-18 13:03:04,379 [fastlane:INFO] - \n",
      "2023-12-18 13:03:04,379 [fastlane:INFO] - **********************************************\n",
      "2023-12-18 13:03:04,380 [fastlane:INFO] - The logging path is set to: logs/20231218-130304\\bot.log\n",
      "2023-12-18 13:03:04,381 [fastlane:INFO] - **********************************************\n",
      "2023-12-18 13:03:04,381 [fastlane:INFO] - \n",
      "2023-12-18 13:03:08,766 [fastlane:INFO] - Time taken to add initial pools: 0.11300539970397949\n",
      "2023-12-18 13:03:08,769 [fastlane:INFO] - Initializing the bot...\n"
     ]
    }
   ],
   "source": [
    "C = cfg = Config.new(config=Config.CONFIG_MAINNET)\n",
    "cfg.DEFAULT_MIN_PROFIT_GAS_TOKEN = 0.00001\n",
    "assert (C.NETWORK == C.NETWORK_MAINNET)\n",
    "assert (C.PROVIDER == C.PROVIDER_ALCHEMY)\n",
    "setup_bot = CarbonBot(ConfigObj=C)\n",
    "pools = None\n",
    "with open('fastlane_bot/data/tests/latest_pool_data_testing.json') as f:\n",
    "    pools = json.load(f)\n",
    "pools = [pool for pool in pools]\n",
    "pools[0]\n",
    "static_pools = pools\n",
    "state = pools\n",
    "exchanges = list({ex['exchange_name'] for ex in state})\n",
    "db = QueryInterface(state=state, ConfigObj=C, exchanges=exchanges)\n",
    "setup_bot.db = db\n",
    "\n",
    "static_pool_data_filename = \"static_pool_data\"\n",
    "\n",
    "static_pool_data = pd.read_csv(f\"fastlane_bot/data/{static_pool_data_filename}.csv\", low_memory=False)\n",
    "    \n",
    "uniswap_v2_event_mappings = pd.read_csv(\"fastlane_bot/data/uniswap_v2_event_mappings.csv\", low_memory=False)\n",
    "        \n",
    "tokens = pd.read_csv(\"fastlane_bot/data/tokens.csv\", low_memory=False)\n",
    "        \n",
    "exchanges = \"carbon_v1,bancor_v3,uniswap_v3,uniswap_v2,sushiswap_v2\"\n",
    "\n",
    "exchanges = exchanges.split(\",\")\n",
    "\n",
    "\n",
    "alchemy_max_block_fetch = 20\n",
    "static_pool_data[\"cid\"] = [\n",
    "        cfg.w3.keccak(text=f\"{row['descr']}\").hex()\n",
    "        for index, row in static_pool_data.iterrows()\n",
    "    ]\n",
    "# Filter out pools that are not in the supported exchanges\n",
    "static_pool_data = [\n",
    "    row for index, row in static_pool_data.iterrows()\n",
    "    if row[\"exchange_name\"] in exchanges\n",
    "]\n",
    "\n",
    "static_pool_data = pd.DataFrame(static_pool_data)\n",
    "static_pool_data['exchange_name'].unique()\n",
    "# Initialize data fetch manager\n",
    "mgr = Manager(\n",
    "    web3=cfg.w3,\n",
    "    w3_async=cfg.w3_async,\n",
    "    cfg=cfg,\n",
    "    pool_data=static_pool_data.to_dict(orient=\"records\"),\n",
    "    SUPPORTED_EXCHANGES=exchanges,\n",
    "    alchemy_max_block_fetch=alchemy_max_block_fetch,\n",
    "    uniswap_v2_event_mappings=uniswap_v2_event_mappings,\n",
    "    tokens=tokens.to_dict(orient=\"records\"),\n",
    ")\n",
    "\n",
    "# Add initial pools for each row in the static_pool_data\n",
    "start_time = time.time()\n",
    "Parallel(n_jobs=-1, backend=\"threading\")(\n",
    "    delayed(mgr.add_pool_to_exchange)(row) for row in mgr.pool_data\n",
    ")\n",
    "cfg.logger.info(f\"Time taken to add initial pools: {time.time() - start_time}\")\n",
    "\n",
    "# check if any duplicate cid's exist in the pool data\n",
    "mgr.deduplicate_pool_data()\n",
    "cids = [pool[\"cid\"] for pool in mgr.pool_data]\n",
    "assert len(cids) == len(set(cids)), \"duplicate cid's exist in the pool data\"\n",
    "def init_bot(mgr: Manager) -> CarbonBot:\n",
    "    \"\"\"\n",
    "    Initializes the bot.\n",
    "\n",
    "    Parameters\n",
    "    ----------\n",
    "    mgr : Manager\n",
    "        The manager object.\n",
    "\n",
    "    Returns\n",
    "    -------\n",
    "    CarbonBot\n",
    "        The bot object.\n",
    "    \"\"\"\n",
    "    mgr.cfg.logger.info(\"Initializing the bot...\")\n",
    "    bot = CarbonBot(ConfigObj=mgr.cfg)\n",
    "    bot.db = db\n",
    "    bot.db.mgr = mgr\n",
    "    assert isinstance(\n",
    "        bot.db, QueryInterface\n",
    "    ), \"QueryInterface not initialized correctly\"\n",
    "    return bot\n",
    "bot = init_bot(mgr)\n",
    "# add data cleanup steps from main.py\n",
    "bot.db.remove_unmapped_uniswap_v2_pools()\n",
    "bot.db.remove_zero_liquidity_pools()\n",
    "bot.db.remove_unsupported_exchanges()\n",
    "tokens = bot.db.get_tokens()\n",
    "ADDRDEC = {t.address: (t.address, int(t.decimals)) for t in tokens if not math.isnan(t.decimals)}\n",
    "flashloan_tokens = bot.setup_flashloan_tokens(None)\n",
    "CCm = bot.setup_CCm(None)\n",
    "pools = db.get_pool_data_with_tokens()\n",
    "\n",
    "arb_mode = \"b3_two_hop\""
   ]
  },
  {
   "cell_type": "markdown",
   "id": "901ee8b1",
   "metadata": {},
   "source": [
    "## Test_min_profit"
   ]
  },
  {
   "cell_type": "code",
   "execution_count": 3,
   "id": "91de7c93",
   "metadata": {},
   "outputs": [],
   "source": [
    "assert(cfg.DEFAULT_MIN_PROFIT_GAS_TOKEN <= 0.0001), f\"[test_bancor_v3_two_hop], default_min_profit_gas_token must be <= 0.0001 for this Notebook to run, currently set to {cfg.DEFAULT_MIN_PROFIT_GAS_TOKEN}\""
   ]
  },
  {
   "cell_type": "markdown",
   "id": "c29d5c13",
   "metadata": {},
   "source": [
    "## Test_arb_mode_class"
   ]
  },
  {
   "cell_type": "code",
   "execution_count": 4,
   "id": "aaaf7423",
   "metadata": {
    "ExecuteTime": {
     "end_time": "2023-07-09T13:54:15.356301Z",
     "start_time": "2023-07-09T13:54:15.352256Z"
    }
   },
   "outputs": [],
   "source": [
    "arb_finder = bot._get_arb_finder(\"b3_two_hop\")\n",
    "assert arb_finder.__name__ == \"ArbitrageFinderTriangleBancor3TwoHop\", f\"[test_bancor_v3_two_hop] Wrong Arb Finder class, expected ArbitrageFinderTriangleBancor3TwoHop, got {arb_finder.__name__}\""
   ]
  },
  {
   "cell_type": "markdown",
   "id": "7da5652f",
   "metadata": {},
   "source": [
    "## Test_Trade_Merge"
   ]
  },
  {
   "cell_type": "code",
   "execution_count": 5,
   "id": "fbccb45f",
   "metadata": {},
   "outputs": [
    {
     "name": "stderr",
     "output_type": "stream",
     "text": [
      "2023-12-18 13:03:09,031 [fastlane:WARNING] - base_exchange must be bancor_v3 for b3_two_hop, setting it to bancor_v3\n",
      "2023-12-18 13:03:09,032 [fastlane:INFO] - flashloan_tokens for arb_mode=b3_two_hop will be overwritten. \n",
      "2023-12-18 13:03:09,033 [fastlane:INFO] - [modes.base._check_limit_flashloan_tokens_for_bancor3] limiting flashloan_tokens to ['0x2260FAC5E5542a773Aa44fBCfeDf7C193bc2C599', '0xC02aaA39b223FE8D0A0e5C4F27eAD9083C756Cc2', '0x514910771AF9Ca656af840dff83E8264EcF986CA']\n"
     ]
    }
   ],
   "source": [
    "arb_finder = bot._get_arb_finder(\"b3_two_hop\")\n",
    "finder = arb_finder(\n",
    "            flashloan_tokens=flashloan_tokens,\n",
    "            CCm=CCm,\n",
    "            mode=\"bothin\",\n",
    "            result=False,\n",
    "            ConfigObj=bot.ConfigObj,\n",
    "        )\n",
    "r = finder.find_arbitrage()\n",
    "(\n",
    "            best_profit,\n",
    "            best_trade_instructions_df,\n",
    "            best_trade_instructions_dic,\n",
    "            best_src_token,\n",
    "            best_trade_instructions,\n",
    "        ) = r\n",
    "(\n",
    "ordered_trade_instructions_dct,\n",
    "tx_in_count,\n",
    ") = bot._simple_ordering_by_src_token(\n",
    "best_trade_instructions_dic, best_src_token\n",
    ")\n",
    "ordered_scaled_dcts = bot._basic_scaling(\n",
    "            ordered_trade_instructions_dct, best_src_token\n",
    "        )\n",
    "# Convert the trade instructions\n",
    "ordered_trade_instructions_objects = bot._convert_trade_instructions(\n",
    "    ordered_scaled_dcts)\n",
    "tx_route_handler = bot.TxRouteHandlerClass(\n",
    "            trade_instructions=ordered_trade_instructions_objects\n",
    "        )\n",
    "agg_trade_instructions = (\n",
    "            tx_route_handler.aggregate_carbon_trades(ordered_trade_instructions_objects)\n",
    "            if bot._carbon_in_trade_route(ordered_trade_instructions_objects)\n",
    "            else ordered_trade_instructions_objects\n",
    "        )\n",
    "# Calculate the trade instructions\n",
    "calculated_trade_instructions = tx_route_handler.calculate_trade_outputs(\n",
    "    agg_trade_instructions\n",
    ")\n",
    "assert len(calculated_trade_instructions) == 3\n",
    "# Aggregate multiple Bancor V3 trades into a single trade\n",
    "calculated_trade_instructions = TxRouteHandler.aggregate_bancor_v3_trades(\n",
    "    calculated_trade_instructions\n",
    ")\n",
    "assert len(calculated_trade_instructions) == 2\n",
    "assert calculated_trade_instructions[0].tknin != \"0x1F573D6Fb3F13d689FF844B4cE37794d79a7FF1C\"\n",
    "assert calculated_trade_instructions[0].tknout != \"0x1F573D6Fb3F13d689FF844B4cE37794d79a7FF1C\""
   ]
  },
  {
   "cell_type": "markdown",
   "id": "f0df1b9b",
   "metadata": {},
   "source": [
    "## Test_get_optimal_arb_trade_amts"
   ]
  },
  {
   "cell_type": "code",
   "execution_count": 6,
   "id": "b2588e90",
   "metadata": {},
   "outputs": [
    {
     "name": "stderr",
     "output_type": "stream",
     "text": [
      "2023-12-18 13:03:09,110 [fastlane:WARNING] - base_exchange must be bancor_v3 for b3_two_hop, setting it to bancor_v3\n",
      "2023-12-18 13:03:09,111 [fastlane:INFO] - flashloan_tokens for arb_mode=b3_two_hop will be overwritten. \n",
      "2023-12-18 13:03:09,111 [fastlane:INFO] - [modes.base._check_limit_flashloan_tokens_for_bancor3] limiting flashloan_tokens to ['0x2260FAC5E5542a773Aa44fBCfeDf7C193bc2C599', '0xC02aaA39b223FE8D0A0e5C4F27eAD9083C756Cc2', '0x514910771AF9Ca656af840dff83E8264EcF986CA']\n"
     ]
    }
   ],
   "source": [
    "arb_finder = bot._get_arb_finder(\"b3_two_hop\")\n",
    "finder = arb_finder(\n",
    "            flashloan_tokens=flashloan_tokens,\n",
    "            CCm=CCm,\n",
    "            mode=\"bothin\",\n",
    "            result=False,\n",
    "            ConfigObj=bot.ConfigObj,\n",
    "        )\n",
    "r = finder.find_arbitrage()\n",
    "(\n",
    "            best_profit,\n",
    "            best_trade_instructions_df,\n",
    "            best_trade_instructions_dic,\n",
    "            best_src_token,\n",
    "            best_trade_instructions,\n",
    "        ) = r\n",
    "(\n",
    "ordered_trade_instructions_dct,\n",
    "tx_in_count,\n",
    ") = bot._simple_ordering_by_src_token(\n",
    "best_trade_instructions_dic, best_src_token\n",
    ")\n",
    "\n",
    "\n",
    "pool_cids = [curve['cid'] for curve in ordered_trade_instructions_dct]\n",
    "first_check_pools = finder.get_exact_pools(pool_cids)\n",
    "\n",
    "assert first_check_pools[0].cid == pool_cids[0], f\"[test_bancor_v3_two_hop] Validation, wrong first pool, expected CID: 0x7be3da0f8d0f70d8f7a84a08dd267beea4318ed1c9fb3d602b0f3a3c7bd1cf4a, got CID: {first_check_pools[0].cid}\"\n",
    "assert first_check_pools[1].cid == pool_cids[1], f\"[test_bancor_v3_two_hop] Validation, wrong second pool, expected CID: 0x748ab2bef0d97e5a044268626e6c9c104bab818605d44f650fdeaa03a3c742d2, got CID: {first_check_pools[1].cid}\"\n",
    "assert first_check_pools[2].cid == pool_cids[2], f\"[test_bancor_v3_two_hop] Validation, wrong third pool, expected CID: 0xb1d8cd62f75016872495dae3e19d96e364767e7d674488392029d15cdbcd7b34, got CID: {first_check_pools[2].cid}\"\n",
    "assert(len(first_check_pools) == 3), f\"[test_bancor_v3_two_hop] Validation expected 3 pools, got {len(first_check_pools)}\"\n",
    "for pool in first_check_pools:\n",
    "    assert type(pool) == ConstantProductCurve, f\"[test_bancor_v3_two_hop] Validation pool type mismatch, got {type(pool)} expected ConstantProductCurve\"\n",
    "    assert pool.cid in pool_cids, f\"[test_bancor_v3_two_hop] Validation missing pool.cid {pool.cid} in {pool_cids}\"\n",
    "\n",
    "optimal_arb = finder.get_optimal_arb_trade_amts(pool_cids, 'DAI-1d0F')\n",
    "assert type(optimal_arb) == float, f\"[test_bancor_v3_two_hop] Optimal arb calculation type is {type(optimal_arb)} not float\""
   ]
  },
  {
   "cell_type": "markdown",
   "id": "20d0e388",
   "metadata": {},
   "source": [
    "## Test_max_arb_trade_in_constant_product"
   ]
  },
  {
   "cell_type": "code",
   "execution_count": 7,
   "id": "1ca4e899",
   "metadata": {},
   "outputs": [
    {
     "name": "stderr",
     "output_type": "stream",
     "text": [
      "2023-12-18 13:03:09,199 [fastlane:WARNING] - base_exchange must be bancor_v3 for b3_two_hop, setting it to bancor_v3\n",
      "2023-12-18 13:03:09,200 [fastlane:INFO] - flashloan_tokens for arb_mode=b3_two_hop will be overwritten. \n",
      "2023-12-18 13:03:09,201 [fastlane:INFO] - [modes.base._check_limit_flashloan_tokens_for_bancor3] limiting flashloan_tokens to ['0x2260FAC5E5542a773Aa44fBCfeDf7C193bc2C599', '0xC02aaA39b223FE8D0A0e5C4F27eAD9083C756Cc2', '0x514910771AF9Ca656af840dff83E8264EcF986CA']\n"
     ]
    }
   ],
   "source": [
    "arb_finder = bot._get_arb_finder(\"b3_two_hop\")\n",
    "finder = arb_finder(\n",
    "            flashloan_tokens=flashloan_tokens,\n",
    "            CCm=CCm,\n",
    "            mode=\"bothin\",\n",
    "            result=False,\n",
    "            ConfigObj=bot.ConfigObj,\n",
    "        )\n",
    "r = finder.find_arbitrage()\n",
    "(\n",
    "            best_profit,\n",
    "            best_trade_instructions_df,\n",
    "            best_trade_instructions_dic,\n",
    "            best_src_token,\n",
    "            best_trade_instructions,\n",
    "        ) = r\n",
    "(\n",
    "ordered_trade_instructions_dct,\n",
    "tx_in_count,\n",
    ") = bot._simple_ordering_by_src_token(\n",
    "best_trade_instructions_dic, best_src_token\n",
    ")\n",
    "\n",
    "\n",
    "pool_cids = [curve['cid'] for curve in ordered_trade_instructions_dct]\n",
    "first_check_pools = finder.get_exact_pools(pool_cids)\n",
    "flt='0x6B175474E89094C44Da98b954EedeAC495271d0F'\n",
    "tkn0 = flt\n",
    "tkn1 = finder.get_tkn(pool=first_check_pools[0], tkn_num=1) if finder.get_tkn(pool=first_check_pools[0], tkn_num=1) != flt else finder.get_tkn(pool=first_check_pools[0], tkn_num=0)\n",
    "tkn2 = finder.get_tkn(pool=first_check_pools[1], tkn_num=0) if finder.get_tkn(pool=first_check_pools[1], tkn_num=0) == tkn1 else finder.get_tkn(pool=first_check_pools[1], tkn_num=1)\n",
    "tkn3 = finder.get_tkn(pool=first_check_pools[1], tkn_num=0) if finder.get_tkn(pool=first_check_pools[1], tkn_num=0) != tkn1 else finder.get_tkn(pool=first_check_pools[1], tkn_num=1)\n",
    "tkn5 = finder.get_tkn(pool=first_check_pools[2], tkn_num=1) if finder.get_tkn(pool=first_check_pools[2], tkn_num=1) == flt else finder.get_tkn(pool=first_check_pools[2], tkn_num=0)\n",
    "p0t0 = first_check_pools[0].x if finder.get_tkn(pool=first_check_pools[0], tkn_num=0) == flt else first_check_pools[0].y\n",
    "p0t1 = first_check_pools[0].y if finder.get_tkn(pool=first_check_pools[0], tkn_num=0) == flt else first_check_pools[0].x\n",
    "p1t0 = first_check_pools[1].x if tkn1 == finder.get_tkn(pool=first_check_pools[1], tkn_num=0) else first_check_pools[1].y\n",
    "p1t1 = first_check_pools[1].y if tkn1 == finder.get_tkn(pool=first_check_pools[1], tkn_num=0) else first_check_pools[1].x\n",
    "p2t0 = first_check_pools[2].x if finder.get_tkn(pool=first_check_pools[2], tkn_num=0) != flt else first_check_pools[2].y\n",
    "p2t1 = first_check_pools[2].y if finder.get_tkn(pool=first_check_pools[2], tkn_num=0) != flt else first_check_pools[2].x\n",
    "fee0 = finder.get_fee_safe(first_check_pools[0].fee)\n",
    "fee1 = finder.get_fee_safe(first_check_pools[1].fee)\n",
    "fee2 = finder.get_fee_safe(first_check_pools[2].fee)\n",
    "optimal_arb = finder.get_optimal_arb_trade_amts(pool_cids, '0x6B175474E89094C44Da98b954EedeAC495271d0F')\n",
    "optimal_arb_low_level_check = finder.max_arb_trade_in_constant_product(p0t0=p0t0, p0t1=p0t1, p1t0=p1t0, p1t1=p1t1, p2t0=p2t0, p2t1=p2t1,fee0=fee0, fee1=fee1, fee2=fee2)\n",
    "assert iseq(optimal_arb, optimal_arb_low_level_check), f\"[test_bancor_v3_two_hop] Arb calculation result mismatch, pools likely ordered incorrectly, previous calc: {optimal_arb}, this calc: {optimal_arb_low_level_check}\"\n",
    "# max_arb_in = finder.max_arb_trade_in_constant_product(p0t0, p0t1, p1t0, p1t1, p2t0, p2t1, fee0=fee0, fee1=fee1, fee2=fee2)\n",
    "# finder.ConfigObj.logger.info(f\"\\n\\nfirst_check_pools: {first_check_pools}\\n\\nValidating trade, max_arb_in= {max_arb_in} {tkn0} -> {tkn1} -> {tkn3} -> {tkn5}, token amts: {p0t0, p0t1, p1t0, p1t1, p2t0, p2t1}, fees: {fee0, fee1, fee2}\")"
   ]
  },
  {
   "cell_type": "markdown",
   "id": "1b6fdd17",
   "metadata": {},
   "source": [
    "## Test_get_fee_safe"
   ]
  },
  {
   "cell_type": "code",
   "execution_count": 8,
   "id": "6ee7b05e",
   "metadata": {},
   "outputs": [
    {
     "name": "stderr",
     "output_type": "stream",
     "text": [
      "2023-12-18 13:03:09,299 [fastlane:WARNING] - base_exchange must be bancor_v3 for b3_two_hop, setting it to bancor_v3\n",
      "2023-12-18 13:03:09,300 [fastlane:INFO] - flashloan_tokens for arb_mode=b3_two_hop will be overwritten. \n",
      "2023-12-18 13:03:09,300 [fastlane:INFO] - [modes.base._check_limit_flashloan_tokens_for_bancor3] limiting flashloan_tokens to ['0x2260FAC5E5542a773Aa44fBCfeDf7C193bc2C599', '0xC02aaA39b223FE8D0A0e5C4F27eAD9083C756Cc2', '0x514910771AF9Ca656af840dff83E8264EcF986CA']\n"
     ]
    }
   ],
   "source": [
    "arb_finder = bot._get_arb_finder(\"b3_two_hop\")\n",
    "finder = arb_finder(\n",
    "            flashloan_tokens=flashloan_tokens,\n",
    "            CCm=CCm,\n",
    "            mode=\"bothin\",\n",
    "            result=False,\n",
    "            ConfigObj=bot.ConfigObj,\n",
    "        )\n",
    "r = finder.find_arbitrage()\n",
    "(\n",
    "            best_profit,\n",
    "            best_trade_instructions_df,\n",
    "            best_trade_instructions_dic,\n",
    "            best_src_token,\n",
    "            best_trade_instructions,\n",
    "        ) = r\n",
    "(\n",
    "ordered_trade_instructions_dct,\n",
    "tx_in_count,\n",
    ") = bot._simple_ordering_by_src_token(\n",
    "best_trade_instructions_dic, best_src_token\n",
    ")\n",
    "\n",
    "pool_cids = [curve['cid'] for curve in ordered_trade_instructions_dct]\n",
    "first_check_pools = finder.get_exact_pools(pool_cids)\n",
    "ext_fee = finder.get_fee_safe(first_check_pools[0].fee)\n",
    "\n",
    "for pool in first_check_pools:\n",
    "    ext_fee = finder.get_fee_safe(pool.fee)\n",
    "    assert type(ext_fee) == float, f\"[test_bancor_v3_two_hop] Testing external pool, fee type is {type(ext_fee)} not float\""
   ]
  },
  {
   "cell_type": "markdown",
   "id": "4d3ff567",
   "metadata": {},
   "source": [
    "## Test_combos"
   ]
  },
  {
   "cell_type": "code",
   "execution_count": 9,
   "id": "f34d63cc",
   "metadata": {},
   "outputs": [
    {
     "name": "stdout",
     "output_type": "stream",
     "text": [
      "[('MKR-79A2', 'LRC-EafD'), ('MKR-79A2', 'USDC-eB48'), ('MKR-79A2', 'UNI-F984'), ('MKR-79A2', 'RPL-A51f'), ('MKR-79A2', 'NMR-6671'), ('MKR-79A2', 'AAVE-DaE9'), ('MKR-79A2', 'ICHI-A881'), ('MKR-79A2', 'WETH-6Cc2'), ('MKR-79A2', 'CROWN-E0fa'), ('MKR-79A2', 'TEMP-1aB9'), ('MKR-79A2', 'USDT-1ec7'), ('MKR-79A2', 'HOT-26E2'), ('MKR-79A2', 'RLC-7375'), ('MKR-79A2', 'BAT-87EF'), ('MKR-79A2', 'DIP-cD83'), ('MKR-79A2', 'MANA-C942'), ('MKR-79A2', 'wNXM-2bDE'), ('MKR-79A2', 'REQ-938a'), ('MKR-79A2', 'WOO-5D4B'), ('MKR-79A2', 'wstETH-2Ca0'), ('MKR-79A2', 'ENS-9D72'), ('MKR-79A2', 'QNT-4675'), ('MKR-79A2', 'TRAC-0A6F'), ('MKR-79A2', 'WBTC-C599'), ('MKR-79A2', 'LINK-86CA'), ('MKR-79A2', 'ENJ-3B9c'), ('MKR-79A2', 'ANKR-EDD4'), ('MKR-79A2', 'vBNT-7f94'), ('MKR-79A2', 'MONA-412A'), ('MKR-79A2', 'CHZ-b4AF'), ('MKR-79A2', 'DAI-1d0F'), ('MKR-79A2', 'MATIC-eBB0'), ('MKR-79A2', 'UOS-5C8c'), ('LRC-EafD', 'MKR-79A2'), ('LRC-EafD', 'USDC-eB48'), ('LRC-EafD', 'UNI-F984'), ('LRC-EafD', 'RPL-A51f'), ('LRC-EafD', 'NMR-6671'), ('LRC-EafD', 'AAVE-DaE9'), ('LRC-EafD', 'ICHI-A881'), ('LRC-EafD', 'WETH-6Cc2'), ('LRC-EafD', 'CROWN-E0fa'), ('LRC-EafD', 'TEMP-1aB9'), ('LRC-EafD', 'USDT-1ec7'), ('LRC-EafD', 'HOT-26E2'), ('LRC-EafD', 'RLC-7375'), ('LRC-EafD', 'BAT-87EF'), ('LRC-EafD', 'DIP-cD83'), ('LRC-EafD', 'MANA-C942'), ('LRC-EafD', 'wNXM-2bDE'), ('LRC-EafD', 'REQ-938a'), ('LRC-EafD', 'WOO-5D4B'), ('LRC-EafD', 'wstETH-2Ca0'), ('LRC-EafD', 'ENS-9D72'), ('LRC-EafD', 'QNT-4675'), ('LRC-EafD', 'TRAC-0A6F'), ('LRC-EafD', 'WBTC-C599'), ('LRC-EafD', 'LINK-86CA'), ('LRC-EafD', 'ENJ-3B9c'), ('LRC-EafD', 'ANKR-EDD4'), ('LRC-EafD', 'vBNT-7f94'), ('LRC-EafD', 'MONA-412A'), ('LRC-EafD', 'CHZ-b4AF'), ('LRC-EafD', 'DAI-1d0F'), ('LRC-EafD', 'MATIC-eBB0'), ('LRC-EafD', 'UOS-5C8c'), ('USDC-eB48', 'MKR-79A2'), ('USDC-eB48', 'LRC-EafD'), ('USDC-eB48', 'UNI-F984'), ('USDC-eB48', 'RPL-A51f'), ('USDC-eB48', 'NMR-6671'), ('USDC-eB48', 'AAVE-DaE9'), ('USDC-eB48', 'ICHI-A881'), ('USDC-eB48', 'WETH-6Cc2'), ('USDC-eB48', 'CROWN-E0fa'), ('USDC-eB48', 'TEMP-1aB9'), ('USDC-eB48', 'USDT-1ec7'), ('USDC-eB48', 'HOT-26E2'), ('USDC-eB48', 'RLC-7375'), ('USDC-eB48', 'BAT-87EF'), ('USDC-eB48', 'DIP-cD83'), ('USDC-eB48', 'MANA-C942'), ('USDC-eB48', 'wNXM-2bDE'), ('USDC-eB48', 'REQ-938a'), ('USDC-eB48', 'WOO-5D4B'), ('USDC-eB48', 'wstETH-2Ca0'), ('USDC-eB48', 'ENS-9D72'), ('USDC-eB48', 'QNT-4675'), ('USDC-eB48', 'TRAC-0A6F'), ('USDC-eB48', 'WBTC-C599'), ('USDC-eB48', 'LINK-86CA'), ('USDC-eB48', 'ENJ-3B9c'), ('USDC-eB48', 'ANKR-EDD4'), ('USDC-eB48', 'vBNT-7f94'), ('USDC-eB48', 'MONA-412A'), ('USDC-eB48', 'CHZ-b4AF'), ('USDC-eB48', 'DAI-1d0F'), ('USDC-eB48', 'MATIC-eBB0'), ('USDC-eB48', 'UOS-5C8c'), ('UNI-F984', 'MKR-79A2'), ('UNI-F984', 'LRC-EafD'), ('UNI-F984', 'USDC-eB48'), ('UNI-F984', 'RPL-A51f'), ('UNI-F984', 'NMR-6671'), ('UNI-F984', 'AAVE-DaE9'), ('UNI-F984', 'ICHI-A881'), ('UNI-F984', 'WETH-6Cc2'), ('UNI-F984', 'CROWN-E0fa'), ('UNI-F984', 'TEMP-1aB9'), ('UNI-F984', 'USDT-1ec7'), ('UNI-F984', 'HOT-26E2'), ('UNI-F984', 'RLC-7375'), ('UNI-F984', 'BAT-87EF'), ('UNI-F984', 'DIP-cD83'), ('UNI-F984', 'MANA-C942'), ('UNI-F984', 'wNXM-2bDE'), ('UNI-F984', 'REQ-938a'), ('UNI-F984', 'WOO-5D4B'), ('UNI-F984', 'wstETH-2Ca0'), ('UNI-F984', 'ENS-9D72'), ('UNI-F984', 'QNT-4675'), ('UNI-F984', 'TRAC-0A6F'), ('UNI-F984', 'WBTC-C599'), ('UNI-F984', 'LINK-86CA'), ('UNI-F984', 'ENJ-3B9c'), ('UNI-F984', 'ANKR-EDD4'), ('UNI-F984', 'vBNT-7f94'), ('UNI-F984', 'MONA-412A'), ('UNI-F984', 'CHZ-b4AF'), ('UNI-F984', 'DAI-1d0F'), ('UNI-F984', 'MATIC-eBB0'), ('UNI-F984', 'UOS-5C8c'), ('RPL-A51f', 'MKR-79A2'), ('RPL-A51f', 'LRC-EafD'), ('RPL-A51f', 'USDC-eB48'), ('RPL-A51f', 'UNI-F984'), ('RPL-A51f', 'NMR-6671'), ('RPL-A51f', 'AAVE-DaE9'), ('RPL-A51f', 'ICHI-A881'), ('RPL-A51f', 'WETH-6Cc2'), ('RPL-A51f', 'CROWN-E0fa'), ('RPL-A51f', 'TEMP-1aB9'), ('RPL-A51f', 'USDT-1ec7'), ('RPL-A51f', 'HOT-26E2'), ('RPL-A51f', 'RLC-7375'), ('RPL-A51f', 'BAT-87EF'), ('RPL-A51f', 'DIP-cD83'), ('RPL-A51f', 'MANA-C942'), ('RPL-A51f', 'wNXM-2bDE'), ('RPL-A51f', 'REQ-938a'), ('RPL-A51f', 'WOO-5D4B'), ('RPL-A51f', 'wstETH-2Ca0'), ('RPL-A51f', 'ENS-9D72'), ('RPL-A51f', 'QNT-4675'), ('RPL-A51f', 'TRAC-0A6F'), ('RPL-A51f', 'WBTC-C599'), ('RPL-A51f', 'LINK-86CA'), ('RPL-A51f', 'ENJ-3B9c'), ('RPL-A51f', 'ANKR-EDD4'), ('RPL-A51f', 'vBNT-7f94'), ('RPL-A51f', 'MONA-412A'), ('RPL-A51f', 'CHZ-b4AF'), ('RPL-A51f', 'DAI-1d0F'), ('RPL-A51f', 'MATIC-eBB0'), ('RPL-A51f', 'UOS-5C8c'), ('NMR-6671', 'MKR-79A2'), ('NMR-6671', 'LRC-EafD'), ('NMR-6671', 'USDC-eB48'), ('NMR-6671', 'UNI-F984'), ('NMR-6671', 'RPL-A51f'), ('NMR-6671', 'AAVE-DaE9'), ('NMR-6671', 'ICHI-A881'), ('NMR-6671', 'WETH-6Cc2'), ('NMR-6671', 'CROWN-E0fa'), ('NMR-6671', 'TEMP-1aB9'), ('NMR-6671', 'USDT-1ec7'), ('NMR-6671', 'HOT-26E2'), ('NMR-6671', 'RLC-7375'), ('NMR-6671', 'BAT-87EF'), ('NMR-6671', 'DIP-cD83'), ('NMR-6671', 'MANA-C942'), ('NMR-6671', 'wNXM-2bDE'), ('NMR-6671', 'REQ-938a'), ('NMR-6671', 'WOO-5D4B'), ('NMR-6671', 'wstETH-2Ca0'), ('NMR-6671', 'ENS-9D72'), ('NMR-6671', 'QNT-4675'), ('NMR-6671', 'TRAC-0A6F'), ('NMR-6671', 'WBTC-C599'), ('NMR-6671', 'LINK-86CA'), ('NMR-6671', 'ENJ-3B9c'), ('NMR-6671', 'ANKR-EDD4'), ('NMR-6671', 'vBNT-7f94'), ('NMR-6671', 'MONA-412A'), ('NMR-6671', 'CHZ-b4AF'), ('NMR-6671', 'DAI-1d0F'), ('NMR-6671', 'MATIC-eBB0'), ('NMR-6671', 'UOS-5C8c'), ('AAVE-DaE9', 'MKR-79A2'), ('AAVE-DaE9', 'LRC-EafD'), ('AAVE-DaE9', 'USDC-eB48'), ('AAVE-DaE9', 'UNI-F984'), ('AAVE-DaE9', 'RPL-A51f'), ('AAVE-DaE9', 'NMR-6671'), ('AAVE-DaE9', 'ICHI-A881'), ('AAVE-DaE9', 'WETH-6Cc2'), ('AAVE-DaE9', 'CROWN-E0fa'), ('AAVE-DaE9', 'TEMP-1aB9'), ('AAVE-DaE9', 'USDT-1ec7'), ('AAVE-DaE9', 'HOT-26E2'), ('AAVE-DaE9', 'RLC-7375'), ('AAVE-DaE9', 'BAT-87EF'), ('AAVE-DaE9', 'DIP-cD83'), ('AAVE-DaE9', 'MANA-C942'), ('AAVE-DaE9', 'wNXM-2bDE'), ('AAVE-DaE9', 'REQ-938a'), ('AAVE-DaE9', 'WOO-5D4B'), ('AAVE-DaE9', 'wstETH-2Ca0'), ('AAVE-DaE9', 'ENS-9D72'), ('AAVE-DaE9', 'QNT-4675'), ('AAVE-DaE9', 'TRAC-0A6F'), ('AAVE-DaE9', 'WBTC-C599'), ('AAVE-DaE9', 'LINK-86CA'), ('AAVE-DaE9', 'ENJ-3B9c'), ('AAVE-DaE9', 'ANKR-EDD4'), ('AAVE-DaE9', 'vBNT-7f94'), ('AAVE-DaE9', 'MONA-412A'), ('AAVE-DaE9', 'CHZ-b4AF'), ('AAVE-DaE9', 'DAI-1d0F'), ('AAVE-DaE9', 'MATIC-eBB0'), ('AAVE-DaE9', 'UOS-5C8c'), ('ICHI-A881', 'MKR-79A2'), ('ICHI-A881', 'LRC-EafD'), ('ICHI-A881', 'USDC-eB48'), ('ICHI-A881', 'UNI-F984'), ('ICHI-A881', 'RPL-A51f'), ('ICHI-A881', 'NMR-6671'), ('ICHI-A881', 'AAVE-DaE9'), ('ICHI-A881', 'WETH-6Cc2'), ('ICHI-A881', 'CROWN-E0fa'), ('ICHI-A881', 'TEMP-1aB9'), ('ICHI-A881', 'USDT-1ec7'), ('ICHI-A881', 'HOT-26E2'), ('ICHI-A881', 'RLC-7375'), ('ICHI-A881', 'BAT-87EF'), ('ICHI-A881', 'DIP-cD83'), ('ICHI-A881', 'MANA-C942'), ('ICHI-A881', 'wNXM-2bDE'), ('ICHI-A881', 'REQ-938a'), ('ICHI-A881', 'WOO-5D4B'), ('ICHI-A881', 'wstETH-2Ca0'), ('ICHI-A881', 'ENS-9D72'), ('ICHI-A881', 'QNT-4675'), ('ICHI-A881', 'TRAC-0A6F'), ('ICHI-A881', 'WBTC-C599'), ('ICHI-A881', 'LINK-86CA'), ('ICHI-A881', 'ENJ-3B9c'), ('ICHI-A881', 'ANKR-EDD4'), ('ICHI-A881', 'vBNT-7f94'), ('ICHI-A881', 'MONA-412A'), ('ICHI-A881', 'CHZ-b4AF'), ('ICHI-A881', 'DAI-1d0F'), ('ICHI-A881', 'MATIC-eBB0'), ('ICHI-A881', 'UOS-5C8c'), ('WETH-6Cc2', 'MKR-79A2'), ('WETH-6Cc2', 'LRC-EafD'), ('WETH-6Cc2', 'USDC-eB48'), ('WETH-6Cc2', 'UNI-F984'), ('WETH-6Cc2', 'RPL-A51f'), ('WETH-6Cc2', 'NMR-6671'), ('WETH-6Cc2', 'AAVE-DaE9'), ('WETH-6Cc2', 'ICHI-A881'), ('WETH-6Cc2', 'CROWN-E0fa'), ('WETH-6Cc2', 'TEMP-1aB9'), ('WETH-6Cc2', 'USDT-1ec7'), ('WETH-6Cc2', 'HOT-26E2'), ('WETH-6Cc2', 'RLC-7375'), ('WETH-6Cc2', 'BAT-87EF'), ('WETH-6Cc2', 'DIP-cD83'), ('WETH-6Cc2', 'MANA-C942'), ('WETH-6Cc2', 'wNXM-2bDE'), ('WETH-6Cc2', 'REQ-938a'), ('WETH-6Cc2', 'WOO-5D4B'), ('WETH-6Cc2', 'wstETH-2Ca0'), ('WETH-6Cc2', 'ENS-9D72'), ('WETH-6Cc2', 'QNT-4675'), ('WETH-6Cc2', 'TRAC-0A6F'), ('WETH-6Cc2', 'WBTC-C599'), ('WETH-6Cc2', 'LINK-86CA'), ('WETH-6Cc2', 'ENJ-3B9c'), ('WETH-6Cc2', 'ANKR-EDD4'), ('WETH-6Cc2', 'vBNT-7f94'), ('WETH-6Cc2', 'MONA-412A'), ('WETH-6Cc2', 'CHZ-b4AF'), ('WETH-6Cc2', 'DAI-1d0F'), ('WETH-6Cc2', 'MATIC-eBB0'), ('WETH-6Cc2', 'UOS-5C8c'), ('CROWN-E0fa', 'MKR-79A2'), ('CROWN-E0fa', 'LRC-EafD'), ('CROWN-E0fa', 'USDC-eB48'), ('CROWN-E0fa', 'UNI-F984'), ('CROWN-E0fa', 'RPL-A51f'), ('CROWN-E0fa', 'NMR-6671'), ('CROWN-E0fa', 'AAVE-DaE9'), ('CROWN-E0fa', 'ICHI-A881'), ('CROWN-E0fa', 'WETH-6Cc2'), ('CROWN-E0fa', 'TEMP-1aB9'), ('CROWN-E0fa', 'USDT-1ec7'), ('CROWN-E0fa', 'HOT-26E2'), ('CROWN-E0fa', 'RLC-7375'), ('CROWN-E0fa', 'BAT-87EF'), ('CROWN-E0fa', 'DIP-cD83'), ('CROWN-E0fa', 'MANA-C942'), ('CROWN-E0fa', 'wNXM-2bDE'), ('CROWN-E0fa', 'REQ-938a'), ('CROWN-E0fa', 'WOO-5D4B'), ('CROWN-E0fa', 'wstETH-2Ca0'), ('CROWN-E0fa', 'ENS-9D72'), ('CROWN-E0fa', 'QNT-4675'), ('CROWN-E0fa', 'TRAC-0A6F'), ('CROWN-E0fa', 'WBTC-C599'), ('CROWN-E0fa', 'LINK-86CA'), ('CROWN-E0fa', 'ENJ-3B9c'), ('CROWN-E0fa', 'ANKR-EDD4'), ('CROWN-E0fa', 'vBNT-7f94'), ('CROWN-E0fa', 'MONA-412A'), ('CROWN-E0fa', 'CHZ-b4AF'), ('CROWN-E0fa', 'DAI-1d0F'), ('CROWN-E0fa', 'MATIC-eBB0'), ('CROWN-E0fa', 'UOS-5C8c'), ('TEMP-1aB9', 'MKR-79A2'), ('TEMP-1aB9', 'LRC-EafD'), ('TEMP-1aB9', 'USDC-eB48'), ('TEMP-1aB9', 'UNI-F984'), ('TEMP-1aB9', 'RPL-A51f'), ('TEMP-1aB9', 'NMR-6671'), ('TEMP-1aB9', 'AAVE-DaE9'), ('TEMP-1aB9', 'ICHI-A881'), ('TEMP-1aB9', 'WETH-6Cc2'), ('TEMP-1aB9', 'CROWN-E0fa'), ('TEMP-1aB9', 'USDT-1ec7'), ('TEMP-1aB9', 'HOT-26E2'), ('TEMP-1aB9', 'RLC-7375'), ('TEMP-1aB9', 'BAT-87EF'), ('TEMP-1aB9', 'DIP-cD83'), ('TEMP-1aB9', 'MANA-C942'), ('TEMP-1aB9', 'wNXM-2bDE'), ('TEMP-1aB9', 'REQ-938a'), ('TEMP-1aB9', 'WOO-5D4B'), ('TEMP-1aB9', 'wstETH-2Ca0'), ('TEMP-1aB9', 'ENS-9D72'), ('TEMP-1aB9', 'QNT-4675'), ('TEMP-1aB9', 'TRAC-0A6F'), ('TEMP-1aB9', 'WBTC-C599'), ('TEMP-1aB9', 'LINK-86CA'), ('TEMP-1aB9', 'ENJ-3B9c'), ('TEMP-1aB9', 'ANKR-EDD4'), ('TEMP-1aB9', 'vBNT-7f94'), ('TEMP-1aB9', 'MONA-412A'), ('TEMP-1aB9', 'CHZ-b4AF'), ('TEMP-1aB9', 'DAI-1d0F'), ('TEMP-1aB9', 'MATIC-eBB0'), ('TEMP-1aB9', 'UOS-5C8c'), ('USDT-1ec7', 'MKR-79A2'), ('USDT-1ec7', 'LRC-EafD'), ('USDT-1ec7', 'USDC-eB48'), ('USDT-1ec7', 'UNI-F984'), ('USDT-1ec7', 'RPL-A51f'), ('USDT-1ec7', 'NMR-6671'), ('USDT-1ec7', 'AAVE-DaE9'), ('USDT-1ec7', 'ICHI-A881'), ('USDT-1ec7', 'WETH-6Cc2'), ('USDT-1ec7', 'CROWN-E0fa'), ('USDT-1ec7', 'TEMP-1aB9'), ('USDT-1ec7', 'HOT-26E2'), ('USDT-1ec7', 'RLC-7375'), ('USDT-1ec7', 'BAT-87EF'), ('USDT-1ec7', 'DIP-cD83'), ('USDT-1ec7', 'MANA-C942'), ('USDT-1ec7', 'wNXM-2bDE'), ('USDT-1ec7', 'REQ-938a'), ('USDT-1ec7', 'WOO-5D4B'), ('USDT-1ec7', 'wstETH-2Ca0'), ('USDT-1ec7', 'ENS-9D72'), ('USDT-1ec7', 'QNT-4675'), ('USDT-1ec7', 'TRAC-0A6F'), ('USDT-1ec7', 'WBTC-C599'), ('USDT-1ec7', 'LINK-86CA'), ('USDT-1ec7', 'ENJ-3B9c'), ('USDT-1ec7', 'ANKR-EDD4'), ('USDT-1ec7', 'vBNT-7f94'), ('USDT-1ec7', 'MONA-412A'), ('USDT-1ec7', 'CHZ-b4AF'), ('USDT-1ec7', 'DAI-1d0F'), ('USDT-1ec7', 'MATIC-eBB0'), ('USDT-1ec7', 'UOS-5C8c'), ('HOT-26E2', 'MKR-79A2'), ('HOT-26E2', 'LRC-EafD'), ('HOT-26E2', 'USDC-eB48'), ('HOT-26E2', 'UNI-F984'), ('HOT-26E2', 'RPL-A51f'), ('HOT-26E2', 'NMR-6671'), ('HOT-26E2', 'AAVE-DaE9'), ('HOT-26E2', 'ICHI-A881'), ('HOT-26E2', 'WETH-6Cc2'), ('HOT-26E2', 'CROWN-E0fa'), ('HOT-26E2', 'TEMP-1aB9'), ('HOT-26E2', 'USDT-1ec7'), ('HOT-26E2', 'RLC-7375'), ('HOT-26E2', 'BAT-87EF'), ('HOT-26E2', 'DIP-cD83'), ('HOT-26E2', 'MANA-C942'), ('HOT-26E2', 'wNXM-2bDE'), ('HOT-26E2', 'REQ-938a'), ('HOT-26E2', 'WOO-5D4B'), ('HOT-26E2', 'wstETH-2Ca0'), ('HOT-26E2', 'ENS-9D72'), ('HOT-26E2', 'QNT-4675'), ('HOT-26E2', 'TRAC-0A6F'), ('HOT-26E2', 'WBTC-C599'), ('HOT-26E2', 'LINK-86CA'), ('HOT-26E2', 'ENJ-3B9c'), ('HOT-26E2', 'ANKR-EDD4'), ('HOT-26E2', 'vBNT-7f94'), ('HOT-26E2', 'MONA-412A'), ('HOT-26E2', 'CHZ-b4AF'), ('HOT-26E2', 'DAI-1d0F'), ('HOT-26E2', 'MATIC-eBB0'), ('HOT-26E2', 'UOS-5C8c'), ('RLC-7375', 'MKR-79A2'), ('RLC-7375', 'LRC-EafD'), ('RLC-7375', 'USDC-eB48'), ('RLC-7375', 'UNI-F984'), ('RLC-7375', 'RPL-A51f'), ('RLC-7375', 'NMR-6671'), ('RLC-7375', 'AAVE-DaE9'), ('RLC-7375', 'ICHI-A881'), ('RLC-7375', 'WETH-6Cc2'), ('RLC-7375', 'CROWN-E0fa'), ('RLC-7375', 'TEMP-1aB9'), ('RLC-7375', 'USDT-1ec7'), ('RLC-7375', 'HOT-26E2'), ('RLC-7375', 'BAT-87EF'), ('RLC-7375', 'DIP-cD83'), ('RLC-7375', 'MANA-C942'), ('RLC-7375', 'wNXM-2bDE'), ('RLC-7375', 'REQ-938a'), ('RLC-7375', 'WOO-5D4B'), ('RLC-7375', 'wstETH-2Ca0'), ('RLC-7375', 'ENS-9D72'), ('RLC-7375', 'QNT-4675'), ('RLC-7375', 'TRAC-0A6F'), ('RLC-7375', 'WBTC-C599'), ('RLC-7375', 'LINK-86CA'), ('RLC-7375', 'ENJ-3B9c'), ('RLC-7375', 'ANKR-EDD4'), ('RLC-7375', 'vBNT-7f94'), ('RLC-7375', 'MONA-412A'), ('RLC-7375', 'CHZ-b4AF'), ('RLC-7375', 'DAI-1d0F'), ('RLC-7375', 'MATIC-eBB0'), ('RLC-7375', 'UOS-5C8c'), ('BAT-87EF', 'MKR-79A2'), ('BAT-87EF', 'LRC-EafD'), ('BAT-87EF', 'USDC-eB48'), ('BAT-87EF', 'UNI-F984'), ('BAT-87EF', 'RPL-A51f'), ('BAT-87EF', 'NMR-6671'), ('BAT-87EF', 'AAVE-DaE9'), ('BAT-87EF', 'ICHI-A881'), ('BAT-87EF', 'WETH-6Cc2'), ('BAT-87EF', 'CROWN-E0fa'), ('BAT-87EF', 'TEMP-1aB9'), ('BAT-87EF', 'USDT-1ec7'), ('BAT-87EF', 'HOT-26E2'), ('BAT-87EF', 'RLC-7375'), ('BAT-87EF', 'DIP-cD83'), ('BAT-87EF', 'MANA-C942'), ('BAT-87EF', 'wNXM-2bDE'), ('BAT-87EF', 'REQ-938a'), ('BAT-87EF', 'WOO-5D4B'), ('BAT-87EF', 'wstETH-2Ca0'), ('BAT-87EF', 'ENS-9D72'), ('BAT-87EF', 'QNT-4675'), ('BAT-87EF', 'TRAC-0A6F'), ('BAT-87EF', 'WBTC-C599'), ('BAT-87EF', 'LINK-86CA'), ('BAT-87EF', 'ENJ-3B9c'), ('BAT-87EF', 'ANKR-EDD4'), ('BAT-87EF', 'vBNT-7f94'), ('BAT-87EF', 'MONA-412A'), ('BAT-87EF', 'CHZ-b4AF'), ('BAT-87EF', 'DAI-1d0F'), ('BAT-87EF', 'MATIC-eBB0'), ('BAT-87EF', 'UOS-5C8c'), ('DIP-cD83', 'MKR-79A2'), ('DIP-cD83', 'LRC-EafD'), ('DIP-cD83', 'USDC-eB48'), ('DIP-cD83', 'UNI-F984'), ('DIP-cD83', 'RPL-A51f'), ('DIP-cD83', 'NMR-6671'), ('DIP-cD83', 'AAVE-DaE9'), ('DIP-cD83', 'ICHI-A881'), ('DIP-cD83', 'WETH-6Cc2'), ('DIP-cD83', 'CROWN-E0fa'), ('DIP-cD83', 'TEMP-1aB9'), ('DIP-cD83', 'USDT-1ec7'), ('DIP-cD83', 'HOT-26E2'), ('DIP-cD83', 'RLC-7375'), ('DIP-cD83', 'BAT-87EF'), ('DIP-cD83', 'MANA-C942'), ('DIP-cD83', 'wNXM-2bDE'), ('DIP-cD83', 'REQ-938a'), ('DIP-cD83', 'WOO-5D4B'), ('DIP-cD83', 'wstETH-2Ca0'), ('DIP-cD83', 'ENS-9D72'), ('DIP-cD83', 'QNT-4675'), ('DIP-cD83', 'TRAC-0A6F'), ('DIP-cD83', 'WBTC-C599'), ('DIP-cD83', 'LINK-86CA'), ('DIP-cD83', 'ENJ-3B9c'), ('DIP-cD83', 'ANKR-EDD4'), ('DIP-cD83', 'vBNT-7f94'), ('DIP-cD83', 'MONA-412A'), ('DIP-cD83', 'CHZ-b4AF'), ('DIP-cD83', 'DAI-1d0F'), ('DIP-cD83', 'MATIC-eBB0'), ('DIP-cD83', 'UOS-5C8c'), ('MANA-C942', 'MKR-79A2'), ('MANA-C942', 'LRC-EafD'), ('MANA-C942', 'USDC-eB48'), ('MANA-C942', 'UNI-F984'), ('MANA-C942', 'RPL-A51f'), ('MANA-C942', 'NMR-6671'), ('MANA-C942', 'AAVE-DaE9'), ('MANA-C942', 'ICHI-A881'), ('MANA-C942', 'WETH-6Cc2'), ('MANA-C942', 'CROWN-E0fa'), ('MANA-C942', 'TEMP-1aB9'), ('MANA-C942', 'USDT-1ec7'), ('MANA-C942', 'HOT-26E2'), ('MANA-C942', 'RLC-7375'), ('MANA-C942', 'BAT-87EF'), ('MANA-C942', 'DIP-cD83'), ('MANA-C942', 'wNXM-2bDE'), ('MANA-C942', 'REQ-938a'), ('MANA-C942', 'WOO-5D4B'), ('MANA-C942', 'wstETH-2Ca0'), ('MANA-C942', 'ENS-9D72'), ('MANA-C942', 'QNT-4675'), ('MANA-C942', 'TRAC-0A6F'), ('MANA-C942', 'WBTC-C599'), ('MANA-C942', 'LINK-86CA'), ('MANA-C942', 'ENJ-3B9c'), ('MANA-C942', 'ANKR-EDD4'), ('MANA-C942', 'vBNT-7f94'), ('MANA-C942', 'MONA-412A'), ('MANA-C942', 'CHZ-b4AF'), ('MANA-C942', 'DAI-1d0F'), ('MANA-C942', 'MATIC-eBB0'), ('MANA-C942', 'UOS-5C8c'), ('wNXM-2bDE', 'MKR-79A2'), ('wNXM-2bDE', 'LRC-EafD'), ('wNXM-2bDE', 'USDC-eB48'), ('wNXM-2bDE', 'UNI-F984'), ('wNXM-2bDE', 'RPL-A51f'), ('wNXM-2bDE', 'NMR-6671'), ('wNXM-2bDE', 'AAVE-DaE9'), ('wNXM-2bDE', 'ICHI-A881'), ('wNXM-2bDE', 'WETH-6Cc2'), ('wNXM-2bDE', 'CROWN-E0fa'), ('wNXM-2bDE', 'TEMP-1aB9'), ('wNXM-2bDE', 'USDT-1ec7'), ('wNXM-2bDE', 'HOT-26E2'), ('wNXM-2bDE', 'RLC-7375'), ('wNXM-2bDE', 'BAT-87EF'), ('wNXM-2bDE', 'DIP-cD83'), ('wNXM-2bDE', 'MANA-C942'), ('wNXM-2bDE', 'REQ-938a'), ('wNXM-2bDE', 'WOO-5D4B'), ('wNXM-2bDE', 'wstETH-2Ca0'), ('wNXM-2bDE', 'ENS-9D72'), ('wNXM-2bDE', 'QNT-4675'), ('wNXM-2bDE', 'TRAC-0A6F'), ('wNXM-2bDE', 'WBTC-C599'), ('wNXM-2bDE', 'LINK-86CA'), ('wNXM-2bDE', 'ENJ-3B9c'), ('wNXM-2bDE', 'ANKR-EDD4'), ('wNXM-2bDE', 'vBNT-7f94'), ('wNXM-2bDE', 'MONA-412A'), ('wNXM-2bDE', 'CHZ-b4AF'), ('wNXM-2bDE', 'DAI-1d0F'), ('wNXM-2bDE', 'MATIC-eBB0'), ('wNXM-2bDE', 'UOS-5C8c'), ('REQ-938a', 'MKR-79A2'), ('REQ-938a', 'LRC-EafD'), ('REQ-938a', 'USDC-eB48'), ('REQ-938a', 'UNI-F984'), ('REQ-938a', 'RPL-A51f'), ('REQ-938a', 'NMR-6671'), ('REQ-938a', 'AAVE-DaE9'), ('REQ-938a', 'ICHI-A881'), ('REQ-938a', 'WETH-6Cc2'), ('REQ-938a', 'CROWN-E0fa'), ('REQ-938a', 'TEMP-1aB9'), ('REQ-938a', 'USDT-1ec7'), ('REQ-938a', 'HOT-26E2'), ('REQ-938a', 'RLC-7375'), ('REQ-938a', 'BAT-87EF'), ('REQ-938a', 'DIP-cD83'), ('REQ-938a', 'MANA-C942'), ('REQ-938a', 'wNXM-2bDE'), ('REQ-938a', 'WOO-5D4B'), ('REQ-938a', 'wstETH-2Ca0'), ('REQ-938a', 'ENS-9D72'), ('REQ-938a', 'QNT-4675'), ('REQ-938a', 'TRAC-0A6F'), ('REQ-938a', 'WBTC-C599'), ('REQ-938a', 'LINK-86CA'), ('REQ-938a', 'ENJ-3B9c'), ('REQ-938a', 'ANKR-EDD4'), ('REQ-938a', 'vBNT-7f94'), ('REQ-938a', 'MONA-412A'), ('REQ-938a', 'CHZ-b4AF'), ('REQ-938a', 'DAI-1d0F'), ('REQ-938a', 'MATIC-eBB0'), ('REQ-938a', 'UOS-5C8c'), ('WOO-5D4B', 'MKR-79A2'), ('WOO-5D4B', 'LRC-EafD'), ('WOO-5D4B', 'USDC-eB48'), ('WOO-5D4B', 'UNI-F984'), ('WOO-5D4B', 'RPL-A51f'), ('WOO-5D4B', 'NMR-6671'), ('WOO-5D4B', 'AAVE-DaE9'), ('WOO-5D4B', 'ICHI-A881'), ('WOO-5D4B', 'WETH-6Cc2'), ('WOO-5D4B', 'CROWN-E0fa'), ('WOO-5D4B', 'TEMP-1aB9'), ('WOO-5D4B', 'USDT-1ec7'), ('WOO-5D4B', 'HOT-26E2'), ('WOO-5D4B', 'RLC-7375'), ('WOO-5D4B', 'BAT-87EF'), ('WOO-5D4B', 'DIP-cD83'), ('WOO-5D4B', 'MANA-C942'), ('WOO-5D4B', 'wNXM-2bDE'), ('WOO-5D4B', 'REQ-938a'), ('WOO-5D4B', 'wstETH-2Ca0'), ('WOO-5D4B', 'ENS-9D72'), ('WOO-5D4B', 'QNT-4675'), ('WOO-5D4B', 'TRAC-0A6F'), ('WOO-5D4B', 'WBTC-C599'), ('WOO-5D4B', 'LINK-86CA'), ('WOO-5D4B', 'ENJ-3B9c'), ('WOO-5D4B', 'ANKR-EDD4'), ('WOO-5D4B', 'vBNT-7f94'), ('WOO-5D4B', 'MONA-412A'), ('WOO-5D4B', 'CHZ-b4AF'), ('WOO-5D4B', 'DAI-1d0F'), ('WOO-5D4B', 'MATIC-eBB0'), ('WOO-5D4B', 'UOS-5C8c'), ('wstETH-2Ca0', 'MKR-79A2'), ('wstETH-2Ca0', 'LRC-EafD'), ('wstETH-2Ca0', 'USDC-eB48'), ('wstETH-2Ca0', 'UNI-F984'), ('wstETH-2Ca0', 'RPL-A51f'), ('wstETH-2Ca0', 'NMR-6671'), ('wstETH-2Ca0', 'AAVE-DaE9'), ('wstETH-2Ca0', 'ICHI-A881'), ('wstETH-2Ca0', 'WETH-6Cc2'), ('wstETH-2Ca0', 'CROWN-E0fa'), ('wstETH-2Ca0', 'TEMP-1aB9'), ('wstETH-2Ca0', 'USDT-1ec7'), ('wstETH-2Ca0', 'HOT-26E2'), ('wstETH-2Ca0', 'RLC-7375'), ('wstETH-2Ca0', 'BAT-87EF'), ('wstETH-2Ca0', 'DIP-cD83'), ('wstETH-2Ca0', 'MANA-C942'), ('wstETH-2Ca0', 'wNXM-2bDE'), ('wstETH-2Ca0', 'REQ-938a'), ('wstETH-2Ca0', 'WOO-5D4B'), ('wstETH-2Ca0', 'ENS-9D72'), ('wstETH-2Ca0', 'QNT-4675'), ('wstETH-2Ca0', 'TRAC-0A6F'), ('wstETH-2Ca0', 'WBTC-C599'), ('wstETH-2Ca0', 'LINK-86CA'), ('wstETH-2Ca0', 'ENJ-3B9c'), ('wstETH-2Ca0', 'ANKR-EDD4'), ('wstETH-2Ca0', 'vBNT-7f94'), ('wstETH-2Ca0', 'MONA-412A'), ('wstETH-2Ca0', 'CHZ-b4AF'), ('wstETH-2Ca0', 'DAI-1d0F'), ('wstETH-2Ca0', 'MATIC-eBB0'), ('wstETH-2Ca0', 'UOS-5C8c'), ('ENS-9D72', 'MKR-79A2'), ('ENS-9D72', 'LRC-EafD'), ('ENS-9D72', 'USDC-eB48'), ('ENS-9D72', 'UNI-F984'), ('ENS-9D72', 'RPL-A51f'), ('ENS-9D72', 'NMR-6671'), ('ENS-9D72', 'AAVE-DaE9'), ('ENS-9D72', 'ICHI-A881'), ('ENS-9D72', 'WETH-6Cc2'), ('ENS-9D72', 'CROWN-E0fa'), ('ENS-9D72', 'TEMP-1aB9'), ('ENS-9D72', 'USDT-1ec7'), ('ENS-9D72', 'HOT-26E2'), ('ENS-9D72', 'RLC-7375'), ('ENS-9D72', 'BAT-87EF'), ('ENS-9D72', 'DIP-cD83'), ('ENS-9D72', 'MANA-C942'), ('ENS-9D72', 'wNXM-2bDE'), ('ENS-9D72', 'REQ-938a'), ('ENS-9D72', 'WOO-5D4B'), ('ENS-9D72', 'wstETH-2Ca0'), ('ENS-9D72', 'QNT-4675'), ('ENS-9D72', 'TRAC-0A6F'), ('ENS-9D72', 'WBTC-C599'), ('ENS-9D72', 'LINK-86CA'), ('ENS-9D72', 'ENJ-3B9c'), ('ENS-9D72', 'ANKR-EDD4'), ('ENS-9D72', 'vBNT-7f94'), ('ENS-9D72', 'MONA-412A'), ('ENS-9D72', 'CHZ-b4AF'), ('ENS-9D72', 'DAI-1d0F'), ('ENS-9D72', 'MATIC-eBB0'), ('ENS-9D72', 'UOS-5C8c'), ('QNT-4675', 'MKR-79A2'), ('QNT-4675', 'LRC-EafD'), ('QNT-4675', 'USDC-eB48'), ('QNT-4675', 'UNI-F984'), ('QNT-4675', 'RPL-A51f'), ('QNT-4675', 'NMR-6671'), ('QNT-4675', 'AAVE-DaE9'), ('QNT-4675', 'ICHI-A881'), ('QNT-4675', 'WETH-6Cc2'), ('QNT-4675', 'CROWN-E0fa'), ('QNT-4675', 'TEMP-1aB9'), ('QNT-4675', 'USDT-1ec7'), ('QNT-4675', 'HOT-26E2'), ('QNT-4675', 'RLC-7375'), ('QNT-4675', 'BAT-87EF'), ('QNT-4675', 'DIP-cD83'), ('QNT-4675', 'MANA-C942'), ('QNT-4675', 'wNXM-2bDE'), ('QNT-4675', 'REQ-938a'), ('QNT-4675', 'WOO-5D4B'), ('QNT-4675', 'wstETH-2Ca0'), ('QNT-4675', 'ENS-9D72'), ('QNT-4675', 'TRAC-0A6F'), ('QNT-4675', 'WBTC-C599'), ('QNT-4675', 'LINK-86CA'), ('QNT-4675', 'ENJ-3B9c'), ('QNT-4675', 'ANKR-EDD4'), ('QNT-4675', 'vBNT-7f94'), ('QNT-4675', 'MONA-412A'), ('QNT-4675', 'CHZ-b4AF'), ('QNT-4675', 'DAI-1d0F'), ('QNT-4675', 'MATIC-eBB0'), ('QNT-4675', 'UOS-5C8c'), ('TRAC-0A6F', 'MKR-79A2'), ('TRAC-0A6F', 'LRC-EafD'), ('TRAC-0A6F', 'USDC-eB48'), ('TRAC-0A6F', 'UNI-F984'), ('TRAC-0A6F', 'RPL-A51f'), ('TRAC-0A6F', 'NMR-6671'), ('TRAC-0A6F', 'AAVE-DaE9'), ('TRAC-0A6F', 'ICHI-A881'), ('TRAC-0A6F', 'WETH-6Cc2'), ('TRAC-0A6F', 'CROWN-E0fa'), ('TRAC-0A6F', 'TEMP-1aB9'), ('TRAC-0A6F', 'USDT-1ec7'), ('TRAC-0A6F', 'HOT-26E2'), ('TRAC-0A6F', 'RLC-7375'), ('TRAC-0A6F', 'BAT-87EF'), ('TRAC-0A6F', 'DIP-cD83'), ('TRAC-0A6F', 'MANA-C942'), ('TRAC-0A6F', 'wNXM-2bDE'), ('TRAC-0A6F', 'REQ-938a'), ('TRAC-0A6F', 'WOO-5D4B'), ('TRAC-0A6F', 'wstETH-2Ca0'), ('TRAC-0A6F', 'ENS-9D72'), ('TRAC-0A6F', 'QNT-4675'), ('TRAC-0A6F', 'WBTC-C599'), ('TRAC-0A6F', 'LINK-86CA'), ('TRAC-0A6F', 'ENJ-3B9c'), ('TRAC-0A6F', 'ANKR-EDD4'), ('TRAC-0A6F', 'vBNT-7f94'), ('TRAC-0A6F', 'MONA-412A'), ('TRAC-0A6F', 'CHZ-b4AF'), ('TRAC-0A6F', 'DAI-1d0F'), ('TRAC-0A6F', 'MATIC-eBB0'), ('TRAC-0A6F', 'UOS-5C8c'), ('WBTC-C599', 'MKR-79A2'), ('WBTC-C599', 'LRC-EafD'), ('WBTC-C599', 'USDC-eB48'), ('WBTC-C599', 'UNI-F984'), ('WBTC-C599', 'RPL-A51f'), ('WBTC-C599', 'NMR-6671'), ('WBTC-C599', 'AAVE-DaE9'), ('WBTC-C599', 'ICHI-A881'), ('WBTC-C599', 'WETH-6Cc2'), ('WBTC-C599', 'CROWN-E0fa'), ('WBTC-C599', 'TEMP-1aB9'), ('WBTC-C599', 'USDT-1ec7'), ('WBTC-C599', 'HOT-26E2'), ('WBTC-C599', 'RLC-7375'), ('WBTC-C599', 'BAT-87EF'), ('WBTC-C599', 'DIP-cD83'), ('WBTC-C599', 'MANA-C942'), ('WBTC-C599', 'wNXM-2bDE'), ('WBTC-C599', 'REQ-938a'), ('WBTC-C599', 'WOO-5D4B'), ('WBTC-C599', 'wstETH-2Ca0'), ('WBTC-C599', 'ENS-9D72'), ('WBTC-C599', 'QNT-4675'), ('WBTC-C599', 'TRAC-0A6F'), ('WBTC-C599', 'LINK-86CA'), ('WBTC-C599', 'ENJ-3B9c'), ('WBTC-C599', 'ANKR-EDD4'), ('WBTC-C599', 'vBNT-7f94'), ('WBTC-C599', 'MONA-412A'), ('WBTC-C599', 'CHZ-b4AF'), ('WBTC-C599', 'DAI-1d0F'), ('WBTC-C599', 'MATIC-eBB0'), ('WBTC-C599', 'UOS-5C8c'), ('LINK-86CA', 'MKR-79A2'), ('LINK-86CA', 'LRC-EafD'), ('LINK-86CA', 'USDC-eB48'), ('LINK-86CA', 'UNI-F984'), ('LINK-86CA', 'RPL-A51f'), ('LINK-86CA', 'NMR-6671'), ('LINK-86CA', 'AAVE-DaE9'), ('LINK-86CA', 'ICHI-A881'), ('LINK-86CA', 'WETH-6Cc2'), ('LINK-86CA', 'CROWN-E0fa'), ('LINK-86CA', 'TEMP-1aB9'), ('LINK-86CA', 'USDT-1ec7'), ('LINK-86CA', 'HOT-26E2'), ('LINK-86CA', 'RLC-7375'), ('LINK-86CA', 'BAT-87EF'), ('LINK-86CA', 'DIP-cD83'), ('LINK-86CA', 'MANA-C942'), ('LINK-86CA', 'wNXM-2bDE'), ('LINK-86CA', 'REQ-938a'), ('LINK-86CA', 'WOO-5D4B'), ('LINK-86CA', 'wstETH-2Ca0'), ('LINK-86CA', 'ENS-9D72'), ('LINK-86CA', 'QNT-4675'), ('LINK-86CA', 'TRAC-0A6F'), ('LINK-86CA', 'WBTC-C599'), ('LINK-86CA', 'ENJ-3B9c'), ('LINK-86CA', 'ANKR-EDD4'), ('LINK-86CA', 'vBNT-7f94'), ('LINK-86CA', 'MONA-412A'), ('LINK-86CA', 'CHZ-b4AF'), ('LINK-86CA', 'DAI-1d0F'), ('LINK-86CA', 'MATIC-eBB0'), ('LINK-86CA', 'UOS-5C8c'), ('ENJ-3B9c', 'MKR-79A2'), ('ENJ-3B9c', 'LRC-EafD'), ('ENJ-3B9c', 'USDC-eB48'), ('ENJ-3B9c', 'UNI-F984'), ('ENJ-3B9c', 'RPL-A51f'), ('ENJ-3B9c', 'NMR-6671'), ('ENJ-3B9c', 'AAVE-DaE9'), ('ENJ-3B9c', 'ICHI-A881'), ('ENJ-3B9c', 'WETH-6Cc2'), ('ENJ-3B9c', 'CROWN-E0fa'), ('ENJ-3B9c', 'TEMP-1aB9'), ('ENJ-3B9c', 'USDT-1ec7'), ('ENJ-3B9c', 'HOT-26E2'), ('ENJ-3B9c', 'RLC-7375'), ('ENJ-3B9c', 'BAT-87EF'), ('ENJ-3B9c', 'DIP-cD83'), ('ENJ-3B9c', 'MANA-C942'), ('ENJ-3B9c', 'wNXM-2bDE'), ('ENJ-3B9c', 'REQ-938a'), ('ENJ-3B9c', 'WOO-5D4B'), ('ENJ-3B9c', 'wstETH-2Ca0'), ('ENJ-3B9c', 'ENS-9D72'), ('ENJ-3B9c', 'QNT-4675'), ('ENJ-3B9c', 'TRAC-0A6F'), ('ENJ-3B9c', 'WBTC-C599'), ('ENJ-3B9c', 'LINK-86CA'), ('ENJ-3B9c', 'ANKR-EDD4'), ('ENJ-3B9c', 'vBNT-7f94'), ('ENJ-3B9c', 'MONA-412A'), ('ENJ-3B9c', 'CHZ-b4AF'), ('ENJ-3B9c', 'DAI-1d0F'), ('ENJ-3B9c', 'MATIC-eBB0'), ('ENJ-3B9c', 'UOS-5C8c'), ('ANKR-EDD4', 'MKR-79A2'), ('ANKR-EDD4', 'LRC-EafD'), ('ANKR-EDD4', 'USDC-eB48'), ('ANKR-EDD4', 'UNI-F984'), ('ANKR-EDD4', 'RPL-A51f'), ('ANKR-EDD4', 'NMR-6671'), ('ANKR-EDD4', 'AAVE-DaE9'), ('ANKR-EDD4', 'ICHI-A881'), ('ANKR-EDD4', 'WETH-6Cc2'), ('ANKR-EDD4', 'CROWN-E0fa'), ('ANKR-EDD4', 'TEMP-1aB9'), ('ANKR-EDD4', 'USDT-1ec7'), ('ANKR-EDD4', 'HOT-26E2'), ('ANKR-EDD4', 'RLC-7375'), ('ANKR-EDD4', 'BAT-87EF'), ('ANKR-EDD4', 'DIP-cD83'), ('ANKR-EDD4', 'MANA-C942'), ('ANKR-EDD4', 'wNXM-2bDE'), ('ANKR-EDD4', 'REQ-938a'), ('ANKR-EDD4', 'WOO-5D4B'), ('ANKR-EDD4', 'wstETH-2Ca0'), ('ANKR-EDD4', 'ENS-9D72'), ('ANKR-EDD4', 'QNT-4675'), ('ANKR-EDD4', 'TRAC-0A6F'), ('ANKR-EDD4', 'WBTC-C599'), ('ANKR-EDD4', 'LINK-86CA'), ('ANKR-EDD4', 'ENJ-3B9c'), ('ANKR-EDD4', 'vBNT-7f94'), ('ANKR-EDD4', 'MONA-412A'), ('ANKR-EDD4', 'CHZ-b4AF'), ('ANKR-EDD4', 'DAI-1d0F'), ('ANKR-EDD4', 'MATIC-eBB0'), ('ANKR-EDD4', 'UOS-5C8c'), ('vBNT-7f94', 'MKR-79A2'), ('vBNT-7f94', 'LRC-EafD'), ('vBNT-7f94', 'USDC-eB48'), ('vBNT-7f94', 'UNI-F984'), ('vBNT-7f94', 'RPL-A51f'), ('vBNT-7f94', 'NMR-6671'), ('vBNT-7f94', 'AAVE-DaE9'), ('vBNT-7f94', 'ICHI-A881'), ('vBNT-7f94', 'WETH-6Cc2'), ('vBNT-7f94', 'CROWN-E0fa'), ('vBNT-7f94', 'TEMP-1aB9'), ('vBNT-7f94', 'USDT-1ec7'), ('vBNT-7f94', 'HOT-26E2'), ('vBNT-7f94', 'RLC-7375'), ('vBNT-7f94', 'BAT-87EF'), ('vBNT-7f94', 'DIP-cD83'), ('vBNT-7f94', 'MANA-C942'), ('vBNT-7f94', 'wNXM-2bDE'), ('vBNT-7f94', 'REQ-938a'), ('vBNT-7f94', 'WOO-5D4B'), ('vBNT-7f94', 'wstETH-2Ca0'), ('vBNT-7f94', 'ENS-9D72'), ('vBNT-7f94', 'QNT-4675'), ('vBNT-7f94', 'TRAC-0A6F'), ('vBNT-7f94', 'WBTC-C599'), ('vBNT-7f94', 'LINK-86CA'), ('vBNT-7f94', 'ENJ-3B9c'), ('vBNT-7f94', 'ANKR-EDD4'), ('vBNT-7f94', 'MONA-412A'), ('vBNT-7f94', 'CHZ-b4AF'), ('vBNT-7f94', 'DAI-1d0F'), ('vBNT-7f94', 'MATIC-eBB0'), ('vBNT-7f94', 'UOS-5C8c'), ('MONA-412A', 'MKR-79A2'), ('MONA-412A', 'LRC-EafD'), ('MONA-412A', 'USDC-eB48'), ('MONA-412A', 'UNI-F984'), ('MONA-412A', 'RPL-A51f'), ('MONA-412A', 'NMR-6671'), ('MONA-412A', 'AAVE-DaE9'), ('MONA-412A', 'ICHI-A881'), ('MONA-412A', 'WETH-6Cc2'), ('MONA-412A', 'CROWN-E0fa'), ('MONA-412A', 'TEMP-1aB9'), ('MONA-412A', 'USDT-1ec7'), ('MONA-412A', 'HOT-26E2'), ('MONA-412A', 'RLC-7375'), ('MONA-412A', 'BAT-87EF'), ('MONA-412A', 'DIP-cD83'), ('MONA-412A', 'MANA-C942'), ('MONA-412A', 'wNXM-2bDE'), ('MONA-412A', 'REQ-938a'), ('MONA-412A', 'WOO-5D4B'), ('MONA-412A', 'wstETH-2Ca0'), ('MONA-412A', 'ENS-9D72'), ('MONA-412A', 'QNT-4675'), ('MONA-412A', 'TRAC-0A6F'), ('MONA-412A', 'WBTC-C599'), ('MONA-412A', 'LINK-86CA'), ('MONA-412A', 'ENJ-3B9c'), ('MONA-412A', 'ANKR-EDD4'), ('MONA-412A', 'vBNT-7f94'), ('MONA-412A', 'CHZ-b4AF'), ('MONA-412A', 'DAI-1d0F'), ('MONA-412A', 'MATIC-eBB0'), ('MONA-412A', 'UOS-5C8c'), ('CHZ-b4AF', 'MKR-79A2'), ('CHZ-b4AF', 'LRC-EafD'), ('CHZ-b4AF', 'USDC-eB48'), ('CHZ-b4AF', 'UNI-F984'), ('CHZ-b4AF', 'RPL-A51f'), ('CHZ-b4AF', 'NMR-6671'), ('CHZ-b4AF', 'AAVE-DaE9'), ('CHZ-b4AF', 'ICHI-A881'), ('CHZ-b4AF', 'WETH-6Cc2'), ('CHZ-b4AF', 'CROWN-E0fa'), ('CHZ-b4AF', 'TEMP-1aB9'), ('CHZ-b4AF', 'USDT-1ec7'), ('CHZ-b4AF', 'HOT-26E2'), ('CHZ-b4AF', 'RLC-7375'), ('CHZ-b4AF', 'BAT-87EF'), ('CHZ-b4AF', 'DIP-cD83'), ('CHZ-b4AF', 'MANA-C942'), ('CHZ-b4AF', 'wNXM-2bDE'), ('CHZ-b4AF', 'REQ-938a'), ('CHZ-b4AF', 'WOO-5D4B'), ('CHZ-b4AF', 'wstETH-2Ca0'), ('CHZ-b4AF', 'ENS-9D72'), ('CHZ-b4AF', 'QNT-4675'), ('CHZ-b4AF', 'TRAC-0A6F'), ('CHZ-b4AF', 'WBTC-C599'), ('CHZ-b4AF', 'LINK-86CA'), ('CHZ-b4AF', 'ENJ-3B9c'), ('CHZ-b4AF', 'ANKR-EDD4'), ('CHZ-b4AF', 'vBNT-7f94'), ('CHZ-b4AF', 'MONA-412A'), ('CHZ-b4AF', 'DAI-1d0F'), ('CHZ-b4AF', 'MATIC-eBB0'), ('CHZ-b4AF', 'UOS-5C8c'), ('DAI-1d0F', 'MKR-79A2'), ('DAI-1d0F', 'LRC-EafD'), ('DAI-1d0F', 'USDC-eB48'), ('DAI-1d0F', 'UNI-F984'), ('DAI-1d0F', 'RPL-A51f'), ('DAI-1d0F', 'NMR-6671'), ('DAI-1d0F', 'AAVE-DaE9'), ('DAI-1d0F', 'ICHI-A881'), ('DAI-1d0F', 'WETH-6Cc2'), ('DAI-1d0F', 'CROWN-E0fa'), ('DAI-1d0F', 'TEMP-1aB9'), ('DAI-1d0F', 'USDT-1ec7'), ('DAI-1d0F', 'HOT-26E2'), ('DAI-1d0F', 'RLC-7375'), ('DAI-1d0F', 'BAT-87EF'), ('DAI-1d0F', 'DIP-cD83'), ('DAI-1d0F', 'MANA-C942'), ('DAI-1d0F', 'wNXM-2bDE'), ('DAI-1d0F', 'REQ-938a'), ('DAI-1d0F', 'WOO-5D4B'), ('DAI-1d0F', 'wstETH-2Ca0'), ('DAI-1d0F', 'ENS-9D72'), ('DAI-1d0F', 'QNT-4675'), ('DAI-1d0F', 'TRAC-0A6F'), ('DAI-1d0F', 'WBTC-C599'), ('DAI-1d0F', 'LINK-86CA'), ('DAI-1d0F', 'ENJ-3B9c'), ('DAI-1d0F', 'ANKR-EDD4'), ('DAI-1d0F', 'vBNT-7f94'), ('DAI-1d0F', 'MONA-412A'), ('DAI-1d0F', 'CHZ-b4AF'), ('DAI-1d0F', 'MATIC-eBB0'), ('DAI-1d0F', 'UOS-5C8c'), ('MATIC-eBB0', 'MKR-79A2'), ('MATIC-eBB0', 'LRC-EafD'), ('MATIC-eBB0', 'USDC-eB48'), ('MATIC-eBB0', 'UNI-F984'), ('MATIC-eBB0', 'RPL-A51f'), ('MATIC-eBB0', 'NMR-6671'), ('MATIC-eBB0', 'AAVE-DaE9'), ('MATIC-eBB0', 'ICHI-A881'), ('MATIC-eBB0', 'WETH-6Cc2'), ('MATIC-eBB0', 'CROWN-E0fa'), ('MATIC-eBB0', 'TEMP-1aB9'), ('MATIC-eBB0', 'USDT-1ec7'), ('MATIC-eBB0', 'HOT-26E2'), ('MATIC-eBB0', 'RLC-7375'), ('MATIC-eBB0', 'BAT-87EF'), ('MATIC-eBB0', 'DIP-cD83'), ('MATIC-eBB0', 'MANA-C942'), ('MATIC-eBB0', 'wNXM-2bDE'), ('MATIC-eBB0', 'REQ-938a'), ('MATIC-eBB0', 'WOO-5D4B'), ('MATIC-eBB0', 'wstETH-2Ca0'), ('MATIC-eBB0', 'ENS-9D72'), ('MATIC-eBB0', 'QNT-4675'), ('MATIC-eBB0', 'TRAC-0A6F'), ('MATIC-eBB0', 'WBTC-C599'), ('MATIC-eBB0', 'LINK-86CA'), ('MATIC-eBB0', 'ENJ-3B9c'), ('MATIC-eBB0', 'ANKR-EDD4'), ('MATIC-eBB0', 'vBNT-7f94'), ('MATIC-eBB0', 'MONA-412A'), ('MATIC-eBB0', 'CHZ-b4AF'), ('MATIC-eBB0', 'DAI-1d0F'), ('MATIC-eBB0', 'UOS-5C8c'), ('UOS-5C8c', 'MKR-79A2'), ('UOS-5C8c', 'LRC-EafD'), ('UOS-5C8c', 'USDC-eB48'), ('UOS-5C8c', 'UNI-F984'), ('UOS-5C8c', 'RPL-A51f'), ('UOS-5C8c', 'NMR-6671'), ('UOS-5C8c', 'AAVE-DaE9'), ('UOS-5C8c', 'ICHI-A881'), ('UOS-5C8c', 'WETH-6Cc2'), ('UOS-5C8c', 'CROWN-E0fa'), ('UOS-5C8c', 'TEMP-1aB9'), ('UOS-5C8c', 'USDT-1ec7'), ('UOS-5C8c', 'HOT-26E2'), ('UOS-5C8c', 'RLC-7375'), ('UOS-5C8c', 'BAT-87EF'), ('UOS-5C8c', 'DIP-cD83'), ('UOS-5C8c', 'MANA-C942'), ('UOS-5C8c', 'wNXM-2bDE'), ('UOS-5C8c', 'REQ-938a'), ('UOS-5C8c', 'WOO-5D4B'), ('UOS-5C8c', 'wstETH-2Ca0'), ('UOS-5C8c', 'ENS-9D72'), ('UOS-5C8c', 'QNT-4675'), ('UOS-5C8c', 'TRAC-0A6F'), ('UOS-5C8c', 'WBTC-C599'), ('UOS-5C8c', 'LINK-86CA'), ('UOS-5C8c', 'ENJ-3B9c'), ('UOS-5C8c', 'ANKR-EDD4'), ('UOS-5C8c', 'vBNT-7f94'), ('UOS-5C8c', 'MONA-412A'), ('UOS-5C8c', 'CHZ-b4AF'), ('UOS-5C8c', 'DAI-1d0F'), ('UOS-5C8c', 'MATIC-eBB0')]\n"
     ]
    }
   ],
   "source": [
    "arb_finder = bot._get_arb_finder(\"b3_two_hop\")\n",
    "finder = arb_finder(\n",
    "            flashloan_tokens=flashloan_tokens,\n",
    "            CCm=CCm,\n",
    "            mode=\"bothin\",\n",
    "            result=False,\n",
    "            ConfigObj=bot.ConfigObj,\n",
    "        )\n",
    "#test_2_pools = [ConstantProductCurve(k=2921921249910.464, x=2760126.9934445512, x_act=2760126.9934445512, y_act=1058618.410258, pair='BNT-FF1C/USDC-eB48', cid='0xc4771395e1389e2e3a12ec22efbb7aff5b1c04e5ce9c7596a82e9dc8fdec725b', fee=0.0, descr='bancor_v3 BNT-FF1C/USDC-eB48 0.000', constr='uv2', params={'exchange': 'bancor_v3', 'tknx_dec': 18, 'tkny_dec': 6, 'tknx_addr': '0x1F573D6Fb3F13d689FF844B4cE37794d79a7FF1C', 'tkny_addr': '0xA0b86991c6218b36c1d19D4a2e9Eb0cE3606eB48', 'blocklud': 17713739}), ConstantProductCurve(k=518129588.60853314, x=6351922.348885405, x_act=6351922.348885405, y_act=81.57051679, pair='BNT-FF1C/WBTC-C599', cid='0x3885d978c125e66686e3f678ab64d5b09e61f89bf6e87c9ff66e740fd06aeefa', fee=0.0, descr='bancor_v3 BNT-FF1C/WBTC-C599 0.000', constr='uv2', params={'exchange': 'bancor_v3', 'tknx_dec': 18, 'tkny_dec': 8, 'tknx_addr': '0x1F573D6Fb3F13d689FF844B4cE37794d79a7FF1C', 'tkny_addr': '0x2260FAC5E5542a773Aa44fBCfeDf7C193bc2C599', 'blocklud': 17713739}), ConstantProductCurve(k=787603837541.6204, x=5107.692365701484, x_act=4.159867948255851, y_act=336571.44633978605, pair='WBTC-C599/USDC-eB48', cid='0x49ed97db2c080b7eac91dfaa7d51d5e8ac34c4dcfbcd3e8f2ed326a2a527b959', fee=0.003, descr='uniswap_v3 WBTC-C599/USDC-eB48 3000', constr='pkpp', params={'exchange': 'uniswap_v3', 'tknx_dec': 8, 'tkny_dec': 6, 'tknx_addr': '0x2260FAC5E5542a773Aa44fBCfeDf7C193bc2C599', 'tkny_addr': '0xA0b86991c6218b36c1d19D4a2e9Eb0cE3606eB48', 'blocklud': 17713395, 'L': 887470.4713632})]\n",
    "flt = {'MKR-79A2', 'TRAC-0A6F', 'MONA-412A', 'WBTC-C599', 'WOO-5D4B', 'MATIC-eBB0', 'BAT-87EF', 'UOS-5C8c', 'LRC-EafD', 'NMR-6671', 'DIP-cD83', 'TEMP-1aB9', 'ICHI-A881', 'USDC-eB48', 'ENS-9D72', 'vBNT-7f94', 'ANKR-EDD4', 'UNI-F984', 'REQ-938a', 'WETH-6Cc2', 'AAVE-DaE9', 'ENJ-3B9c', 'MANA-C942', 'wNXM-2bDE', 'QNT-4675', 'RLC-7375', 'CROWN-E0fa', 'CHZ-b4AF', 'USDT-1ec7', 'DAI-1d0F', 'RPL-A51f', 'HOT-26E2', 'LINK-86CA', 'wstETH-2Ca0'}\n",
    "combos = finder.get_combos(flashloan_tokens=flt, CCm=CCm, arb_mode=\"b3_two_hop\")\n",
    "print(combos)\n",
    "assert len(combos) >= 1122, \"[test_bancor_v3_two_hop] Different data used for tests, expected 1122 combos\""
   ]
  },
  {
   "cell_type": "markdown",
   "id": "bbb5227a",
   "metadata": {},
   "source": [
    "## Test_get_miniverse_combos"
   ]
  },
  {
   "cell_type": "code",
   "execution_count": 10,
   "id": "cfec84c5",
   "metadata": {},
   "outputs": [],
   "source": [
    "arb_finder = bot._get_arb_finder(\"b3_two_hop\")\n",
    "finder = arb_finder(\n",
    "            flashloan_tokens=flashloan_tokens,\n",
    "            CCm=CCm,\n",
    "            mode=\"bothin\",\n",
    "            result=False,\n",
    "            ConfigObj=bot.ConfigObj,\n",
    "        )\n",
    "flt = {\"0x1F573D6Fb3F13d689FF844B4cE37794d79a7FF1C\",\"0xC02aaA39b223FE8D0A0e5C4F27eAD9083C756Cc2\",\"0xA0b86991c6218b36c1d19D4a2e9Eb0cE3606eB48\",\"0x514910771AF9Ca656af840dff83E8264EcF986CA\"}\n",
    "combos = finder.get_combos(flashloan_tokens=flt, CCm=CCm, arb_mode=\"b3_two_hop\")\n",
    "all_miniverses = finder.get_miniverse_combos(combos)\n",
    "assert len(all_miniverses) >= 6, f\"[test_bancor_v3_two_hop] Different data used for tests, expected 6 miniverses, found {len(all_miniverses)}\""
   ]
  }
 ],
 "metadata": {
  "jupytext": {
   "formats": "ipynb,py:light"
  },
  "kernelspec": {
   "display_name": "Python 3",
   "language": "python",
   "name": "python3"
  },
  "language_info": {
   "codemirror_mode": {
    "name": "ipython",
    "version": 3
   },
   "file_extension": ".py",
   "mimetype": "text/x-python",
   "name": "python",
   "nbconvert_exporter": "python",
   "pygments_lexer": "ipython3",
   "version": "3.11.5"
  }
 },
 "nbformat": 4,
 "nbformat_minor": 5
}
