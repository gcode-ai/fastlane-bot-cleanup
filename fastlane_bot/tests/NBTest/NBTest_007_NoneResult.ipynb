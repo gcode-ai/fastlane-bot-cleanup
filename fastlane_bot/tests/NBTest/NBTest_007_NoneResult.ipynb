{
 "cells": [
  {
   "cell_type": "code",
   "execution_count": 1,
   "id": "8f04c50a-67fe-4f09-822d-6ed6e3ac43e4",
   "metadata": {},
   "outputs": [
    {
     "name": "stdout",
     "output_type": "stream",
     "text": [
      "NoneResult v1.0 (12/May/2023)\n",
      "imported m, np, pd, plt, os, sys, decimal; defined iseq, raises, require\n",
      "Version = 3-b2.2 [requirements >= 3.0 is met]\n"
     ]
    }
   ],
   "source": [
    "#from fastlane_bot import Bot, Config, ConfigDB, ConfigNetwork, ConfigProvider\n",
    "from fastlane_bot.tools.noneresult import NoneResult, isNone\n",
    "print(\"{0.__name__} v{0.__VERSION__} ({0.__DATE__})\".format(NoneResult))\n",
    "from fastlane_bot.testing import *\n",
    "import itertools as it\n",
    "import collections as cl\n",
    "import math as m\n",
    "#plt.style.use('seaborn-dark')\n",
    "plt.rcParams['figure.figsize'] = [12,6]\n",
    "from fastlane_bot import __VERSION__\n",
    "require(\"3.0\", __VERSION__)"
   ]
  },
  {
   "cell_type": "markdown",
   "id": "b3f59f14-b91b-4dba-94b0-3d513aaf41c7",
   "metadata": {},
   "source": [
    "# NoneResult [NBTest007]"
   ]
  },
  {
   "cell_type": "markdown",
   "id": "5b4ccedd-a1ca-4c70-af2f-f0cc6c1a758f",
   "metadata": {},
   "source": [
    "## NoneResult Basics"
   ]
  },
  {
   "cell_type": "code",
   "execution_count": 2,
   "id": "655d3084-0413-43af-901a-a519f584f106",
   "metadata": {},
   "outputs": [],
   "source": [
    "none = NoneResult()\n",
    "assert str(none) == \"NoneResult('None')\"\n",
    "assert repr(none) == str(none)\n",
    "assert bool(none) == False\n",
    "assert float(none) == 0.0\n",
    "assert int(none) == 0 \n",
    "assert m.floor(none) is none\n",
    "assert m.ceil(none) is none\n",
    "assert m.trunc(none) is none\n",
    "assert round(none,5) is none\n",
    "assert None == none"
   ]
  },
  {
   "cell_type": "code",
   "execution_count": 3,
   "id": "0a6fd0df-71ff-4fc2-90b2-5164a21d1a87",
   "metadata": {},
   "outputs": [],
   "source": [
    "assert none.foo is none\n",
    "assert none.foo.bar is none\n",
    "assert none[\"foo\"] is none\n",
    "assert none[\"foo\"][\"bar\"] is none"
   ]
  },
  {
   "cell_type": "code",
   "execution_count": 4,
   "id": "07b220e1-d315-4517-b885-5fdbc878b761",
   "metadata": {},
   "outputs": [],
   "source": [
    "assert none+1 is none\n",
    "assert none-1 is none\n",
    "assert none*1 is none\n",
    "assert none/1 is none\n",
    "assert none//1 is none\n",
    "assert none**1 is none\n",
    "assert none%1 is none"
   ]
  },
  {
   "cell_type": "code",
   "execution_count": 5,
   "id": "f7789d71-f90b-47f1-95b8-66323dca215a",
   "metadata": {},
   "outputs": [],
   "source": [
    "assert 1+none is none\n",
    "assert 1-none is none\n",
    "assert 1*none is none\n",
    "assert 1/none is none\n",
    "assert 1//none is none\n",
    "assert 1**none is none\n",
    "assert 1%none is none"
   ]
  },
  {
   "cell_type": "code",
   "execution_count": 6,
   "id": "8a1db525-a411-4be3-8437-7e24a727a34c",
   "metadata": {},
   "outputs": [],
   "source": [
    "none_foo = NoneResult(\"foo\")\n",
    "assert str(none_foo) == \"NoneResult('foo')\"\n",
    "assert none_foo == none"
   ]
  },
  {
   "cell_type": "markdown",
   "id": "8dcd6de4-019d-45e3-a482-107167821f4c",
   "metadata": {},
   "source": [
    "## None format"
   ]
  },
  {
   "cell_type": "code",
   "execution_count": 7,
   "id": "3ba85872-8d8c-4e0a-968d-195e649fbd09",
   "metadata": {},
   "outputs": [],
   "source": [
    "none = NoneResult()\n",
    "assert f\"{none}\" == \"NoneResult('None')\"\n",
    "assert \"{}\".format(none) == \"NoneResult('None')\""
   ]
  },
  {
   "cell_type": "code",
   "execution_count": 8,
   "id": "61d48296-d8b0-4d69-bc24-69b8ddd02652",
   "metadata": {},
   "outputs": [],
   "source": [
    "assert f\":{str(none):30}:\" == \":NoneResult('None')            :\"\n",
    "assert f\":{none:30}:\" == f\":{str(none):30}:\"\n",
    "assert len(f\"{none:30}\") == 30\n",
    "raises(lambda: f\"{none:2.1f}\") == \"Unknown format code 'f' for object of type 'str'\"\n",
    "assert f\"{float(none):10.4f}\" == '    0.0000'\n",
    "assert f\"{int(none):010d}\" == '0000000000'"
   ]
  },
  {
   "cell_type": "code",
   "execution_count": 9,
   "id": "df561c3f-91e7-4c4e-983e-d0bcd143efda",
   "metadata": {},
   "outputs": [],
   "source": [
    "a=\"123\""
   ]
  },
  {
   "cell_type": "code",
   "execution_count": 10,
   "id": "0b4267d8-d2bc-4bd0-88af-cab9a4008e10",
   "metadata": {},
   "outputs": [
    {
     "data": {
      "text/plain": [
       "\"NoneResult('None')                      \""
      ]
     },
     "execution_count": 10,
     "metadata": {},
     "output_type": "execute_result"
    }
   ],
   "source": [
    "f\"{none:40}\""
   ]
  },
  {
   "cell_type": "markdown",
   "id": "7a6eca41-6459-4fe3-80c4-cf79dac6b3ca",
   "metadata": {},
   "source": [
    "## math functions"
   ]
  },
  {
   "cell_type": "code",
   "execution_count": 11,
   "id": "79396932-124d-405e-849d-3872abc4ebc6",
   "metadata": {},
   "outputs": [],
   "source": [
    "none = NoneResult()\n",
    "assert m.sin(none) == 0\n",
    "assert m.cos(none) == 1\n",
    "assert m.exp(none) == 1\n",
    "assert raises(m.log, none) == \"math domain error\"\n",
    "assert 1/none == none\n",
    "assert 0*none==none\n",
    "sin = lambda x: 0*x+m.sin(x)\n",
    "assert sin(none) == none"
   ]
  },
  {
   "cell_type": "markdown",
   "id": "a01995bd-1ea1-40ac-be58-6568fb5ac216",
   "metadata": {},
   "source": [
    "## isNone"
   ]
  },
  {
   "cell_type": "code",
   "execution_count": 12,
   "id": "481bc44f-6df1-4a93-b3e1-d2dcf5fceccf",
   "metadata": {},
   "outputs": [],
   "source": [
    "assert isNone(None) == True\n",
    "assert isNone(NoneResult()) == True\n",
    "assert isNone(NoneResult(\"moo\")) == True\n",
    "assert isNone(0) == False\n",
    "assert isNone(\"\") == False\n",
    "assert isNone(False) == False\n",
    "assert isNone(NoneResult) == False"
   ]
  },
  {
   "cell_type": "code",
   "execution_count": 13,
   "id": "bf2cfb1f-3da1-44fc-8cc7-7266c2b31634",
   "metadata": {},
   "outputs": [],
   "source": [
    "none = NoneResult()\n",
    "assert raises(lambda x: isNone(None+x), 1) == \"unsupported operand type(s) for +: 'NoneType' and 'int'\"\n",
    "assert isNone(none+1)\n",
    "assert isNone(1+none)\n",
    "assert isNone(none**2)\n",
    "assert isNone(none*none)\n",
    "assert isNone(1+2*none+3*none*none)"
   ]
  },
  {
   "cell_type": "code",
   "execution_count": 14,
   "id": "fe8e7135-7c48-4ceb-82f5-71136552278d",
   "metadata": {},
   "outputs": [],
   "source": [
    "assert not isNone(none) == False\n",
    "assert [x for x in (1,2,None,3) if not isNone(x)] == [1,2,3]\n",
    "assert [x for x in (1,2,none,3) if not isNone(x)] == [1,2,3]\n",
    "assert [2*x for x in (1,2,None,3) if not isNone(x)] == [2,4,6]\n",
    "assert [2*x for x in (1,2,none,3) if not isNone(x)] == [2,4,6]\n",
    "assert [2*x for x in (1,2,none,3) if not isNone(2*x)] == [2,4,6]"
   ]
  },
  {
   "cell_type": "code",
   "execution_count": null,
   "id": "41e5b9c2-6957-4b78-b505-d9f76a889e97",
   "metadata": {},
   "outputs": [],
   "source": []
  },
  {
   "cell_type": "code",
   "execution_count": null,
   "id": "dea1e4f4-8308-4822-a362-5d17625d793d",
   "metadata": {},
   "outputs": [],
   "source": []
  }
 ],
 "metadata": {
  "jupytext": {
   "encoding": "# -*- coding: utf-8 -*-",
   "formats": "ipynb,py:light"
  },
  "kernelspec": {
   "display_name": "Python 3",
   "language": "python",
   "name": "python3"
  },
  "language_info": {
   "codemirror_mode": {
    "name": "ipython",
    "version": 3
   },
   "file_extension": ".py",
   "mimetype": "text/x-python",
   "name": "python",
   "nbconvert_exporter": "python",
   "pygments_lexer": "ipython3",
   "version": "3.8.8"
  }
 },
 "nbformat": 4,
 "nbformat_minor": 5
}
