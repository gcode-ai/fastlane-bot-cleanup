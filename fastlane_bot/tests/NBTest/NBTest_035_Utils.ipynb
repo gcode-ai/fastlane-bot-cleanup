{
 "cells": [
  {
   "cell_type": "code",
   "execution_count": 1,
   "id": "5275df16",
   "metadata": {
    "ExecuteTime": {
     "end_time": "2023-12-19T00:50:20.101170Z",
     "start_time": "2023-12-19T00:50:15.772733Z"
    }
   },
   "outputs": [
    {
     "name": "stdout",
     "output_type": "stream",
     "text": [
      "ConstantProductCurve v3.3.1 (05/Oct/2023)\n",
      "CarbonBot v3-b2.2 (20/June/2023)\n",
      "UniswapV2Pool v0.0.1 (2023-07-03)\n",
      "UniswapV3Pool v0.0.1 (2023-07-03)\n",
      "CarbonV1Pool v0.0.1 (2023-07-03)\n",
      "BancorV3Pool v0.0.1 (2023-07-03)\n",
      "imported m, np, pd, plt, os, sys, decimal; defined iseq, raises, require\n",
      "Version = 3-b2.2 [requirements >= 3.0 is met]\n"
     ]
    }
   ],
   "source": [
    "from web3.datastructures import AttributeDict\n",
    "from web3.types import HexBytes\n",
    "\n",
    "from fastlane_bot import Bot\n",
    "from fastlane_bot.events.pools import UniswapV2Pool, UniswapV3Pool, BancorV3Pool, CarbonV1Pool\n",
    "from fastlane_bot.events.utils import filter_latest_events, complex_handler\n",
    "from fastlane_bot.tools.cpc import ConstantProductCurve as CPC\n",
    "\n",
    "print(\"{0.__name__} v{0.__VERSION__} ({0.__DATE__})\".format(CPC))\n",
    "print(\"{0.__name__} v{0.__VERSION__} ({0.__DATE__})\".format(Bot))\n",
    "print(\"{0.__name__} v{0.__VERSION__} ({0.__DATE__})\".format(UniswapV2Pool))\n",
    "print(\"{0.__name__} v{0.__VERSION__} ({0.__DATE__})\".format(UniswapV3Pool))\n",
    "print(\"{0.__name__} v{0.__VERSION__} ({0.__DATE__})\".format(CarbonV1Pool))\n",
    "print(\"{0.__name__} v{0.__VERSION__} ({0.__DATE__})\".format(BancorV3Pool))\n",
    "from fastlane_bot.testing import *\n",
    "\n",
    "#plt.style.use('seaborn-dark')\n",
    "plt.rcParams['figure.figsize'] = [12,6]\n",
    "from fastlane_bot import __VERSION__\n",
    "require(\"3.0\", __VERSION__)"
   ]
  },
  {
   "cell_type": "code",
   "execution_count": 2,
   "id": "0f9e7cbf",
   "metadata": {
    "ExecuteTime": {
     "end_time": "2023-10-13T01:40:01.569820Z",
     "start_time": "2023-10-13T01:40:01.533891Z"
    }
   },
   "outputs": [],
   "source": [
    "\n",
    "class MockManager():\n",
    "\n",
    "    pool_data = pd.DataFrame({'anchor': ['0xabc', '0xdef'], 'exchange_name': ['bancor_v2', 'bancor_v2']}).to_dict('records')\n",
    "\n",
    "    def pool_type_from_exchange_name(self, exchange_name):\n",
    "\n",
    "        class MockPoolType():\n",
    "\n",
    "            def unique_key(self):\n",
    "                return 'address'\n",
    "        return MockPoolType()\n",
    "\n",
    "    def exchange_name_from_event(self, event):\n",
    "        return 'uniswap_v2'\n",
    "mocked_mgr = MockManager()"
   ]
  },
  {
   "cell_type": "code",
   "execution_count": 3,
   "id": "2201b3a4",
   "metadata": {
    "ExecuteTime": {
     "end_time": "2023-10-13T01:40:01.572528Z",
     "start_time": "2023-10-13T01:40:01.537464Z"
    }
   },
   "outputs": [],
   "source": [
    "event1 = AttributeDict({'args': {'reserve0': 100, 'reserve1': 100}, 'event': 'Sync', 'address': '0xabc', 'blockNumber': 5, 'transactionIndex': 0, 'logIndex': 0})\n",
    "event2 = AttributeDict({'args': {'reserve0': 200, 'reserve1': 200}, 'event': 'Sync', 'address': '0xabc', 'blockNumber': 10, 'transactionIndex': 1, 'logIndex': 1})\n",
    "event3 = AttributeDict({'args': {'reserve0': 300, 'reserve1': 300}, 'event': 'Sync', 'address': '0xdef', 'blockNumber': 7, 'transactionIndex': 1, 'logIndex': 1})\n",
    "mock_events = [[event1, event2, event3]]"
   ]
  },
  {
   "cell_type": "markdown",
   "id": "8ab966a5",
   "metadata": {},
   "source": [
    "## test_filter_latest_events"
   ]
  },
  {
   "cell_type": "code",
   "execution_count": 4,
   "id": "0f76726b",
   "metadata": {
    "ExecuteTime": {
     "end_time": "2023-10-13T01:40:01.582741Z",
     "start_time": "2023-10-13T01:40:01.543741Z"
    }
   },
   "outputs": [],
   "source": [
    "result = filter_latest_events(mocked_mgr, mock_events)\n",
    "assert (len(result) == len({event['address'] for event in result}))\n",
    "pool_address = result[0]['address']\n",
    "pool_events = [event for event in mock_events[0] if (event['address'] == pool_address)]"
   ]
  },
  {
   "cell_type": "markdown",
   "id": "a4760730",
   "metadata": {},
   "source": [
    "## test_complex_handler"
   ]
  },
  {
   "cell_type": "code",
   "execution_count": 5,
   "id": "d5ea99ea",
   "metadata": {
    "ExecuteTime": {
     "end_time": "2023-10-13T01:40:01.582880Z",
     "start_time": "2023-10-13T01:40:01.548504Z"
    }
   },
   "outputs": [],
   "source": [
    "attribute_dict = AttributeDict({'a': 1, 'b': 2})\n",
    "assert (complex_handler(attribute_dict) == {'a': 1, 'b': 2})\n",
    "hex_bytes = HexBytes(b'hello')\n",
    "assert (complex_handler(hex_bytes) == '0x68656c6c6f')\n",
    "dictionary = {'a': 1, 'b': HexBytes(b'hello'), 'c': AttributeDict({'d': 4})}\n",
    "assert (complex_handler(dictionary) == {'a': 1, 'b': '0x68656c6c6f', 'c': {'d': 4}})\n",
    "list_ = [1, HexBytes(b'hello'), AttributeDict({'d': 4})]\n",
    "assert (complex_handler(list_) == [1, '0x68656c6c6f', {'d': 4}])\n",
    "set_ = {1, 2, 3}\n",
    "assert (complex_handler(set_) == [1, 2, 3])\n",
    "assert (complex_handler(123) == 123)"
   ]
  }
 ],
 "metadata": {
  "jupytext": {
   "formats": "ipynb,py:light"
  },
  "kernelspec": {
   "display_name": "Python 3 (ipykernel)",
   "language": "python",
   "name": "python3"
  },
  "language_info": {
   "codemirror_mode": {
    "name": "ipython",
    "version": 3
   },
   "file_extension": ".py",
   "mimetype": "text/x-python",
   "name": "python",
   "nbconvert_exporter": "python",
   "pygments_lexer": "ipython3",
   "version": "3.8.17"
  }
 },
 "nbformat": 4,
 "nbformat_minor": 5
}
