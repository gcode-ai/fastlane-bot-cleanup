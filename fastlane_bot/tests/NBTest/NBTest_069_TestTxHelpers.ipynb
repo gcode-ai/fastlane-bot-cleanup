{
 "cells": [
  {
   "cell_type": "code",
   "execution_count": null,
   "id": "8f04c50a-67fe-4f09-822d-6ed6e3ac43e4",
   "metadata": {},
   "outputs": [],
   "source": [
    "# coding=utf-8\n",
    "\"\"\"\n",
    "This module contains the tests for the exchanges classes\n",
    "\"\"\"\n",
    "from unittest.mock import Mock\n",
    "\n",
    "from fastlane_bot import Bot, Config\n",
    "from fastlane_bot.bot import CarbonBot\n",
    "from fastlane_bot.tools.cpc import ConstantProductCurve as CPC\n",
    "from fastlane_bot.events.exchanges import UniswapV2, UniswapV3,  CarbonV1, BancorV3\n",
    "from fastlane_bot.events.interface import QueryInterface\n",
    "from fastlane_bot.helpers import TradeInstruction, TxRouteHandler\n",
    "from fastlane_bot.events.interface import QueryInterface\n",
    "from fastlane_bot.testing import *\n",
    "from fastlane_bot.config.network import *\n",
    "from web3 import Web3\n",
    "from web3.types import TxReceipt, HexBytes\n",
    "import pytest\n",
    "from fastlane_bot.helpers.txhelpers import count_bytes, TxHelpers\n",
    "import json\n",
    "from typing import Dict\n",
    "print(\"{0.__name__} v{0.__VERSION__} ({0.__DATE__})\".format(CPC))\n",
    "print(\"{0.__name__} v{0.__VERSION__} ({0.__DATE__})\".format(Bot))\n",
    "print(\"{0.__name__} v{0.__VERSION__} ({0.__DATE__})\".format(UniswapV2))\n",
    "print(\"{0.__name__} v{0.__VERSION__} ({0.__DATE__})\".format(UniswapV3))\n",
    "print(\"{0.__name__} v{0.__VERSION__} ({0.__DATE__})\".format(CarbonV1))\n",
    "print(\"{0.__name__} v{0.__VERSION__} ({0.__DATE__})\".format(BancorV3))\n",
    "from fastlane_bot.testing import *\n",
    "\n",
    "plt.rcParams['figure.figsize'] = [12,6]\n",
    "from fastlane_bot import __VERSION__\n",
    "require(\"3.0\", __VERSION__)"
   ]
  },
  {
   "cell_type": "code",
   "execution_count": null,
   "id": "ecc8cac0",
   "metadata": {},
   "outputs": [],
   "source": [
    "cfg = Config.new(config=Config.CONFIG_MAINNET, blockchain=\"ethereum\")\n",
    "cfg.network.SOLIDLY_V2_FORKS = [\"solidly_v2\"]\n",
    "setup_bot = CarbonBot(ConfigObj=cfg)\n",
    "pools = None\n",
    "with open('fastlane_bot/data/tests/latest_pool_data_testing.json') as f:\n",
    "    pools = json.load(f)\n",
    "pools = [pool for pool in pools]\n",
    "pools[0]\n",
    "static_pools = pools\n",
    "state = pools\n",
    "exchanges = list({ex['exchange_name'] for ex in state})\n",
    "db = QueryInterface(state=state, ConfigObj=cfg, exchanges=exchanges)\n"
   ]
  },
  {
   "cell_type": "markdown",
   "id": "75e2383e",
   "metadata": {},
   "source": [
    "# Test_TxHelpers [NBTest069]"
   ]
  },
  {
   "cell_type": "markdown",
   "id": "2632e762",
   "metadata": {},
   "source": [
    "## Test_HAS_LAYER_ONE_GAS_FEE"
   ]
  },
  {
   "cell_type": "code",
   "execution_count": null,
   "id": "01e3686e",
   "metadata": {},
   "outputs": [],
   "source": [
    "ethereum_cfg = Config.new(config=Config.CONFIG_MAINNET, blockchain=\"ethereum\")\n",
    "polygon_cfg = Config.new(config=Config.CONFIG_MAINNET, blockchain=\"polygon\")\n",
    "optimism_cfg = Config.new(config=Config.CONFIG_MAINNET, blockchain=\"optimism\")\n",
    "polygon_zkevm_cfg = Config.new(config=Config.CONFIG_MAINNET, blockchain=\"polygon_zkevm\")\n",
    "arbitrum_cfg = Config.new(config=Config.CONFIG_MAINNET, blockchain=\"arbitrum_one\")\n",
    "base_cfg = Config.new(config=Config.CONFIG_MAINNET, blockchain=\"coinbase_base\")\n",
    "\n",
    "\n",
    "assert not ethereum_cfg.network.GAS_ORACLE_ADDRESS\n",
    "assert not polygon_cfg.network.GAS_ORACLE_ADDRESS\n",
    "assert not polygon_zkevm_cfg.network.GAS_ORACLE_ADDRESS\n",
    "assert not arbitrum_cfg.network.GAS_ORACLE_ADDRESS\n",
    "assert optimism_cfg.network.GAS_ORACLE_ADDRESS\n",
    "assert base_cfg.network.GAS_ORACLE_ADDRESS"
   ]
  },
  {
   "cell_type": "markdown",
   "id": "7deda241",
   "metadata": {},
   "source": [
    "## Test_Solve_Trade_Output"
   ]
  },
  {
   "cell_type": "code",
   "execution_count": null,
   "id": "7138e009",
   "metadata": {},
   "outputs": [],
   "source": [
    "################### Base #####################\n",
    "cfg = Config.new(config=Config.CONFIG_MAINNET, blockchain=\"coinbase_base\")\n",
    "\n",
    "tx_helpers = TxHelpers(cfg)\n",
    "\n",
    "def test_count_zero_bytes():\n",
    "    # Arrange\n",
    "    data = HexBytes('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')\n",
    "\n",
    "    # Act\n",
    "    zero_bytes, non_zero_bytes = count_bytes(data)\n",
    "    # Assert\n",
    "    assert zero_bytes == 966\n",
    "    assert non_zero_bytes == 271\n",
    "\n",
    "\n",
    "\n",
    "test_count_zero_bytes()    "
   ]
  },
  {
   "cell_type": "code",
   "execution_count": null,
   "id": "d242843e",
   "metadata": {},
   "outputs": [],
   "source": []
  }
 ],
 "metadata": {
  "jupytext": {
   "encoding": "# -*- coding: utf-8 -*-",
   "formats": "ipynb,py:light"
  },
  "kernelspec": {
   "display_name": "Python 3",
   "language": "python",
   "name": "python3"
  },
  "language_info": {
   "codemirror_mode": {
    "name": "ipython",
    "version": 3
   },
   "file_extension": ".py",
   "mimetype": "text/x-python",
   "name": "python",
   "nbconvert_exporter": "python",
   "pygments_lexer": "ipython3",
   "version": "3.11.5"
  }
 },
 "nbformat": 4,
 "nbformat_minor": 5
}
