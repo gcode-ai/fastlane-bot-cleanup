{
 "cells": [
  {
   "cell_type": "code",
   "execution_count": 16,
   "id": "initial_id",
   "metadata": {
    "ExecuteTime": {
     "end_time": "2023-12-19T11:52:36.310856Z",
     "start_time": "2023-12-19T11:52:36.295612Z"
    }
   },
   "outputs": [
    {
     "name": "stdout",
     "output_type": "stream",
     "text": [
      "ConstantProductCurve v3.3.1 (05/Oct/2023)\n",
      "CarbonBot v3-b2.2 (20/June/2023)\n",
      "UniswapV2 v0.0.2 (2023-08-27)\n",
      "UniswapV3 v0.0.2 (2023-08-27)\n",
      "CarbonV1 v0.0.2 (2023-08-27)\n",
      "BancorV3 v0.0.2 (2023-08-27)\n",
      "Version = 3-b2.2 [requirements >= 3.0 is met]\n"
     ]
    }
   ],
   "source": [
    "# coding=utf-8\n",
    "\"\"\"\n",
    "This module contains the tests which ensure that the flashloan tokens click parameters are respected.\n",
    "\"\"\"\n",
    "from fastlane_bot import Bot\n",
    "from fastlane_bot.tools.cpc import ConstantProductCurve as CPC\n",
    "from fastlane_bot.events.exchanges import UniswapV2, UniswapV3,  CarbonV1, BancorV3\n",
    "import subprocess, os, sys\n",
    "import pytest\n",
    "print(\"{0.__name__} v{0.__VERSION__} ({0.__DATE__})\".format(CPC))\n",
    "print(\"{0.__name__} v{0.__VERSION__} ({0.__DATE__})\".format(Bot))\n",
    "print(\"{0.__name__} v{0.__VERSION__} ({0.__DATE__})\".format(UniswapV2))\n",
    "print(\"{0.__name__} v{0.__VERSION__} ({0.__DATE__})\".format(UniswapV3))\n",
    "print(\"{0.__name__} v{0.__VERSION__} ({0.__DATE__})\".format(CarbonV1))\n",
    "print(\"{0.__name__} v{0.__VERSION__} ({0.__DATE__})\".format(BancorV3))\n",
    "from fastlane_bot.testing import *\n",
    "plt.rcParams['figure.figsize'] = [12,6]\n",
    "from fastlane_bot import __VERSION__\n",
    "require(\"3.0\", __VERSION__)"
   ]
  },
  {
   "cell_type": "markdown",
   "id": "dfafc69730cbead3",
   "metadata": {},
   "source": [
    "# Setup"
   ]
  },
  {
   "cell_type": "code",
   "execution_count": 17,
   "id": "1640a40ee6ae871c",
   "metadata": {
    "ExecuteTime": {
     "end_time": "2023-12-19T11:52:36.317392Z",
     "start_time": "2023-12-19T11:52:36.313009Z"
    }
   },
   "outputs": [],
   "source": [
    "def find_main_py():\n",
    "    # Start at the directory of the current script\n",
    "    cwd = os.path.abspath(os.path.join(os.getcwd()))\n",
    "    \n",
    "    print(f\"Searching for main.py in {cwd}\")\n",
    "    while True:\n",
    "        # Check if main.py exists in the current directory\n",
    "        if \"main.py\" in os.listdir(cwd):\n",
    "            return cwd  # Found the directory containing main.py\n",
    "        else:\n",
    "            # If not, go up one directory\n",
    "            new_cwd = os.path.dirname(cwd)\n",
    "\n",
    "            # If we're already at the root directory, stop searching\n",
    "            if new_cwd == cwd:\n",
    "                raise FileNotFoundError(\"Could not find main.py in any parent directory\")\n",
    "\n",
    "            cwd = new_cwd\n",
    "       \n",
    "       \n",
    "def run_command(arb_mode, expected_log_line):\n",
    "    \n",
    "    # Find the correct path to main.py\n",
    "    main_script_path = find_main_py()\n",
    "    print(f\"Found main.py in {main_script_path}\")\n",
    "    main_script_path = os.path.normpath(main_script_path + \"/main.py\")\n",
    "\n",
    "    # Run the command\n",
    "    cmd = [\n",
    "        \"python\",\n",
    "        main_script_path,\n",
    "        f\"--arb_mode={arb_mode}\",\n",
    "        \"--default_min_profit_gas_token=0.001\",\n",
    "        \"--limit_bancor3_flashloan_tokens=False\",\n",
    "        \"--use_cached_events=False\",\n",
    "        \"--timeout=1\",\n",
    "        \"--loglevel=DEBUG\",\n",
    "        \"--flashloan_tokens='0x1F573D6Fb3F13d689FF844B4cE37794d79a7FF1C,0xEeeeeEeeeEeEeeEeEeEeeEEEeeeeEeeeeeeeEEeE,0xAa6E8127831c9DE45ae56bB1b0d4D4Da6e5665BD'\",\n",
    "        \"--blockchain=ethereum\"\n",
    "    ]\n",
    "    subprocess.Popen(cmd)\n",
    "        \n",
    "    # Wait for the expected log line to appear\n",
    "    found = False\n",
    "    result = subprocess.run(cmd, text=True, capture_output=True, check=True, timeout=20)\n",
    "\n",
    "    # Check if the expected log line is in the output\n",
    "    if expected_log_line in result.stderr or expected_log_line in result.stdout:\n",
    "        found = True\n",
    "\n",
    "    if not found:\n",
    "        pytest.fail(\"Expected log line was not found within 1 minute\")  # If we reach this point, the test has failed"
   ]
  },
  {
   "cell_type": "markdown",
   "id": "614f482aec4be2f8",
   "metadata": {},
   "source": [
    "## Test flashloan_tokens is Respected"
   ]
  },
  {
   "cell_type": "code",
   "execution_count": 18,
   "id": "c6e198d0eeba3183",
   "metadata": {
    "ExecuteTime": {
     "end_time": "2023-12-19T11:52:42.066742Z",
     "start_time": "2023-12-19T11:52:36.315152Z"
    }
   },
   "outputs": [
    {
     "name": "stdout",
     "output_type": "stream",
     "text": [
      "Searching for main.py in /Users/mikewcasale/Documents/GitHub/bancor/fastlane-bot/resources/NBTest\n",
      "Found main.py in /Users/mikewcasale/Documents/GitHub/bancor/fastlane-bot\n"
     ]
    },
    {
     "name": "stderr",
     "output_type": "stream",
     "text": [
      "2023-12-19 03:52:37,861 [fastlane:INFO] - \n",
      "2023-12-19 03:52:37,861 [fastlane:INFO] - **********************************************\n",
      "2023-12-19 03:52:37,861 [fastlane:INFO] - The logging path is set to: logs/20231219-035237/bot.log\n",
      "2023-12-19 03:52:37,861 [fastlane:INFO] - **********************************************\n",
      "2023-12-19 03:52:37,861 [fastlane:INFO] - \n",
      "2023-12-19 03:52:38,662 [fastlane:INFO] - [events.utils.get_config] Using mainnet config\n",
      "2023-12-19 03:52:38,676 [fastlane:INFO] - tokens: 23041, 0xA0b86991c6218b36c1d19D4a2e9Eb0cE3606eB48\n",
      "2023-12-19 03:52:38,682 [fastlane:INFO] - unique_tokens: 23041\n",
      "2023-12-19 03:52:38,682 [fastlane:INFO] - [events.utils.handle_flashloan_tokens] unique_tokens: 23041\n",
      "2023-12-19 03:52:38,689 [fastlane:INFO] - [events.utils.handle_flashloan_tokens] Flashloan tokens are set as: [\"'0x1F573D6Fb3F13d689FF844B4cE37794d79a7FF1C\", 'ETH', \"0xAa6E8127831c9DE45ae56bB1b0d4D4Da6e5665BD'\"], <class 'list'>\n",
      "2023-12-19 03:52:38,689 [fastlane:INFO] - [events.utils] Running data fetching for exchanges: ['bancor_pol', 'uniswap_v2', 'sushiswap_v2', 'bancor_v3', 'balancer', 'uniswap_v3', 'pancakeswap_v2', 'bancor_v2', 'pancakeswap_v3', 'carbon_v1']\n",
      "2023-12-19 03:52:38,689 [fastlane:INFO] - \n",
      "            +++++++++++++++++++++++++++++++++++++++++++++++++++++++++++++++++++++++++++++++++++++++++++++++\n",
      "            +++++++++++++++++++++++++++++++++++++++++++++++++++++++++++++++++++++++++++++++++++++++++++++++\n",
      "\n",
      "            Starting fastlane bot with the following configuration:\n",
      "            bot_version: 2.7.83\n",
      "            os_system: Darwin\n",
      "            python_version: 3.8.18 (default, Sep 11 2023, 08:17:16) \n",
      "[Clang 14.0.6 ]\n",
      "            python_info: sys.version_info(major=3, minor=8, micro=18, releaselevel='final', serial=0)\n",
      "\n",
      "            logging_path: ./logs/20231219-035237\n",
      "            arb_mode: multi\n",
      "            blockchain: ethereum\n",
      "            default_min_profit_gas_token: 0.001\n",
      "            exchanges: ['bancor_pol', 'uniswap_v2', 'sushiswap_v2', 'bancor_v3', 'balancer', 'uniswap_v3', 'pancakeswap_v2', 'bancor_v2', 'pancakeswap_v3', 'carbon_v1']\n",
      "            flashloan_tokens: ['0xEeeeeEeeeEeEeeEeEeEeeEEEeeeeEeeeeeeeEEeE']\n",
      "            target_tokens: None\n",
      "            use_specific_exchange_for_target_tokens: None\n",
      "            loglevel: debug\n",
      "            backdate_pools: False\n",
      "            alchemy_max_block_fetch: 2000\n",
      "            static_pool_data_filename: static_pool_data\n",
      "            cache_latest_only: True\n",
      "            n_jobs: -1\n",
      "            polling_interval: 12\n",
      "            reorg_delay: 2\n",
      "            use_cached_events: False\n",
      "            run_data_validator: False\n",
      "            randomizer: 3\n",
      "            limit_bancor3_flashloan_tokens: False\n",
      "            timeout: 1\n",
      "            replay_from_block: None\n",
      "            tenderly_fork_id: None\n",
      "            tenderly_event_exchanges: []\n",
      "            increment_time: 1\n",
      "            increment_blocks: 1\n",
      "            pool_data_update_frequency: -1\n",
      "            prefix_path: \n",
      "            version_check_frequency: 1\n",
      "            use_flashloans: False\n",
      "\n",
      "            +++++++++++++++++++++++++++++++++++++++++++++++++++++++++++++++++++++++++++++++++++++++++++++++\n",
      "            +++++++++++++++++++++++++++++++++++++++++++++++++++++++++++++++++++++++++++++++++++++++++++++++\n",
      "\n",
      "            Copy and paste the above configuration when reporting a bug. Please also include the error message and stack trace below:\n",
      "\n",
      "            <INSERT ERROR MESSAGE AND STACK TRACE HERE>\n",
      "\n",
      "            Please direct all questions/reporting to the Fastlane Telegram channel: https://t.me/BancorDevelopers\n",
      "\n",
      "            +++++++++++++++++++++++++++++++++++++++++++++++++++++++++++++++++++++++++++++++++++++++++++++++\n",
      "            \n",
      "2023-12-19 03:52:41,825 [fastlane:INFO] - Timeout to test the bot flags\n"
     ]
    }
   ],
   "source": [
    "expected_log_line = \"\"\"Flashloan tokens are set as: [\"'0x1F573D6Fb3F13d689FF844B4cE37794d79a7FF1C\", 'ETH', \"0xAa6E8127831c9DE45ae56bB1b0d4D4Da6e5665BD'\"]\"\"\"\n",
    "arb_mode = \"multi\"\n",
    "run_command(arb_mode=arb_mode, expected_log_line=expected_log_line)"
   ]
  },
  {
   "cell_type": "code",
   "execution_count": 18,
   "id": "04953b77",
   "metadata": {
    "ExecuteTime": {
     "end_time": "2023-12-19T11:52:42.069785Z",
     "start_time": "2023-12-19T11:52:42.067585Z"
    }
   },
   "outputs": [],
   "source": []
  },
  {
   "cell_type": "code",
   "execution_count": 18,
   "id": "0aaf97a0",
   "metadata": {
    "ExecuteTime": {
     "end_time": "2023-12-19T11:52:42.071262Z",
     "start_time": "2023-12-19T11:52:42.069145Z"
    }
   },
   "outputs": [],
   "source": []
  }
 ],
 "metadata": {
  "jupytext": {
   "formats": "ipynb,auto:light"
  },
  "kernelspec": {
   "display_name": "Python 3 (ipykernel)",
   "language": "python",
   "name": "python3"
  },
  "language_info": {
   "codemirror_mode": {
    "name": "ipython",
    "version": 3
   },
   "file_extension": ".py",
   "mimetype": "text/x-python",
   "name": "python",
   "nbconvert_exporter": "python",
   "pygments_lexer": "ipython3",
   "version": "3.8.18"
  }
 },
 "nbformat": 4,
 "nbformat_minor": 5
}
