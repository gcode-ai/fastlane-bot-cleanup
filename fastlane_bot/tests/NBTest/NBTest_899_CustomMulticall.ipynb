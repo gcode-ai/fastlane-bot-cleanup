{
 "cells": [
  {
   "cell_type": "code",
   "execution_count": 20,
   "id": "c539b26e",
   "metadata": {
    "ExecuteTime": {
     "end_time": "2023-12-19T12:02:14.721345Z",
     "start_time": "2023-12-19T12:02:14.694925Z"
    }
   },
   "outputs": [
    {
     "name": "stdout",
     "output_type": "stream",
     "text": [
      "MultiCaller v0.0.2 (2022-09-26)\n",
      "ContractMethodWrapper v0.0.2 (2022-09-26)\n",
      "Version = 3-b2.2 [requirements >= 3.0 is met]\n"
     ]
    }
   ],
   "source": [
    "import json\n",
    "\n",
    "from fastlane_bot.config.multiprovider import MultiProviderContractWrapper\n",
    "from fastlane_bot.data.abi import CARBON_CONTROLLER_ABI\n",
    "import os\n",
    "from unittest.mock import Mock, patch\n",
    "\n",
    "from dotenv import load_dotenv\n",
    "load_dotenv()\n",
    "import time\n",
    "from fastlane_bot.config.multicaller import MultiCaller\n",
    "from fastlane_bot.config.multicaller import ContractMethodWrapper\n",
    "\n",
    "\n",
    "import pytest\n",
    "\n",
    "print(\"{0.__name__} v{0.__VERSION__} ({0.__DATE__})\".format(MultiCaller))\n",
    "print(\"{0.__name__} v{0.__VERSION__} ({0.__DATE__})\".format(ContractMethodWrapper))\n",
    "\n",
    "\n",
    "from fastlane_bot.testing import *\n",
    "\n",
    "#plt.style.use('seaborn-dark')\n",
    "plt.rcParams['figure.figsize'] = [12,6]\n",
    "from fastlane_bot import __VERSION__\n",
    "require(\"3.0\", __VERSION__)"
   ]
  },
  {
   "cell_type": "code",
   "execution_count": 21,
   "id": "9c8a3b4d",
   "metadata": {
    "ExecuteTime": {
     "end_time": "2023-12-19T12:02:25.074193Z",
     "start_time": "2023-12-19T12:02:14.725060Z"
    }
   },
   "outputs": [],
   "source": [
    "WEB3_ALCHEMY_PROJECT_ID = os.environ.get(\"WEB3_ALCHEMY_PROJECT_ID\")\n",
    "\n",
    "# Define ABI and address\n",
    "CONTRACT_ABI = CARBON_CONTROLLER_ABI\n",
    "CARBON_CONTROLLER_ADDRESS = \"0xC537e898CD774e2dCBa3B14Ea6f34C93d5eA45e1\"\n",
    "CONTRACT_ADDRESS = CARBON_CONTROLLER_ADDRESS\n",
    "\n",
    "# Define providers\n",
    "providers = {\n",
    "    \"mainnet\": f\"https://eth-mainnet.alchemyapi.io/v2/{WEB3_ALCHEMY_PROJECT_ID}\",\n",
    "    \"tenderly\": \"https://rpc.tenderly.co/fork/5f70ee18-8d2f-40d7-8131-58d0c8ff4736\",\n",
    "}\n",
    "\n",
    "# Mock the Web3 and Contract classes\n",
    "class MockWeb3:\n",
    "    class HTTPProvider:\n",
    "        pass\n",
    "\n",
    "    class eth:\n",
    "        @staticmethod\n",
    "        def contract(address, abi):\n",
    "            return Mock()\n",
    "        \n",
    "        @staticmethod\n",
    "        def to_checksum_address(address):\n",
    "            return address\n",
    "\n",
    "    @staticmethod\n",
    "    def to_checksum_address(address):\n",
    "        return address\n",
    "\n",
    "class MockContract:\n",
    "    \n",
    "    def __init__(self, address, abi):\n",
    "        self.address = address\n",
    "        self.abi = abi\n",
    "\n",
    "    def functions(self):\n",
    "        return Mock()\n",
    "\n",
    "    def encodeABI(self):\n",
    "        return Mock()\n",
    "\n",
    "    def address(self):\n",
    "        return self.address\n",
    "\n",
    "    def abi(self):\n",
    "        return self.abi\n",
    "\n",
    "    def to_checksum_address(self, address):\n",
    "        return address\n",
    "    \n",
    "    # handle encoded data \n",
    "    def encode_abi(self):\n",
    "        return Mock()\n",
    "    \n",
    "    def decode_abi(self):\n",
    "        return Mock()\n",
    "\n",
    "# Time how long it takes to get all fees without using multicall\n",
    "start_time = time.time()\n",
    "\n",
    "# Initialize the Contract wrapper\n",
    "contract = MultiProviderContractWrapper(CONTRACT_ABI, CONTRACT_ADDRESS, providers)\n",
    "\n",
    "# Execute contract calls\n",
    "mainnet_pairs = contract.mainnet.functions.pairs().call()\n",
    "tenderly_pairs = contract.tenderly.functions.pairs().call()\n",
    "\n",
    "# Take a sample of 20 pairs to speed up testing\n",
    "if len(mainnet_pairs) > 10:\n",
    "    mainnet_pairs = mainnet_pairs[:10]\n",
    "\n",
    "pair_fees_without_multicall = [contract.mainnet.functions.pairTradingFeePPM(pair[0], pair[1]).call() for pair in mainnet_pairs]\n",
    "\n",
    "pair_fees_time_without_multicall = time.time() - start_time\n",
    "\n",
    "start_time = time.time()\n",
    "\n",
    "strats_by_pair_without_multicall = [contract.mainnet.functions.strategiesByPair(pair[0], pair[1], 0, 5000).call() for pair in mainnet_pairs]\n",
    "\n",
    "strats_by_pair_time_without_multicall = time.time() - start_time\n"
   ]
  },
  {
   "cell_type": "markdown",
   "id": "79e31bf936dd50a2",
   "metadata": {},
   "source": [
    "## test_multicaller_init"
   ]
  },
  {
   "cell_type": "code",
   "execution_count": 22,
   "id": "49a9b1b66d4195d",
   "metadata": {
    "ExecuteTime": {
     "end_time": "2023-12-19T12:02:25.083119Z",
     "start_time": "2023-12-19T12:02:25.076870Z"
    }
   },
   "outputs": [],
   "source": [
    "\n",
    "original_method = Mock()\n",
    "multicaller = Mock()\n",
    "\n",
    "wrapper = ContractMethodWrapper(original_method, multicaller)\n",
    "\n",
    "assert wrapper.original_method == original_method\n",
    "assert wrapper.multicaller == multicaller"
   ]
  },
  {
   "cell_type": "markdown",
   "id": "385b334689e5ef0a",
   "metadata": {},
   "source": [
    "## test_contract_method_wrapper_call"
   ]
  },
  {
   "cell_type": "code",
   "execution_count": 23,
   "id": "a4016f70a05413bf",
   "metadata": {
    "ExecuteTime": {
     "end_time": "2023-12-19T12:02:25.085245Z",
     "start_time": "2023-12-19T12:02:25.082236Z"
    }
   },
   "outputs": [],
   "source": [
    "original_method = Mock()\n",
    "multicaller = Mock()\n",
    "\n",
    "wrapper = ContractMethodWrapper(original_method, multicaller)\n",
    "\n",
    "result = wrapper('arg1', kwarg1='kwarg1')\n",
    "\n",
    "original_method.assert_called_with('arg1', kwarg1='kwarg1')\n",
    "multicaller.add_call.assert_called_with(result)"
   ]
  },
  {
   "cell_type": "markdown",
   "id": "6f3d60160db54fbc",
   "metadata": {},
   "source": [
    "## test_multi_caller_init"
   ]
  },
  {
   "cell_type": "code",
   "execution_count": 24,
   "id": "34fb2250211b133d",
   "metadata": {
    "ExecuteTime": {
     "end_time": "2023-12-19T12:02:25.087773Z",
     "start_time": "2023-12-19T12:02:25.085466Z"
    }
   },
   "outputs": [],
   "source": [
    "contract = Mock()\n",
    "web3 = MockWeb3()\n",
    "\n",
    "multicaller = MultiCaller(contract, web3=web3)\n",
    "\n",
    "assert multicaller.contract == contract\n",
    "assert multicaller.block_identifier == 'latest'\n",
    "assert multicaller._contract_calls == []"
   ]
  },
  {
   "cell_type": "markdown",
   "id": "fdaae7b9c45b4e66",
   "metadata": {},
   "source": [
    "## test_multi_caller_add_call"
   ]
  },
  {
   "cell_type": "code",
   "execution_count": 25,
   "id": "e7521dea3c4a1df2",
   "metadata": {
    "ExecuteTime": {
     "end_time": "2023-12-19T12:02:25.090094Z",
     "start_time": "2023-12-19T12:02:25.088506Z"
    }
   },
   "outputs": [],
   "source": [
    "contract = Mock()\n",
    "web3 = MockWeb3()\n",
    "\n",
    "multicaller = MultiCaller(contract, web3=web3)\n",
    "fn = Mock()\n",
    "\n",
    "multicaller.add_call(fn, 'arg1', kwarg1='kwarg1')\n",
    "\n",
    "assert len(multicaller._contract_calls) == 1"
   ]
  },
  {
   "cell_type": "markdown",
   "id": "c1103373ed034b13",
   "metadata": {},
   "source": [
    "## test_multi_caller_context_manager"
   ]
  },
  {
   "cell_type": "code",
   "execution_count": 26,
   "id": "64050694894fae74",
   "metadata": {
    "ExecuteTime": {
     "end_time": "2023-12-19T12:02:25.094494Z",
     "start_time": "2023-12-19T12:02:25.091132Z"
    }
   },
   "outputs": [],
   "source": [
    "contract = Mock()\n",
    "web3 = MockWeb3()\n",
    "multicaller = MultiCaller(contract, web3=web3)\n",
    "\n",
    "with patch.object(multicaller, 'multicall') as mock_multicall:\n",
    "    with multicaller:\n",
    "        multicaller.multicall()\n",
    "        pass\n",
    "\n",
    "    mock_multicall.assert_called_once()"
   ]
  },
  {
   "cell_type": "code",
   "execution_count": null,
   "id": "fff7f4a0",
   "metadata": {
    "ExecuteTime": {
     "start_time": "2023-12-19T12:02:25.128595Z"
    }
   },
   "outputs": [],
   "source": []
  }
 ],
 "metadata": {
  "jupytext": {
   "formats": "ipynb,py:light"
  },
  "kernelspec": {
   "display_name": "Python 3 (ipykernel)",
   "language": "python",
   "name": "python3"
  },
  "language_info": {
   "codemirror_mode": {
    "name": "ipython",
    "version": 3
   },
   "file_extension": ".py",
   "mimetype": "text/x-python",
   "name": "python",
   "nbconvert_exporter": "python",
   "pygments_lexer": "ipython3",
   "version": "3.8.18"
  }
 },
 "nbformat": 4,
 "nbformat_minor": 5
}
