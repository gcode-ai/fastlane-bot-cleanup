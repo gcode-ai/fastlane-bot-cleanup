{
 "cells": [
  {
   "cell_type": "code",
   "execution_count": 1,
   "id": "e401b140-2580-43c4-94b7-b317c9f1a06f",
   "metadata": {
    "ExecuteTime": {
     "end_time": "2023-07-19T13:07:24.403936Z",
     "start_time": "2023-07-19T13:07:21.057238Z"
    }
   },
   "outputs": [
    {
     "name": "stdout",
     "output_type": "stream",
     "text": [
      "ConstantProductCurve v3.3.1 (05/Oct/2023)\n",
      "Univ3Calculator v1.4.1 (25/Jul/2023)\n",
      "imported m, np, pd, plt, os, sys, decimal; defined iseq, raises, require\n",
      "Version = 3-b2.2 [requirements >= 2.0 is met]\n"
     ]
    },
    {
     "name": "stderr",
     "output_type": "stream",
     "text": [
      "c:\\Users\\Kveen\\PycharmProjects\\fastlane-bot\\venv_11\\Lib\\site-packages\\tqdm\\auto.py:21: TqdmWarning: IProgress not found. Please update jupyter and ipywidgets. See https://ipywidgets.readthedocs.io/en/stable/user_install.html\n",
      "  from .autonotebook import tqdm as notebook_tqdm\n"
     ]
    }
   ],
   "source": [
    "from fastlane_bot.tools.cpc import ConstantProductCurve as CPC, CPCContainer\n",
    "from fastlane_bot.helpers.univ3calc import Univ3Calculator as U3\n",
    "from dataclasses import dataclass, asdict\n",
    "\n",
    "print(\"{0.__name__} v{0.__VERSION__} ({0.__DATE__})\".format(CPC))\n",
    "print(\"{0.__name__} v{0.__VERSION__} ({0.__DATE__})\".format(U3))\n",
    "\n",
    "from fastlane_bot.testing import *\n",
    "#plt.style.use('seaborn-dark')\n",
    "plt.rcParams['figure.figsize'] = [12,6]\n",
    "from fastlane_bot import __VERSION__\n",
    "require(\"2.0\", __VERSION__)"
   ]
  },
  {
   "cell_type": "markdown",
   "id": "b3f59f14-b91b-4dba-94b0-3d513aaf41c7",
   "metadata": {},
   "source": [
    "# Uniswap code [NBTest005]"
   ]
  },
  {
   "cell_type": "markdown",
   "id": "a823fa57-5a8b-4200-9e91-6046919ff7a6",
   "metadata": {},
   "source": [
    "## u3 standalone"
   ]
  },
  {
   "cell_type": "code",
   "execution_count": 2,
   "id": "3a47997d-a56f-44dd-a893-e3b35ca85bd8",
   "metadata": {
    "ExecuteTime": {
     "end_time": "2023-07-19T13:07:24.407162Z",
     "start_time": "2023-07-19T13:07:24.406028Z"
    }
   },
   "outputs": [],
   "source": [
    "data = {\n",
    "    \"token0\": \"0xA0b86991c6218b36c1d19D4a2e9Eb0cE3606eB48\", # USDC\n",
    "    \"token1\": \"0xC02aaA39b223FE8D0A0e5C4F27eAD9083C756Cc2\", # WETH \n",
    "    \"sqrt_price_q96\": \"1725337071198080486317035748446190\", \n",
    "    \"tick\": \"199782\", \n",
    "    \"liquidity\": \"36361853546581410773\"\n",
    "}"
   ]
  },
  {
   "cell_type": "code",
   "execution_count": 3,
   "id": "c09a2e17-fa5f-4c9f-bc7d-46d9dfe54251",
   "metadata": {
    "ExecuteTime": {
     "end_time": "2023-07-19T13:07:24.410228Z",
     "start_time": "2023-07-19T13:07:24.407347Z"
    }
   },
   "outputs": [
    {
     "name": "stdout",
     "output_type": "stream",
     "text": [
      "Help on method from_dict in module fastlane_bot.helpers.univ3calc:\n",
      "\n",
      "from_dict(d, fee_const, *, addrdec=None, tkn0decv=None, tkn1decv=None) method of builtins.type instance\n",
      "    alternative constructor from a dictionary\n",
      "    \n",
      "    :d:             dict with keys: token0 [address], token1 [address], sqrt_price_q96, tick, liquidity\n",
      "    :fee_const:     fee constant (FEE100, ...)\n",
      "    :tkn0decv:      optional token0 decimals value (eg 6, 18)\n",
      "    :tkn1decv:      optional token1 decimals value (eg 6, 18)\n",
      "    :addrdec:       optional dictionary of token address to decimals (eg {\"0x123...\": 18})\n",
      "\n"
     ]
    }
   ],
   "source": [
    "help(U3.from_dict)"
   ]
  },
  {
   "cell_type": "code",
   "execution_count": 4,
   "id": "6ddf4a6f-b9f8-4a56-b376-2b215fb4c867",
   "metadata": {
    "ExecuteTime": {
     "end_time": "2023-07-19T13:07:24.681597Z",
     "start_time": "2023-07-19T13:07:24.416547Z"
    }
   },
   "outputs": [
    {
     "name": "stdout",
     "output_type": "stream",
     "text": [
      "Uniswap v3 Range 0xA0b86991c6218b36c1d19D4a2e9Eb0cE3606eB48/0xC02aaA39b223FE8D0A0e5C4F27eAD9083C756Cc2 (fee=0.05%)\n",
      "  Pa =        0.000   P=       0.000   Pb =        0.000 0xC02aaA39b223FE8D0A0e5C4F27eAD9083C756Cc2 per 0xA0b86991c6218b36c1d19D4a2e9Eb0cE3606eB48\n",
      "1/Pa =    2,109.107 1/P=   2,108.683 1/Pb =    2,106.999 0xA0b86991c6218b36c1d19D4a2e9Eb0cE3606eB48 per 0xC02aaA39b223FE8D0A0e5C4F27eAD9083C756Cc2\n",
      "---\n",
      " full P = 0.00047422968986928404, full 1/P = 2108.6828205033694\n",
      "\n"
     ]
    }
   ],
   "source": [
    "u1 = U3(\n",
    "    tkn0=\"0xA0b86991c6218b36c1d19D4a2e9Eb0cE3606eB48\", \n",
    "    tkn0decv=6, \n",
    "    tkn1=\"0xC02aaA39b223FE8D0A0e5C4F27eAD9083C756Cc2\", \n",
    "    tkn1decv=18,\n",
    "    sp96=data[\"sqrt_price_q96\"],\n",
    "    tick=data[\"tick\"],\n",
    "    liquidity=data[\"liquidity\"],\n",
    "    fee_const = U3.FEE500,\n",
    ")\n",
    "u2 = U3.from_dict(data, U3.FEE500)\n",
    "#assert u1 == u2\n",
    "u = u2\n",
    "assert asdict(u) == {\n",
    "    'tkn0': '0xA0b86991c6218b36c1d19D4a2e9Eb0cE3606eB48',\n",
    "    'tkn1': '0xC02aaA39b223FE8D0A0e5C4F27eAD9083C756Cc2',\n",
    "    'sp96': int(data[\"sqrt_price_q96\"]),\n",
    "    'tick': int(data[\"tick\"]),\n",
    "    'liquidity': int(data[\"liquidity\"]),\n",
    "    'fee_const': U3.FEE500\n",
    "}, f\"{asdict(u)}\"\n",
    "assert u.tkn0 == \"0xA0b86991c6218b36c1d19D4a2e9Eb0cE3606eB48\"\n",
    "assert u.tkn1 == \"0xC02aaA39b223FE8D0A0e5C4F27eAD9083C756Cc2\"\n",
    "assert u.tkn0dec == 6\n",
    "assert u.tkn1dec == 18\n",
    "assert u.decf == 1e-12\n",
    "assert u.dec_factor_wei0_per_wei1 == u.decf\n",
    "assert iseq(u.p, 0.00047422968986928404)\n",
    "assert iseq(1/u.p, 2108.6828205033694)\n",
    "assert u.p == u.price_tkn1_per_tkn0\n",
    "assert 1/u.p == u.price_tkn0_per_tkn1\n",
    "assert u.price_convention == '0xA0b86991c6218b36c1d19D4a2e9Eb0cE3606eB48/0xC02aaA39b223FE8D0A0e5C4F27eAD9083C756Cc2 [0xC02aaA39b223FE8D0A0e5C4F27eAD9083C756Cc2 per 0xA0b86991c6218b36c1d19D4a2e9Eb0cE3606eB48]'\n",
    "assert iseq(u._price_f(1725337071198080486317035748446190), 474229689.86928403)\n",
    "assert iseq(u._price_f(u.sp96), 474229689.86928403)\n",
    "assert u.ticksize == 10\n",
    "ta, tb =  u.tickab\n",
    "par, pbr = u.papb_raw\n",
    "pa, pb = u.papb_tkn1_per_tkn0\n",
    "pai, pbi = u.papb_tkn0_per_tkn1\n",
    "assert ta <= u.tick\n",
    "assert tb >= u.tick\n",
    "assert ta % u.ticksize == 0\n",
    "assert tb % u.ticksize == 0\n",
    "assert tb-ta == u.ticksize\n",
    "assert iseq(par, 474134297.0246954)\n",
    "assert iseq(pbr, 474608644.73905975)\n",
    "assert iseq(pbr/par, 1.0001**u.ticksize)\n",
    "assert iseq(pa, 0.0004741342970246954)\n",
    "assert iseq(pb, 0.00047460864473905973)\n",
    "assert iseq(pbr/par, pb/pa)\n",
    "assert iseq(pbr/par, pai/pbi)\n",
    "assert pa<pb\n",
    "assert pai>pbi\n",
    "assert pa == par * u.decf\n",
    "assert pb == pbr * u.decf\n",
    "assert iseq(pai, 2109.1070742514007)\n",
    "assert iseq(pbi, 2106.999126722188)\n",
    "assert pai == 1/pa\n",
    "assert pbi == 1/pb\n",
    "assert u.p >= pa\n",
    "assert u.p <= pb\n",
    "assert u.fee_const == 500\n",
    "assert u.fee == 0.0005\n",
    "assert u.info()\n",
    "print(u.info())"
   ]
  },
  {
   "cell_type": "code",
   "execution_count": 5,
   "id": "72649b0b-da5a-4b38-8e42-67aa77cc8eea",
   "metadata": {},
   "outputs": [
    {
     "data": {
      "text/plain": [
       "((666745.6837363543, '0xA0b86991c6218b36c1d19D4a2e9Eb0cE3606eB48'),\n",
       " (79.64514158623042, '0xC02aaA39b223FE8D0A0e5C4F27eAD9083C756Cc2'),\n",
       " (395.83574040620545, '0xC02aaA39b223FE8D0A0e5C4F27eAD9083C756Cc2'))"
      ]
     },
     "execution_count": 5,
     "metadata": {},
     "output_type": "execute_result"
    }
   ],
   "source": [
    "assert u.liquidity == int(data[\"liquidity\"])\n",
    "assert u.L == 36361853.54658141\n",
    "assert u.liquidity/u.L == 1e18/1e6\n",
    "assert u.L2 == u.L**2\n",
    "assert u.Lsquared == u.L**2\n",
    "assert u.k == u.L2\n",
    "assert u.kbar == u.L\n",
    "u.tkn0reserve(incltoken=True), u.tkn1reserve(incltoken=True), u.tvl(incltoken=True)"
   ]
  },
  {
   "cell_type": "code",
   "execution_count": 6,
   "id": "df89e021-7f82-4d97-b9e4-f7521aad3480",
   "metadata": {},
   "outputs": [
    {
     "data": {
      "text/plain": [
       "{'token0': '0xA0b86991c6218b36c1d19D4a2e9Eb0cE3606eB48_',\n",
       " 'token1': '0xC02aaA39b223FE8D0A0e5C4F27eAD9083C756Cc2_',\n",
       " 'sqrt_price_q96': '1725337071198080486317035748446190',\n",
       " 'tick': '199782',\n",
       " 'liquidity': '36361853546581410773'}"
      ]
     },
     "execution_count": 6,
     "metadata": {},
     "output_type": "execute_result"
    }
   ],
   "source": [
    "data1 = {**data}\n",
    "data1[\"token0\"] = data[\"token0\"]+\"_\"\n",
    "data1[\"token1\"] = data[\"token1\"]+\"_\"\n",
    "data1"
   ]
  },
  {
   "cell_type": "code",
   "execution_count": 7,
   "id": "2c4b3bea-3b8d-4d3c-a361-4f476455fb1a",
   "metadata": {},
   "outputs": [],
   "source": [
    "assert raises (U3.from_dict, data1, U3.FEE500).startswith(\"must provide tkn0decv\")\n",
    "u3 = U3.from_dict(data1, U3.FEE500, tkn0decv=6, tkn1decv=18)\n",
    "assert u3.liquidity == u2.liquidity\n",
    "assert u3.tick == u2.tick\n",
    "assert u3.sp96 == u2.sp96\n",
    "assert u3.sp96 == u2.sp96"
   ]
  },
  {
   "cell_type": "markdown",
   "id": "f2c7bde4",
   "metadata": {},
   "source": [
    "## Univ3 Issue"
   ]
  },
  {
   "cell_type": "code",
   "execution_count": 8,
   "id": "95bd7af0",
   "metadata": {},
   "outputs": [],
   "source": [
    "u3data = dict(\n",
    "    sqrt_price_q96=Decimal('79204503519896773685362'), \n",
    "    tick=-276330, \n",
    "    tick_spacing=10, \n",
    "    liquidity=Decimal('420303555647537236581'), \n",
    "    address='0x5720EB958685dEEEB5AA0b34F677861cE3a8c7F5', \n",
    "    anchor='NaN', tkn0='0x8E870D67F660D95d5be530380D0eC0bd388289E1', \n",
    "    tkn1='0xA0b86991c6218b36c1d19D4a2e9Eb0cE3606eB48', \n",
    "    tkn0_address='0x8E870D67F660D95d5be530380D0eC0bd388289E1', \n",
    "    tkn0_decimals=18, \n",
    "    tkn1_address='0xA0b86991c6218b36c1d19D4a2e9Eb0cE3606eB48', \n",
    "    tkn1_decimals=6, \n",
    "    tkn0_key='0x8E870D67F660D95d5be530380D0eC0bd388289E1',\n",
    "    tkn1_key='0xA0b86991c6218b36c1d19D4a2e9Eb0cE3606eB48'\n",
    ")\n",
    "u3data[\"token0\"] = u3data[\"tkn0_address\"]\n",
    "u3data[\"token1\"] = u3data[\"tkn1_address\"]"
   ]
  },
  {
   "cell_type": "code",
   "execution_count": 9,
   "id": "95dc4c51",
   "metadata": {},
   "outputs": [],
   "source": [
    "u3 = U3.from_dict(u3data, tkn0decv=u3data[\"tkn0_decimals\"], \n",
    "                  tkn1decv=u3data[\"tkn1_decimals\"], fee_const=U3.FEE100)"
   ]
  },
  {
   "cell_type": "code",
   "execution_count": 10,
   "id": "f74fd881",
   "metadata": {},
   "outputs": [
    {
     "data": {
      "text/plain": [
       "{'Pmarg': 0.9994028521922611,\n",
       " 'uniL': 420303555.64753723,\n",
       " 'uniPa': 0.9994028521922611,\n",
       " 'uniPb': 0.9995027924774801,\n",
       " 'pair': '0x8E870D67F660D95d5be530380D0eC0bd388289E1/0xA0b86991c6218b36c1d19D4a2e9Eb0cE3606eB48',\n",
       " 'fee': 0.0001}"
      ]
     },
     "execution_count": 10,
     "metadata": {},
     "output_type": "execute_result"
    }
   ],
   "source": [
    "u3d = u3.cpc_params()\n",
    "u3d"
   ]
  },
  {
   "cell_type": "code",
   "execution_count": 11,
   "id": "b173588c",
   "metadata": {},
   "outputs": [
    {
     "name": "stdout",
     "output_type": "stream",
     "text": [
      "2.0883295093199195e-12\n"
     ]
    }
   ],
   "source": [
    "pa,pb = u3.papb\n",
    "pm = u3.p\n",
    "r = u3.cpc_params()\n",
    "assert r[\"uniPa\"] == pa\n",
    "assert r[\"uniPb\"] == pb\n",
    "assert r[\"uniPa\"] <= r[\"Pmarg\"]\n",
    "assert r[\"uniPb\"] >= r[\"Pmarg\"]\n",
    "print(r[\"Pmarg\"]/pm-1)\n",
    "assert abs(r[\"Pmarg\"]/pm-1)<1e-10"
   ]
  },
  {
   "cell_type": "markdown",
   "id": "c36542d0-7133-46d5-8c9c-8a6ed6d4dc3c",
   "metadata": {},
   "source": [
    "## with cpc"
   ]
  },
  {
   "cell_type": "code",
   "execution_count": 12,
   "id": "b413ba26-56f2-4fee-b0d2-ee71548851a3",
   "metadata": {},
   "outputs": [],
   "source": [
    "data = {\n",
    "    \"token0\": \"0xA0b86991c6218b36c1d19D4a2e9Eb0cE3606eB48\", \n",
    "    \"token1\": \"0xC02aaA39b223FE8D0A0e5C4F27eAD9083C756Cc2\", \n",
    "    \"sqrt_price_q96\": \"1727031172247131125466697684053376\", \n",
    "    \"tick\": \"199801\", \n",
    "    \"liquidity\": \"37398889145617323159\"\n",
    "}\n",
    "u = U3.from_dict(data, U3.FEE500)"
   ]
  },
  {
   "cell_type": "code",
   "execution_count": 13,
   "id": "dd9897ee",
   "metadata": {},
   "outputs": [
    {
     "data": {
      "text/plain": [
       "ConstantProductCurve(k=1398676909326173.8, x=1715687194.7056706, x_act=716877.5715601444, y_act=66.88731140131131, alpha=0.5, pair='0xA0b86991c6218b36c1d19D4a2e9Eb0cE3606eB48/0xC02aaA39b223FE8D0A0e5C4F27eAD9083C756Cc2', cid='0', fee=0.0005, descr='', constr='pkpp', params={'uv3raw': {'tkn0': '0xA0b86991c6218b36c1d19D4a2e9Eb0cE3606eB48', 'tkn1': '0xC02aaA39b223FE8D0A0e5C4F27eAD9083C756Cc2', 'sp96': 1727031172247131125466697684053376, 'tick': 199801, 'liquidity': 37398889145617323159, 'fee_const': 500}, 'L': 37398889.14561733})"
      ]
     },
     "execution_count": 13,
     "metadata": {},
     "output_type": "execute_result"
    }
   ],
   "source": [
    "pa, pb = u.papb_tkn1_per_tkn0\n",
    "curve = CPC.from_univ3(\n",
    "    Pmarg = u.p,\n",
    "    uniL = u.L,\n",
    "    uniPa = pa,\n",
    "    uniPb = pb,\n",
    "    pair = u.pair,\n",
    "    fee = u.fee,\n",
    "    descr = \"\",\n",
    "    params = dict(uv3raw=asdict(u)),\n",
    "    cid = \"0\",\n",
    ")\n",
    "curve"
   ]
  },
  {
   "cell_type": "code",
   "execution_count": 14,
   "id": "f8fa2097",
   "metadata": {},
   "outputs": [
    {
     "name": "stdout",
     "output_type": "stream",
     "text": [
      "Reserve: 716,877.572 0xA0b86991c6218b36c1d19D4a2e9Eb0cE3606eB48, 66.887 0xC02aaA39b223FE8D0A0e5C4F27eAD9083C756Cc2\n",
      "TVL = 857,645.122 0xA0b86991c6218b36c1d19D4a2e9Eb0cE3606eB48 = 407.520 0xC02aaA39b223FE8D0A0e5C4F27eAD9083C756Cc2\n"
     ]
    }
   ],
   "source": [
    "c = curve\n",
    "print(f\"Reserve: {c.x_act:,.3f} {c.tknx}, {c.y_act:,.3f} {c.tkny}\")\n",
    "print(f\"TVL = {c.tvl(tkn=c.tknx):,.3f} {c.tknx} = {c.tvl(tkn=c.tkny):,.3f} {c.tkny}\")\n",
    "assert iseq(c.x_act, 716877.5715601444)\n",
    "assert iseq(c.y_act, 66.88731140131131)\n",
    "assert iseq(c.tvl(tkn=c.tknx), 857645.1222000704)\n",
    "assert iseq(c.tvl(tkn=c.tkny), 407.51988721569177)"
   ]
  },
  {
   "cell_type": "code",
   "execution_count": 15,
   "id": "41b5fdaf-fe24-463f-bc81-76600c1d4068",
   "metadata": {},
   "outputs": [
    {
     "name": "stdout",
     "output_type": "stream",
     "text": [
      "Reserve: 716,877.572 0xA0b86991c6218b36c1d19D4a2e9Eb0cE3606eB48, 66.887 0xC02aaA39b223FE8D0A0e5C4F27eAD9083C756Cc2\n",
      "TVL = 857,645.122 0xA0b86991c6218b36c1d19D4a2e9Eb0cE3606eB48 = 407.520 0xC02aaA39b223FE8D0A0e5C4F27eAD9083C756Cc2\n"
     ]
    },
    {
     "data": {
      "text/plain": [
       "((716877.571560313, '0xA0b86991c6218b36c1d19D4a2e9Eb0cE3606eB48'),\n",
       " (66.8873114012806, '0xC02aaA39b223FE8D0A0e5C4F27eAD9083C756Cc2'),\n",
       " (407.5198872157411, '0xC02aaA39b223FE8D0A0e5C4F27eAD9083C756Cc2'))"
      ]
     },
     "execution_count": 15,
     "metadata": {},
     "output_type": "execute_result"
    }
   ],
   "source": [
    "print(f\"Reserve: {u.tkn0reserve():,.3f} {c.tknx}, {u.tkn1reserve():,.3f} {c.tkny}\")\n",
    "print(f\"TVL = {u.tvl(astkn0=True):,.3f} {c.tknx} = {u.tvl(astkn0=False):,.3f} {c.tkny}\")\n",
    "assert iseq(u.tkn0reserve(), c.x_act)\n",
    "assert iseq(u.tkn1reserve(), c.y_act)\n",
    "assert iseq(u.tvl(astkn0=False), c.tvl(tkn=c.tkny))\n",
    "assert iseq(u.tvl(astkn0=True), c.tvl(tkn=c.tknx))\n",
    "assert u.tkn0reserve(incltoken=True)[1] == u.tkn0\n",
    "assert u.tkn1reserve(incltoken=True)[1] == u.tkn1\n",
    "assert u.tvl(astkn0=True, incltoken=True)[1] == u.tkn0\n",
    "assert u.tvl(astkn0=False, incltoken=True)[1] == u.tkn1\n",
    "u.tkn0reserve(incltoken=True), u.tkn1reserve(incltoken=True), u.tvl(incltoken=True)"
   ]
  },
  {
   "cell_type": "code",
   "execution_count": 16,
   "id": "c2680822",
   "metadata": {},
   "outputs": [
    {
     "data": {
      "text/plain": [
       "ConstantProductCurve(k=1398676909326173.8, x=1715687194.7056706, x_act=716877.5715601444, y_act=66.88731140131131, alpha=0.5, pair='0xA0b86991c6218b36c1d19D4a2e9Eb0cE3606eB48/0xC02aaA39b223FE8D0A0e5C4F27eAD9083C756Cc2', cid='0', fee=0.0005, descr='', constr='pkpp', params={'uv3raw': {'tkn0': '0xA0b86991c6218b36c1d19D4a2e9Eb0cE3606eB48', 'tkn1': '0xC02aaA39b223FE8D0A0e5C4F27eAD9083C756Cc2', 'sp96': 1727031172247131125466697684053376, 'tick': 199801, 'liquidity': 37398889145617323159, 'fee_const': 500}, 'L': 37398889.14561733})"
      ]
     },
     "execution_count": 16,
     "metadata": {},
     "output_type": "execute_result"
    }
   ],
   "source": [
    "curve = CPC.from_univ3(\n",
    "    **u.cpc_params(),\n",
    "    descr = \"\",\n",
    "    params = dict(uv3raw=asdict(u)),\n",
    "    cid = \"0\",\n",
    ")\n",
    "curve"
   ]
  },
  {
   "cell_type": "code",
   "execution_count": 17,
   "id": "a77b197b",
   "metadata": {},
   "outputs": [
    {
     "name": "stdout",
     "output_type": "stream",
     "text": [
      "Reserve: 716,877.572 0xA0b86991c6218b36c1d19D4a2e9Eb0cE3606eB48, 66.887 0xC02aaA39b223FE8D0A0e5C4F27eAD9083C756Cc2\n",
      "TVL = 857,645.122 0xA0b86991c6218b36c1d19D4a2e9Eb0cE3606eB48 = 407.520 0xC02aaA39b223FE8D0A0e5C4F27eAD9083C756Cc2\n"
     ]
    }
   ],
   "source": [
    "c = curve\n",
    "print(f\"Reserve: {c.x_act:,.3f} {c.tknx}, {c.y_act:,.3f} {c.tkny}\")\n",
    "print(f\"TVL = {c.tvl(tkn=c.tknx):,.3f} {c.tknx} = {c.tvl(tkn=c.tkny):,.3f} {c.tkny}\")"
   ]
  },
  {
   "cell_type": "code",
   "execution_count": 18,
   "id": "d8abe212",
   "metadata": {
    "lines_to_next_cell": 2
   },
   "outputs": [
    {
     "data": {
      "text/plain": [
       "ConstantProductCurve(k=1398676909326173.8, x=1715687194.7056706, x_act=716877.5715601444, y_act=66.88731140131131, alpha=0.5, pair='0xA0b86991c6218b36c1d19D4a2e9Eb0cE3606eB48/0xC02aaA39b223FE8D0A0e5C4F27eAD9083C756Cc2', cid='0', fee=0.0005, descr='', constr='pkpp', params={'L': 37398889.14561733})"
      ]
     },
     "execution_count": 18,
     "metadata": {},
     "output_type": "execute_result"
    }
   ],
   "source": [
    "curve = CPC.from_univ3(\n",
    "    **u.cpc_params(\n",
    "        cid = \"0\",\n",
    "        descr = \"\",\n",
    "        #params = dict(uv3raw=asdict(u)),\n",
    "    ),\n",
    ")\n",
    "curve"
   ]
  },
  {
   "cell_type": "code",
   "execution_count": 19,
   "id": "3624a9c0",
   "metadata": {},
   "outputs": [
    {
     "name": "stdout",
     "output_type": "stream",
     "text": [
      "Reserve: 716,877.572 0xA0b86991c6218b36c1d19D4a2e9Eb0cE3606eB48, 66.887 0xC02aaA39b223FE8D0A0e5C4F27eAD9083C756Cc2\n",
      "TVL = 857,645.122 0xA0b86991c6218b36c1d19D4a2e9Eb0cE3606eB48 = 407.520 0xC02aaA39b223FE8D0A0e5C4F27eAD9083C756Cc2\n"
     ]
    }
   ],
   "source": [
    "c = curve\n",
    "print(f\"Reserve: {c.x_act:,.3f} {c.tknx}, {c.y_act:,.3f} {c.tkny}\")\n",
    "print(f\"TVL = {c.tvl(tkn=c.tknx):,.3f} {c.tknx} = {c.tvl(tkn=c.tkny):,.3f} {c.tkny}\")"
   ]
  },
  {
   "cell_type": "code",
   "execution_count": null,
   "id": "ce57f8df",
   "metadata": {},
   "outputs": [],
   "source": []
  }
 ],
 "metadata": {
  "jupytext": {
   "encoding": "# -*- coding: utf-8 -*-",
   "formats": "ipynb,py:light"
  },
  "kernelspec": {
   "display_name": "Python 3",
   "language": "python",
   "name": "python3"
  },
  "language_info": {
   "codemirror_mode": {
    "name": "ipython",
    "version": 3
   },
   "file_extension": ".py",
   "mimetype": "text/x-python",
   "name": "python",
   "nbconvert_exporter": "python",
   "pygments_lexer": "ipython3",
   "version": "3.11.5"
  }
 },
 "nbformat": 4,
 "nbformat_minor": 5
}
