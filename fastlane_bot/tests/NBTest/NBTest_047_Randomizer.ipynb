{
 "cells": [
  {
   "cell_type": "code",
   "execution_count": 1,
   "id": "84fa264b",
   "metadata": {
    "ExecuteTime": {
     "end_time": "2023-09-18T18:21:35.122179Z",
     "start_time": "2023-09-18T18:21:35.102964Z"
    }
   },
   "outputs": [
    {
     "name": "stdout",
     "output_type": "stream",
     "text": [
      "ConstantProductCurve v3.3.1 (05/Oct/2023)\n",
      "CarbonBot v3-b2.2 (20/June/2023)\n",
      "UniswapV2 v0.0.2 (2023-08-27)\n",
      "UniswapV3 v0.0.2 (2023-08-27)\n",
      "CarbonV1 v0.0.2 (2023-08-27)\n",
      "BancorV3 v0.0.2 (2023-08-27)\n",
      "imported m, np, pd, plt, os, sys, decimal; defined iseq, raises, require\n",
      "Version = 3-b2.2 [requirements >= 3.0 is met]\n"
     ]
    },
    {
     "name": "stderr",
     "output_type": "stream",
     "text": [
      "c:\\Users\\Kveen\\PycharmProjects\\fastlane-bot\\venv_11\\Lib\\site-packages\\tqdm\\auto.py:21: TqdmWarning: IProgress not found. Please update jupyter and ipywidgets. See https://ipywidgets.readthedocs.io/en/stable/user_install.html\n",
      "  from .autonotebook import tqdm as notebook_tqdm\n"
     ]
    }
   ],
   "source": [
    "# coding=utf-8\n",
    "\"\"\"\n",
    "This module contains the tests for the exchanges classes\n",
    "\"\"\"\n",
    "from fastlane_bot import Bot, Config\n",
    "from fastlane_bot.bot import CarbonBot\n",
    "from fastlane_bot.tools.cpc import ConstantProductCurve\n",
    "from fastlane_bot.tools.cpc import ConstantProductCurve as CPC\n",
    "from fastlane_bot.events.exchanges import UniswapV2, UniswapV3,  CarbonV1, BancorV3\n",
    "from fastlane_bot.events.interface import QueryInterface\n",
    "from fastlane_bot.helpers.poolandtokens import PoolAndTokens\n",
    "from fastlane_bot.helpers import TradeInstruction, TxReceiptHandler, TxRouteHandler, TxSubmitHandler, TxHelpers, TxHelper\n",
    "from fastlane_bot.events.managers.manager import Manager\n",
    "from fastlane_bot.events.interface import QueryInterface\n",
    "from joblib import Parallel, delayed\n",
    "import pytest\n",
    "import math\n",
    "import json\n",
    "print(\"{0.__name__} v{0.__VERSION__} ({0.__DATE__})\".format(CPC))\n",
    "print(\"{0.__name__} v{0.__VERSION__} ({0.__DATE__})\".format(Bot))\n",
    "print(\"{0.__name__} v{0.__VERSION__} ({0.__DATE__})\".format(UniswapV2))\n",
    "print(\"{0.__name__} v{0.__VERSION__} ({0.__DATE__})\".format(UniswapV3))\n",
    "print(\"{0.__name__} v{0.__VERSION__} ({0.__DATE__})\".format(CarbonV1))\n",
    "print(\"{0.__name__} v{0.__VERSION__} ({0.__DATE__})\".format(BancorV3))\n",
    "from fastlane_bot.testing import *\n",
    "#plt.style.use('seaborn-dark')\n",
    "plt.rcParams['figure.figsize'] = [12,6]\n",
    "from fastlane_bot import __VERSION__\n",
    "require(\"3.0\", __VERSION__)"
   ]
  },
  {
   "cell_type": "markdown",
   "id": "4c4e2283",
   "metadata": {},
   "source": [
    "# Randomizer [NB047]"
   ]
  },
  {
   "cell_type": "code",
   "execution_count": 2,
   "id": "a51e5ec2",
   "metadata": {
    "ExecuteTime": {
     "end_time": "2023-09-18T18:21:37.618746Z",
     "start_time": "2023-09-18T18:21:35.113070Z"
    }
   },
   "outputs": [
    {
     "name": "stderr",
     "output_type": "stream",
     "text": [
      "2023-12-18 14:33:57,696 [fastlane:INFO] - \n",
      "2023-12-18 14:33:57,697 [fastlane:INFO] - **********************************************\n",
      "2023-12-18 14:33:57,697 [fastlane:INFO] - The logging path is set to: logs/20231218-143357\\bot.log\n",
      "2023-12-18 14:33:57,697 [fastlane:INFO] - **********************************************\n",
      "2023-12-18 14:33:57,698 [fastlane:INFO] - \n",
      "2023-12-18 14:34:01,996 [fastlane:INFO] - Time taken to add initial pools: 0.12729454040527344\n",
      "2023-12-18 14:34:02,000 [fastlane:INFO] - Initializing the bot...\n"
     ]
    }
   ],
   "source": [
    "C = cfg = Config.new(config=Config.CONFIG_MAINNET)\n",
    "cfg.DEFAULT_MIN_PROFIT_GAS_TOKEN = 0.00001\n",
    "assert (C.NETWORK == C.NETWORK_MAINNET)\n",
    "assert (C.PROVIDER == C.PROVIDER_ALCHEMY)\n",
    "setup_bot = CarbonBot(ConfigObj=C)\n",
    "pools = None\n",
    "with open('fastlane_bot/data/tests/latest_pool_data_testing.json') as f:\n",
    "    pools = json.load(f)\n",
    "pools = [pool for pool in pools]\n",
    "pools[0]\n",
    "static_pools = pools\n",
    "state = pools\n",
    "exchanges = list({ex['exchange_name'] for ex in state})\n",
    "db = QueryInterface(state=state, ConfigObj=C, exchanges=exchanges)\n",
    "setup_bot.db = db\n",
    "\n",
    "static_pool_data_filename = \"static_pool_data\"\n",
    "\n",
    "static_pool_data = pd.read_csv(f\"fastlane_bot/data/{static_pool_data_filename}.csv\", low_memory=False)\n",
    "    \n",
    "uniswap_v2_event_mappings = pd.read_csv(\"fastlane_bot/data/uniswap_v2_event_mappings.csv\", low_memory=False)\n",
    "        \n",
    "tokens = pd.read_csv(\"fastlane_bot/data/tokens.csv\", low_memory=False)\n",
    "        \n",
    "exchanges = \"carbon_v1,bancor_v3,uniswap_v3,uniswap_v2,sushiswap_v2\"\n",
    "\n",
    "exchanges = exchanges.split(\",\")\n",
    "\n",
    "\n",
    "alchemy_max_block_fetch = 20\n",
    "static_pool_data[\"cid\"] = [\n",
    "        cfg.w3.keccak(text=f\"{row['descr']}\").hex()\n",
    "        for index, row in static_pool_data.iterrows()\n",
    "    ]\n",
    "# Filter out pools that are not in the supported exchanges\n",
    "static_pool_data = [\n",
    "    row for index, row in static_pool_data.iterrows()\n",
    "    if row[\"exchange_name\"] in exchanges\n",
    "]\n",
    "\n",
    "static_pool_data = pd.DataFrame(static_pool_data)\n",
    "static_pool_data['exchange_name'].unique()\n",
    "# Initialize data fetch manager\n",
    "mgr = Manager(\n",
    "    web3=cfg.w3,\n",
    "    w3_async=cfg.w3_async,\n",
    "    cfg=cfg,\n",
    "    pool_data=static_pool_data.to_dict(orient=\"records\"),\n",
    "    SUPPORTED_EXCHANGES=exchanges,\n",
    "    alchemy_max_block_fetch=alchemy_max_block_fetch,\n",
    "    uniswap_v2_event_mappings=uniswap_v2_event_mappings,\n",
    "    tokens=tokens.to_dict(orient=\"records\"),\n",
    ")\n",
    "\n",
    "# Add initial pools for each row in the static_pool_data\n",
    "start_time = time.time()\n",
    "Parallel(n_jobs=-1, backend=\"threading\")(\n",
    "    delayed(mgr.add_pool_to_exchange)(row) for row in mgr.pool_data\n",
    ")\n",
    "cfg.logger.info(f\"Time taken to add initial pools: {time.time() - start_time}\")\n",
    "\n",
    "# check if any duplicate cid's exist in the pool data\n",
    "mgr.deduplicate_pool_data()\n",
    "cids = [pool[\"cid\"] for pool in mgr.pool_data]\n",
    "assert len(cids) == len(set(cids)), \"duplicate cid's exist in the pool data\"\n",
    "def init_bot(mgr: Manager) -> CarbonBot:\n",
    "    \"\"\"\n",
    "    Initializes the bot.\n",
    "\n",
    "    Parameters\n",
    "    ----------\n",
    "    mgr : Manager\n",
    "        The manager object.\n",
    "\n",
    "    Returns\n",
    "    -------\n",
    "    CarbonBot\n",
    "        The bot object.\n",
    "    \"\"\"\n",
    "    mgr.cfg.logger.info(\"Initializing the bot...\")\n",
    "    bot = CarbonBot(ConfigObj=mgr.cfg)\n",
    "    bot.db = db\n",
    "    bot.db.mgr = mgr\n",
    "    assert isinstance(\n",
    "        bot.db, QueryInterface\n",
    "    ), \"QueryInterface not initialized correctly\"\n",
    "    return bot\n",
    "bot = init_bot(mgr)\n",
    "# add data cleanup steps from main.py\n",
    "bot.db.remove_unmapped_uniswap_v2_pools()\n",
    "bot.db.remove_zero_liquidity_pools()\n",
    "bot.db.remove_unsupported_exchanges()\n",
    "tokens = bot.db.get_tokens()\n",
    "ADDRDEC = {t.address: (t.address, int(t.decimals)) for t in tokens if not math.isnan(t.decimals)}\n",
    "flashloan_tokens = bot.setup_flashloan_tokens(None)\n",
    "CCm = bot.setup_CCm(None)\n",
    "pools = db.get_pool_data_with_tokens()\n",
    "\n",
    "arb_mode = \"multi\""
   ]
  },
  {
   "cell_type": "markdown",
   "id": "96ef3bf0",
   "metadata": {},
   "source": [
    "## Test_randomizer"
   ]
  },
  {
   "cell_type": "code",
   "execution_count": 3,
   "id": "1bd9247d-9900-42ac-9e6e-54254b9a0921",
   "metadata": {
    "ExecuteTime": {
     "end_time": "2023-09-18T18:21:38.173678Z",
     "start_time": "2023-09-18T18:21:37.631096Z"
    }
   },
   "outputs": [],
   "source": [
    "arb_finder = bot._get_arb_finder(\"multi\")\n",
    "finder = arb_finder(\n",
    "            flashloan_tokens=flashloan_tokens,\n",
    "            CCm=CCm,\n",
    "            mode=\"bothin\",\n",
    "            result=bot.AO_CANDIDATES,\n",
    "            ConfigObj=bot.ConfigObj,\n",
    "        )\n",
    "r = finder.find_arbitrage()\n",
    "\n",
    "#arb_opp = r[0]\n",
    "\n",
    "\n",
    "assert len(r) >= 26, f\"[NB047 Randomizer], expected at least 26 arbs, found {len(r)}\"\n",
    "\n",
    "\n",
    "arb_opp_0 = bot.randomize(arb_opps=r, randomizer=0)\n",
    "arb_opp_1 = bot.randomize(arb_opps=r, randomizer=1)\n",
    "arb_opp_2 = bot.randomize(arb_opps=r, randomizer=1)\n",
    "arb_opp_3 = bot.randomize(arb_opps=r, randomizer=1)\n",
    "arb_opp_25 = bot.randomize(arb_opps=r, randomizer=1)\n",
    "arb_opp_None = bot.randomize(arb_opps=None, randomizer=5)\n",
    "\n",
    "assert len(arb_opp_0) == 5, f\"[NB047 Randomizer], expected 1 arb back from randomizer with length of 5, found length of {len(arb_opp_0)}\"\n",
    "assert len(arb_opp_1) == 5, f\"[NB047 Randomizer], expected 1 arb back from randomizer with length of 5, found length of {len(arb_opp_1)}\"\n",
    "assert len(arb_opp_2) == 5, f\"[NB047 Randomizer], expected 1 arb back from randomizer with length of 5, found length of {len(arb_opp_2)}\"\n",
    "assert len(arb_opp_3) == 5, f\"[NB047 Randomizer], expected 1 arb back from randomizer with length of 5, found length of {len(arb_opp_3)}\"\n",
    "assert len(arb_opp_25) == 5, f\"[NB047 Randomizer], expected 1 arb back from randomizer with length of 5, found length of {len(arb_opp_25)}\"\n",
    "assert isinstance(np.float64(arb_opp_0[0]), np.floating), f\"[NB047 Randomizer], expected first value back from randomizer to be of type np.float64, found type {type(arb_opp_0[0])}\"\n",
    "assert isinstance(np.float64(arb_opp_1[0]), np.floating), f\"[NB047 Randomizer], expected first value back from randomizer to be of type np.float64, found type {type(arb_opp_1[0])}\"\n",
    "assert isinstance(np.float64(arb_opp_2[0]), np.floating), f\"[NB047 Randomizer], expected first value back from randomizer to be of type np.float64, found type {type(arb_opp_2[0])}\""
   ]
  },
  {
   "cell_type": "code",
   "execution_count": 4,
   "id": "567160d1-0405-4903-8800-2304b38fb7b5",
   "metadata": {
    "ExecuteTime": {
     "end_time": "2023-09-18T18:21:38.177545Z",
     "start_time": "2023-09-18T18:21:38.172495Z"
    }
   },
   "outputs": [],
   "source": [
    "assert isinstance(np.float64(arb_opp_3[0]), np.floating), f\"[NB047 Randomizer], expected first value back from randomizer to be of type np.float64, found type {type(arb_opp_3[0])}\"\n",
    "assert isinstance(np.float64(arb_opp_25[0]), np.floating), f\"[NB047 Randomizer], expected first value back from randomizer to be of type np.float64, found type {type(arb_opp_25[0])}\""
   ]
  },
  {
   "cell_type": "code",
   "execution_count": 5,
   "id": "740698cc-44c9-4f50-8272-dbda56ef2c82",
   "metadata": {
    "ExecuteTime": {
     "end_time": "2023-09-18T18:21:38.181278Z",
     "start_time": "2023-09-18T18:21:38.175552Z"
    }
   },
   "outputs": [
    {
     "data": {
      "text/plain": [
       "({'cid': '0x5a20e2a39df1d6f3bb82a170240097dae5543dabf32ae0dc31c785ce6eb3fe15',\n",
       "  'tknin': '0xC02aaA39b223FE8D0A0e5C4F27eAD9083C756Cc2',\n",
       "  'amtin': 0.031144523818511516,\n",
       "  'tknout': '0xdAC17F958D2ee523a2206206994597C13D831ec7',\n",
       "  'amtout': -68.85822284221649,\n",
       "  'error': None},\n",
       " {'cid': '2722258935367507707706996859454145691810-1',\n",
       "  'tknin': '0xdAC17F958D2ee523a2206206994597C13D831ec7',\n",
       "  'amtin': 54.28239272775954,\n",
       "  'tknout': '0xC02aaA39b223FE8D0A0e5C4F27eAD9083C756Cc2',\n",
       "  'amtout': -0.027846279919032657,\n",
       "  'error': None},\n",
       " {'cid': '2722258935367507707706996859454145691871-1',\n",
       "  'tknin': '0xdAC17F958D2ee523a2206206994597C13D831ec7',\n",
       "  'amtin': 2.5649059414863586,\n",
       "  'tknout': '0xC02aaA39b223FE8D0A0e5C4F27eAD9083C756Cc2',\n",
       "  'amtout': -0.001335888373432681,\n",
       "  'error': None},\n",
       " {'cid': '2722258935367507707706996859454145691951-1',\n",
       "  'tknin': '0xdAC17F958D2ee523a2206206994597C13D831ec7',\n",
       "  'amtin': 2.582404773682356,\n",
       "  'tknout': '0xC02aaA39b223FE8D0A0e5C4F27eAD9083C756Cc2',\n",
       "  'amtout': -0.0013338867629499873,\n",
       "  'error': None},\n",
       " {'cid': '2722258935367507707706996859454145692246-1',\n",
       "  'tknin': '0xdAC17F958D2ee523a2206206994597C13D831ec7',\n",
       "  'amtin': 1.1615390736465088,\n",
       "  'tknout': '0xC02aaA39b223FE8D0A0e5C4F27eAD9083C756Cc2',\n",
       "  'amtout': -0.0006284687413475876,\n",
       "  'error': None})"
      ]
     },
     "execution_count": 5,
     "metadata": {},
     "output_type": "execute_result"
    }
   ],
   "source": [
    "arb_opp_0[2]"
   ]
  },
  {
   "cell_type": "code",
   "execution_count": 6,
   "id": "02fda49d-c3e8-45b3-bbb5-230fc479f2f7",
   "metadata": {
    "ExecuteTime": {
     "end_time": "2023-09-18T18:21:38.185544Z",
     "start_time": "2023-09-18T18:21:38.181744Z"
    }
   },
   "outputs": [],
   "source": [
    "assert type(arb_opp_0[2])  == tuple, f\"[NB047 Randomizer], expected third value back from randomizer to be of type list, found type {type(arb_opp_0[2])}\"\n",
    "assert type(arb_opp_1[2])  == tuple, f\"[NB047 Randomizer], expected third value back from randomizer to be of type list, found type {type(arb_opp_1[2])}\"\n",
    "assert type(arb_opp_2[2])  == tuple, f\"[NB047 Randomizer], expected third value back from randomizer to be of type list, found type {type(arb_opp_2[2])}\"\n",
    "assert type(arb_opp_3[2])  == tuple, f\"[NB047 Randomizer], expected third value back from randomizer to be of type list, found type {type(arb_opp_3[2])}\"\n",
    "assert type(arb_opp_25[2]) == tuple, f\"[NB047 Randomizer], expected third value back from randomizer to be of type list, found type {type(arb_opp_25[2])}\""
   ]
  },
  {
   "cell_type": "code",
   "execution_count": 7,
   "id": "e02806ee-10e9-4ae0-acab-e1e48ce69b90",
   "metadata": {
    "ExecuteTime": {
     "end_time": "2023-09-18T18:21:38.189109Z",
     "start_time": "2023-09-18T18:21:38.184749Z"
    }
   },
   "outputs": [],
   "source": [
    "assert arb_opp_None == None, f\"[NB047 Randomizer], expected randomizer to return None when it receives None, but it returned {type(arb_opp_None)}\""
   ]
  },
  {
   "cell_type": "markdown",
   "id": "f145cc39",
   "metadata": {},
   "source": [
    "## Test_sorted_by_profit"
   ]
  },
  {
   "cell_type": "code",
   "execution_count": 8,
   "id": "b4442276",
   "metadata": {
    "ExecuteTime": {
     "end_time": "2023-09-18T18:21:38.211658Z",
     "start_time": "2023-09-18T18:21:38.193789Z"
    }
   },
   "outputs": [],
   "source": [
    "arb_opps = [(2.6927646232907136, [{'cid': '0xe37abfaee752c24a764955cbb2d10c3c9f88472263cbd2c00ca57facb0f128fe', 'tknin': 'WETH-6Cc2', 'amtin': 0.003982724863828224, 'tknout': 'BNT-FF1C', 'amtout': -19.27862435251882, 'error': None}, {'cid': '3743106036130323098097120681749450326076-0', 'tknin': 'BNT-FF1C', 'amtin': 16.585859729228105, 'tknout': 'WETH-6Cc2', 'amtout': -0.003982724874543209, 'error': None}]\n",
    "), (2.5352758371554955, [{'cid': '0x748ab2bef0d97e5a044268626e6c9c104bab818605d44f650fdeaa03a3c742d2', 'tknin': 'WETH-6Cc2', 'amtin': 0.003982718826136988, 'tknout': 'BNT-FF1C', 'amtout': -19.1211355663836, 'error': None}, {'cid': '3743106036130323098097120681749450326076-0', 'tknin': 'BNT-FF1C', 'amtin': 16.585859729228105, 'tknout': 'WETH-6Cc2', 'amtout': -0.003982724874543209, 'error': None}]\n",
    "), (1.9702345513100596, [{'cid': '0xc4771395e1389e2e3a12ec22efbb7aff5b1c04e5ce9c7596a82e9dc8fdec725b', 'tknin': 'BNT-FF1C', 'amtin': 750.6057364856824, 'tknout': 'USDC-eB48', 'amtout': -293.5068652469199, 'error': None}, {'cid': '2381976568446569244243622252022377480332-1', 'tknin': 'USDC-eB48', 'amtin': 292.73623752593994, 'tknout': 'BNT-FF1C', 'amtout': -750.6057367324829, 'error': None}]\n",
    "), (2.67115241495777, [{'cid': '0xe37abfaee752c24a764955cbb2d10c3c9f88472263cbd2c00ca57facb0f128fe', 'tknin': 'WETH-6Cc2', 'amtin': 0.0034263543081607395, 'tknout': 'BNT-FF1C', 'amtout': -16.58585974665766, 'error': None}, {'cid': '3743106036130323098097120681749450326076-0', 'tknin': 'BNT-FF1C', 'amtin': 16.585859729228105, 'tknout': 'WETH-6Cc2', 'amtout': -0.003982724874543209, 'error': None}]\n",
    "), (2.535310217715329, [{'cid': '0x748ab2bef0d97e5a044268626e6c9c104bab818605d44f650fdeaa03a3c742d2', 'tknin': 'WETH-6Cc2', 'amtin': 0.003454648687693407, 'tknout': 'BNT-FF1C', 'amtout': -16.58585971966386, 'error': None}, {'cid': '3743106036130323098097120681749450326076-0', 'tknin': 'BNT-FF1C', 'amtin': 16.585859729228105, 'tknout': 'WETH-6Cc2', 'amtout': -0.003982724874543209, 'error': None}]\n",
    "), (5.438084583685771, [{'cid': '0x8f9771f2886aa12c1659c275b8e305f58c7c41ba82df03bb21c0bcac98ffde4b', 'tknin': 'WETH-6Cc2', 'amtin': 0.002847350733645726, 'tknout': 'HEX-eb39', 'amtout': -556.3312638401985, 'error': None}, {'cid': '14291859410679415465461733512134264881242-0', 'tknin': 'HEX-eb39', 'amtin': 556.3312644516602, 'tknout': 'WETH-6Cc2', 'amtout': -0.003980041696137606, 'error': None}]\n",
    "), (5.400385044154462, [{'cid': '0x3a98798837e610ac07762e2d58f29f0cf96297a2528f86e0fe9b903b1e45a204', 'tknin': 'WETH-6Cc2', 'amtin': 0.0028413006787388895, 'tknout': 'HEX-eb39', 'amtout': -553.6187023743987, 'error': None}, {'cid': '14291859410679415465461733512134264881242-0', 'tknin': 'HEX-eb39', 'amtin': 553.6187027173414, 'tknout': 'WETH-6Cc2', 'amtout': -0.003966139257351835, 'error': None}]\n",
    "), (1.9713220433332026, [{'cid': '0xc4771395e1389e2e3a12ec22efbb7aff5b1c04e5ce9c7596a82e9dc8fdec725b', 'tknin': 'BNT-FF1C', 'amtin': 748.6344146891497, 'tknout': 'USDC-eB48', 'amtout': -292.73623879346997, 'error': None}, {'cid': '2381976568446569244243622252022377480332-1', 'tknin': 'USDC-eB48', 'amtin': 292.73623752593994, 'tknout': 'BNT-FF1C', 'amtout': -750.6057367324829, 'error': None}]\n",
    "), (8.465616944048316, [{'cid': '0x5b5f170977fe879c965a9fec9aeba4dfe29659f503cd5fe6e67349bdc3089295', 'tknin': '0x0-1AD5', 'amtin': 359.7323400862515, 'tknout': 'WETH-6Cc2', 'amtout': -0.0070300615800533706, 'error': None}, {'cid': '9868188640707215440437863615521278132277-1', 'tknin': 'WETH-6Cc2', 'amtin': 0.00526677017535393, 'tknout': '0x0-1AD5', 'amtout': -359.73234041399974, 'error': None}]\n",
    "), (6.717558869249757, [{'cid': '0x1eda42a2cced5e9cfffe1b15d7c39253514267401c5bd2e9ca28287f8a996fde', 'tknin': 'rETH-6393', 'amtin': 0.2496827895520255, 'tknout': 'WETH-6Cc2', 'amtout': -0.26914170442614704, 'error': None}, {'cid': '3062541302288446171170371466885913903202-0', 'tknin': 'WETH-6Cc2', 'amtin': 0.267742513570596, 'tknout': 'rETH-6393', 'amtout': -0.2496827897163172, 'error': None}]\n",
    ")]\n",
    "\n",
    "ops = bot.randomize(arb_opps=arb_opps, randomizer=3)\n",
    "\n",
    "assert iseq(ops[0], 8.465616944048316) or iseq(ops[0], 6.717558869249757) or iseq(ops[0], 5.438084583685771), f\"[NB047 Randomizer], expected randomizer to return top 3 most profitable arbs, but it did not!\""
   ]
  },
  {
   "cell_type": "code",
   "execution_count": null,
   "id": "a3fc926e-bc3e-438d-be10-fdce60b8619c",
   "metadata": {
    "ExecuteTime": {
     "end_time": "2023-09-18T18:21:38.216117Z",
     "start_time": "2023-09-18T18:21:38.195758Z"
    }
   },
   "outputs": [],
   "source": []
  }
 ],
 "metadata": {
  "jupytext": {
   "formats": "ipynb,py:light"
  },
  "kernelspec": {
   "display_name": "Python 3",
   "language": "python",
   "name": "python3"
  },
  "language_info": {
   "codemirror_mode": {
    "name": "ipython",
    "version": 3
   },
   "file_extension": ".py",
   "mimetype": "text/x-python",
   "name": "python",
   "nbconvert_exporter": "python",
   "pygments_lexer": "ipython3",
   "version": "3.10.1"
  }
 },
 "nbformat": 4,
 "nbformat_minor": 5
}
